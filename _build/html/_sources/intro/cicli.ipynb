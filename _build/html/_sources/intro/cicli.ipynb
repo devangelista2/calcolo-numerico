{
 "cells": [
  {
   "cell_type": "markdown",
   "metadata": {},
   "source": [
    "# I cicli `for` e `while`"
   ]
  },
  {
   "cell_type": "markdown",
   "metadata": {},
   "source": [
    "I cicli sono fondamentali per automatizzare operazioni che richiedono una ripetizione di alcune istruzioni. Ad esempio, durante il corso utilizzeremo più volte i cicli per implementare algoritmi iterativi, con lo scopo di risolvere un problema di algebra lineare. \n",
    "\n",
    "In Python, ci sono due tipologie principali di cicli: i cicli a orizzonte determinato (ciclo `for`), e quelli a orizzonte indeterminato (ciclo `while`)."
   ]
  },
  {
   "cell_type": "markdown",
   "metadata": {},
   "source": [
    "### Ciclo `for`\n",
    "\n",
    "La sintassi del ciclo for è la seguente:\n",
    "\n",
    "```\n",
    "for <VARIABILE> in <ITERABILE>:\n",
    "    <RIPETIZIONE>\n",
    "```\n",
    "\n",
    "Andiamo a spiegare i singoli termini che compaiono nell'algoritmo sopra. La definizione del ciclo inizia definendo una variabile (sopra indicata dal placeholder `<VARIABILE>`, che viene inizializzata all'interno del ciclo e non deve, quindi, essere già stata utilizzata precedentemente nel codice), assieme ad un iterabile (una `lista`, `tupla`, `stringa` o un `generatore`). All'inizio del ciclo, `<VARIABILE>` viene inizializzata col primo valore dell'iterabile, e il codice all'interno del corpo del ciclo viene eseguito assegnando tale valore alla variabile.\n",
    "\n",
    "Dopodiché, il valore di `<VARIABILE>` si aggiorna, acquisendo il valore del secondo termine di `<ITERABILE>`, e il corpo del ciclo viene ripetuto col nuovo valore. Questa operazione viene ripetuta finché `<VARIABILE>` non assume l'ultimo valore presente in `<ITERABILE>`. A quel punto, il ciclo termina e l'esecuzione del codice continua tranquillamente."
   ]
  },
  {
   "cell_type": "code",
   "execution_count": null,
   "metadata": {},
   "outputs": [],
   "source": [
    "# Inizializzo un iterabile\n",
    "iterable = (2, 1, 4, 3)\n",
    "for n in iterable:\n",
    "    print(n)"
   ]
  },
  {
   "cell_type": "markdown",
   "metadata": {},
   "source": [
    "L'utilizzo più comune del ciclo `for` vuole che la variabile del ciclo assuma valori crescenti, partendo da 0 e arrivando ad un certo valore prefissato. Per ottenere questo risultato, è possibile utilizzare la funzione Python `range(START, STOP, STEP)` che ritorna un generatore contenente valori numerici da `START` (incluso) a `STOP` (escluso) con passo uguale a `STEP`. Ad esempio:"
   ]
  },
  {
   "cell_type": "code",
   "execution_count": null,
   "metadata": {},
   "outputs": [],
   "source": [
    "# Stampa i numeri da 0 a 4\n",
    "for i in range(5): # quando un solo valore è specificato -> START = 0, STEP = 1.\n",
    "    print(i)"
   ]
  },
  {
   "cell_type": "markdown",
   "metadata": {},
   "source": [
    "```{note}\n",
    "Il numero di iterazioni del ciclo NON viene pre-calcolato. Quindi, allungare o accorciare l'iterabile durante le iterazioni modifica il numero di iterazioni del ciclo.\n",
    "\n",
    "Ad esempio, il seguente codice (se eseguito) genera un ciclo infinito.\n",
    "```"
   ]
  },
  {
   "cell_type": "code",
   "execution_count": null,
   "metadata": {},
   "outputs": [],
   "source": [
    "\"\"\"\n",
    "# Definisco un iterabile\n",
    "iterable = [1, 2, 3, 4, 5]\n",
    "for i in iterable:\n",
    "    print(i)\n",
    "    iterable.insert(i+1, i-1)\n",
    "    iterable.append(i)\n",
    "print(iterable)\n",
    "\"\"\""
   ]
  },
  {
   "cell_type": "markdown",
   "metadata": {},
   "source": [
    "### Ciclo `while`\n",
    "La sintassi del ciclo `while` è la seguente:\n",
    "\n",
    "```\n",
    "while <CONDIZIONE>:\n",
    "    <RIPETIZIONE>\n",
    "```\n",
    "\n",
    "e il suo funzionamento è estremamente intuitivo: finché la condizione (che _DEVE_ essere una variabile booleana) continua a valere `True`, il ciclo continua ad eseguirsi."
   ]
  },
  {
   "cell_type": "code",
   "execution_count": null,
   "metadata": {},
   "outputs": [],
   "source": [
    "# Inizializzo la condizione\n",
    "continua: bool = True\n",
    "\n",
    "# Inizializzo una variabile intera (per esempio)\n",
    "i = 0\n",
    "\n",
    "# Ciclo while\n",
    "while continua:\n",
    "    if i == 5:\n",
    "        continua = False\n",
    "    print(i)\n",
    "\n",
    "    # Aggiornamento della variabile\n",
    "    i = i + 1"
   ]
  },
  {
   "cell_type": "markdown",
   "metadata": {},
   "source": [
    "```{warning}\n",
    "Uno degli aspetti più delicati del ciclo while è la possibilità di cadere in un ciclo infinito (che avviene quando la variabile `<CONDIZIONE>` rimane sempre `True`). Per evitare che questo accada, è buona norma definire una condizione di arresto per numero massimo di cicli.\n",
    "\n",
    "Questo può essere ottenuto anche tramite il comando Python `break` che, quando invocato, termina immediatamente il ciclo in corso (vale sia per cicli `for` che `while`).\n",
    "```"
   ]
  },
  {
   "cell_type": "code",
   "execution_count": null,
   "metadata": {},
   "outputs": [],
   "source": [
    "# Inizializzo la condizione\n",
    "continua: bool = True\n",
    "maxiter: int = 10 # Numero massimo di iterazioni del ciclo\n",
    "\n",
    "# Inizializzo una variabile intera (per esempio)\n",
    "i = 0\n",
    "\n",
    "# Ciclo while\n",
    "while continua:\n",
    "    if i < 0: # NON si verificherà mai\n",
    "        continua = False\n",
    "    print(i)\n",
    "\n",
    "    # Aggiornamento della variabile\n",
    "    i = i + 1\n",
    "\n",
    "    # Stoppo il codice se supera le iterazioni massime\n",
    "    if i == maxiter:\n",
    "        break"
   ]
  }
 ],
 "metadata": {
  "language_info": {
   "name": "python"
  }
 },
 "nbformat": 4,
 "nbformat_minor": 2
}
