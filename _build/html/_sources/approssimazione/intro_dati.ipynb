{
 "cells": [
  {
   "cell_type": "markdown",
   "metadata": {},
   "source": [
    "## Caricamento dei Dati e Visualizzazione\n",
    "\n",
    "Una delle applicazioni più rilevanti ed impattanti dell'algebra lineare numerica c'è sicuramente quella dell'approssimazione dei dati. Infatti, è un problema molto comune in praticamente tutti gli ambiti della scienza quella di utilizzare dei dati *misurati* facenti riferimento ad un particolare fenomeno, per addestrare un modello matematico ad effettuare previsioni **future** di come il fenomeno si comporterà, oppure per riempire *buchi* nei dati, dovuti a mancate misurazioni o semplicemente a tempi molto lunghi di acquisizione.\n",
    "\n",
    "Un recente esempio di applicazioni di queste tecniche si sono viste durante l'epidemia di Covid-19, dove gruppi di virologi si *sfidavano* a colpi di modelli di previsione, per stimare come si sarebbe evoluta l'epidemia nei mesi a seguire. O, ancora, modelli di previsione dai dati si utilizzano al giorno d'oggi per stimare l'impatto di tecnologie emergenti sulle emissioni di anidride carbonica, e di come l'incremento di tale gas nell'atmosfera stia portando ad un chiaro innalzamento delle temperature globali.\n",
    "\n",
    "Per poter studiare come questi modelli vengono implementati, bisogna prima imparare a caricare in memoria e visualizzare le informazioni contenute in questi dati. \n",
    "\n",
    "La libreria Python di riferimento in questo caso è `pandas`, che può essere semplicemente scaricata tramite comandi\n",
    "\n",
    "```\n",
    "pip install pandas\n",
    "```\n",
    "\n",
    "o, equivalentemente,\n",
    "\n",
    "```\n",
    "conda install pandas\n",
    "```\n",
    "\n",
    "E' fuori dagli scopi di questo corso uno studio approfondito sull'utilizzo di `pandas` per l'analisi dei dati. Per gli interessati, rimando alla pagina ufficiale della libreria https://pandas.pydata.org."
   ]
  },
  {
   "cell_type": "markdown",
   "metadata": {},
   "source": [
    "## Caricamento dei dati in memoria\n",
    "Di seguito in questa sezione, prenderemo come esempio il dataset del numero di contagiati da Covid-19, disponibile su Kaggle all'indirizzo: https://www.kaggle.com/datasets/imdevskp/corona-virus-report. In particolare, ci interesserà il dataset `day_wise.csv`, presente nella cartella scaricabile da Kaggle, e inserito per semplicità nel percorso relativo `./data/day_wise.csv` del progetto corrente.\n",
    "\n",
    "Andiamo quindi ad importare `pandas` e a caricare il dataset in memoria."
   ]
  },
  {
   "cell_type": "code",
   "execution_count": null,
   "metadata": {},
   "outputs": [],
   "source": [
    "import pandas as pd\n",
    "\n",
    "# Set data path\n",
    "data_path = \"./data/day_wise.csv\"\n",
    "\n",
    "# Load data\n",
    "data = pd.read_csv(data_path)\n",
    "print(data.info())"
   ]
  },
  {
   "cell_type": "markdown",
   "metadata": {},
   "source": [
    "Di questi dati, siamo interessati a visualizzare, ad esempio, l'andamento dei nuovi casi al variare del tempo. Estraiamo quindi le colonne corrispettive e convertiamo la data in un formato più semplice da utilizzare (ovvero un numero intero che descrive il giorno a partire dal giorno zero del primo contagio)."
   ]
  },
  {
   "cell_type": "code",
   "execution_count": 25,
   "metadata": {},
   "outputs": [],
   "source": [
    "# Estriamo data (x) e nuovi casi (y)\n",
    "x = pd.to_datetime(data['Date'])\n",
    "y = data[\"New cases\"]\n",
    "\n",
    "# Convertiamo la data (x) in un intero incrementale\n",
    "x = (x - x.min()).dt.days"
   ]
  },
  {
   "cell_type": "markdown",
   "metadata": {},
   "source": [
    "Per finire, è buona norma convertire i valori degli array `x` e `y` in `ndarray`, così da poter utilizzare su di essi le funzioni `numpy` che abbiamo imparato nelle precedenti lezioni."
   ]
  },
  {
   "cell_type": "code",
   "execution_count": null,
   "metadata": {},
   "outputs": [],
   "source": [
    "import numpy as np\n",
    "\n",
    "# Convertiamo x e y in numpy array\n",
    "x = np.array(x)\n",
    "y = np.array(y)\n",
    "print(f\"Shape of x: {x.shape}, Shape of y: {y.shape}.\")"
   ]
  },
  {
   "cell_type": "markdown",
   "metadata": {},
   "source": [
    "## Visualizzazione\n",
    "Una volta caricati i dati in memoria, possiamo passare alla visualizzazione. Per farlo, utilizziamo semplicemente `matplotlib` come abbiamo imparato a fare nella relativa lezione."
   ]
  },
  {
   "cell_type": "code",
   "execution_count": null,
   "metadata": {},
   "outputs": [],
   "source": [
    "import matplotlib.pyplot as plt\n",
    "\n",
    "# Visualizzazione\n",
    "plt.plot(x, y, 'o')\n",
    "plt.grid()\n",
    "plt.xlabel(\"Giorno\")\n",
    "plt.ylabel(\"Numero nuovi contagi\")\n",
    "plt.title(\"Numero di contagi nel tempo\")\n",
    "plt.show()"
   ]
  },
  {
   "cell_type": "markdown",
   "metadata": {},
   "source": [
    "Da questo grafico si osservano chiaramente due proprietà chiave tipiche di praticamente qualsiasi collezione di dati, e che saranno utili nella prossima parte del corso:\n",
    "\n",
    "1. I dati seguono l'andamento di una **curva** relativamente complessa, ma con un pattern chiaramente riconoscibile.\n",
    "2. I dati **NON** sono disposti in maniera precisa lungo la curva, ma mostrano un comportamento casuale: sono affetti da *rumore*.\n",
    "\n",
    "Il compito di un modello di approssimazione è quello di utilizzare degli algoritmi di algebra lineare per definire un modello in grado di recuperare il comportamento **generale** della curva dei dati, ignorando però il rumore che è frutto semplicemente di fluttuazioni casuali. In pratica, vogliamo recuperare il comportamento **medio** dei dati.\n",
    "\n",
    "Se siamo in grado di ottenere questo risultato, possiamo aspettarci che la curva dei dati manterrà un comportamento simile almeno per i successivi giorni, e possiamo utilizzare la nostra approssimazione per prevedere l'andamento futuro dei dati.\n",
    "Inoltre, studiando le proporietà matematiche della funzione approssimante (ad esempio, la sua derivata prima, derivata seconda, ecc.) possiamo ricavare alcune importanti proprietà dei dati considerati, come ad esempio se l'andamento attuale è in crescita/decrescita, o se la crescita/descrescita sta accellerando/decellerando. Tali proprietà sono particolarmente utili per organizzare strategie di risposta ai contagi, oppure per verificare se una data strategia applicata sta funzionando o meno."
   ]
  }
 ],
 "metadata": {
  "kernelspec": {
   "display_name": "teaching",
   "language": "python",
   "name": "python3"
  },
  "language_info": {
   "codemirror_mode": {
    "name": "ipython",
    "version": 3
   },
   "file_extension": ".py",
   "mimetype": "text/x-python",
   "name": "python",
   "nbconvert_exporter": "python",
   "pygments_lexer": "ipython3",
   "version": "3.12.4"
  }
 },
 "nbformat": 4,
 "nbformat_minor": 2
}
