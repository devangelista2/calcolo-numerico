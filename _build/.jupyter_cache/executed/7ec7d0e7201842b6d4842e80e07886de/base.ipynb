{
 "cells": [
  {
   "cell_type": "code",
   "execution_count": 1,
   "metadata": {},
   "outputs": [
    {
     "name": "stdout",
     "output_type": "stream",
     "text": [
      "/Users/davideevangelista/calcolo-numerico/intro\n",
      "/Users/davideevangelista/Desktop\n"
     ]
    }
   ],
   "source": [
    "import os\n",
    "\n",
    "# Visualizza la directory di lavoro corrente\n",
    "print(os.getcwd())\n",
    "\n",
    "# Modifica la directory di lavoro (se necessario)\n",
    "os.chdir(\"/Users/davideevangelista/Desktop\")\n",
    "print(os.getcwd())  # Verifica che la working directory sia cambiata"
   ]
  },
  {
   "cell_type": "code",
   "execution_count": 2,
   "metadata": {},
   "outputs": [
    {
     "name": "stdout",
     "output_type": "stream",
     "text": [
      "./data/esempio.txt\n",
      "False\n"
     ]
    }
   ],
   "source": [
    "# Consideriamo una cartella \"data\", e supponiamo di avere al suo interno un file\n",
    "# \"esempio.txt\"\n",
    "data_path = \"./data\"\n",
    "file_name = \"esempio.txt\"\n",
    "\n",
    "# Costruiamo il percorso per il file\n",
    "path_file = os.path.join(data_path, file_name)\n",
    "print(path_file)\n",
    "\n",
    "# Verifica se il path per il file esiste, se no, costuiamolo\n",
    "if os.path.exists(data_path):\n",
    "    os.makedirs(data_path, exist_ok=True)\n",
    "\n",
    "# Vediamo se ora esiste\n",
    "print(os.path.exists(data_path))"
   ]
  },
  {
   "cell_type": "code",
   "execution_count": 3,
   "metadata": {},
   "outputs": [
    {
     "name": "stdout",
     "output_type": "stream",
     "text": [
      "[]\n",
      "[]\n"
     ]
    }
   ],
   "source": [
    "import glob\n",
    "\n",
    "# Cerca tutti i file .txt nella directory ./data\n",
    "data_path = \"./data\"\n",
    "file_txt = glob.glob(os.path.join(data_path, \"*.txt\"))\n",
    "print(file_txt)\n",
    "\n",
    "# Oppure in tutte le sue sub-directory\n",
    "file_python = glob.glob(os.path.join(data_path, \"**\", \"*.txt\"), recursive=True)\n",
    "print(file_python)"
   ]
  },
  {
   "cell_type": "code",
   "execution_count": 4,
   "metadata": {},
   "outputs": [],
   "source": [
    "import os\n",
    "\n",
    "# Creiamo una stringa da salvare\n",
    "s = \"Questa stringa contiene informazioni importanti, da tenere in memoria.\"\n",
    "\n",
    "# Definiamo il path\n",
    "path = os.path.join(\"logs\", \"nome_file.txt\")\n",
    "os.makedirs(\"logs\", exist_ok=True)\n",
    "\n",
    "# Apriamo il file\n",
    "with open(path, mode=\"w\") as f:\n",
    "    # All'interno del \"with\" posso lavorare sul file, chiamato \"f\"\n",
    "    f.write(s)\n",
    "\n",
    "# Fuori dal \"with\", il file è stato chiso"
   ]
  },
  {
   "cell_type": "code",
   "execution_count": 5,
   "metadata": {},
   "outputs": [
    {
     "name": "stdout",
     "output_type": "stream",
     "text": [
      "Questa stringa contiene informazioni importanti, da tenere in memoria.\n"
     ]
    }
   ],
   "source": [
    "# Andiamo a leggere il contenuto del file appena creato\n",
    "with open(path, \"r\") as f:\n",
    "    s = f.read()\n",
    "print(s)"
   ]
  },
  {
   "cell_type": "code",
   "execution_count": 6,
   "metadata": {},
   "outputs": [],
   "source": [
    "import json\n",
    "import os\n",
    "\n",
    "# Generiamo un dizionario di esempio\n",
    "config = {\n",
    "    \"nome_algoritmo\": \"MetodoDiscesa\",\n",
    "    \"parametro1\": 10,\n",
    "    \"parametro2\": 0.01,\n",
    "}\n",
    "\n",
    "# Definiamo il path (come prima)\n",
    "path = os.path.join(\"logs\", \"config.json\")\n",
    "\n",
    "# Apriamo un file json in lettura\n",
    "with open(path, \"w\") as f:\n",
    "    json.dump(config, f)"
   ]
  },
  {
   "cell_type": "code",
   "execution_count": 7,
   "metadata": {},
   "outputs": [
    {
     "name": "stdout",
     "output_type": "stream",
     "text": [
      "{'nome_algoritmo': 'MetodoDiscesa', 'parametro1': 10, 'parametro2': 0.01}\n"
     ]
    }
   ],
   "source": [
    "import json\n",
    "import os\n",
    "\n",
    "# Definiamo il path (come prima)\n",
    "path = os.path.join(\"logs\", \"config.json\")\n",
    "\n",
    "# Apriamo un file json in lettura\n",
    "with open(path, \"r\") as f:\n",
    "    config = json.load(f)\n",
    "\n",
    "print(config)"
   ]
  },
  {
   "cell_type": "code",
   "execution_count": 8,
   "metadata": {},
   "outputs": [],
   "source": [
    "import pickle\n",
    "\n",
    "# Definiamo un qualunque oggetto Python (ad esempio, una lista)\n",
    "a = [1, 3, (\"c\", \"i\", \"a\", \"o\")]\n",
    "\n",
    "# Definiamo il path\n",
    "path = os.path.join(\"logs\", \"file.pickle\")\n",
    "\n",
    "# Salviamo con Pickle\n",
    "with open(path, \"wb\") as f:\n",
    "    pickle.dump(a, f)"
   ]
  },
  {
   "cell_type": "code",
   "execution_count": 9,
   "metadata": {},
   "outputs": [
    {
     "name": "stdout",
     "output_type": "stream",
     "text": [
      "[1, 3, ('c', 'i', 'a', 'o')]\n"
     ]
    }
   ],
   "source": [
    "# Leggiamo il file pickle\n",
    "with open(path, \"rb\") as f:\n",
    "    b = pickle.load(f)\n",
    "print(b)"
   ]
  }
 ],
 "metadata": {
  "kernelspec": {
   "display_name": "teaching",
   "language": "python",
   "name": "python3"
  },
  "language_info": {
   "codemirror_mode": {
    "name": "ipython",
    "version": 3
   },
   "file_extension": ".py",
   "mimetype": "text/x-python",
   "name": "python",
   "nbconvert_exporter": "python",
   "pygments_lexer": "ipython3",
   "version": "3.12.4"
  }
 },
 "nbformat": 4,
 "nbformat_minor": 2
}