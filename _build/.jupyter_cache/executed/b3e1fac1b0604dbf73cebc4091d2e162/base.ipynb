{
 "cells": [
  {
   "cell_type": "code",
   "execution_count": 1,
   "metadata": {},
   "outputs": [
    {
     "name": "stdout",
     "output_type": "stream",
     "text": [
      "Condizione if verificata\n"
     ]
    }
   ],
   "source": [
    "# Definire una variabile booleana di check\n",
    "condizione_vera = True\n",
    "\n",
    "if condizione_vera:\n",
    "    print(\"Condizione if verificata\")\n",
    "else:\n",
    "    print(\"Condizione else verificata\")"
   ]
  },
  {
   "cell_type": "code",
   "execution_count": 2,
   "metadata": {},
   "outputs": [
    {
     "name": "stdout",
     "output_type": "stream",
     "text": [
      "Il numero è pari.\n"
     ]
    }
   ],
   "source": [
    "# Definiamo il numero n\n",
    "n: int = 20\n",
    "\n",
    "if n%2 == 0: # I numeri pari hanno resto 0 nella divisione per 2\n",
    "    print(\"Il numero è pari.\")\n",
    "else: # Non ci sono altre possibilità oltre che pari e dispari\n",
    "    print(\"Il numero è dispari.\")"
   ]
  },
  {
   "cell_type": "code",
   "execution_count": 3,
   "metadata": {},
   "outputs": [],
   "source": [
    "# Dichiariamo tre variabili numeriche\n",
    "a: int = 4\n",
    "b: int = 2\n",
    "c: int = 3\n",
    "\n",
    "# Controlliamo che la prima sia maggiore della seconda\n",
    "condizione_1 = a > b\n",
    "\n",
    "# Controlliamo che la prima sia minore della terza alla seconda\n",
    "condizione_2 = a < c**2\n",
    "\n",
    "# Se la prima è verificata, mentre la seconda no, restituire \"Ok!\"\n",
    "if (condizione_1) and (not condizione_2):\n",
    "    print(\"Ok!\")"
   ]
  },
  {
   "cell_type": "code",
   "execution_count": 4,
   "metadata": {},
   "outputs": [],
   "source": [
    "# Dichiariamo tre variabili numeriche\n",
    "a: int = 4\n",
    "b: int = 2\n",
    "c: int = 3\n",
    "\n",
    "# Controlliamo che la prima sia maggiore della seconda\n",
    "condizione_1 = a > b\n",
    "\n",
    "# Controlliamo che la prima sia minore della terza alla seconda\n",
    "condizione_2 = a < c**2\n",
    "\n",
    "# Se la prima è verificata, mentre la seconda no, restituire \"Ok!\"\n",
    "if (condizione_1) & (not condizione_2):\n",
    "    print(\"Ok!\")"
   ]
  },
  {
   "cell_type": "code",
   "execution_count": 5,
   "metadata": {},
   "outputs": [
    {
     "name": "stdout",
     "output_type": "stream",
     "text": [
      "True\n"
     ]
    }
   ],
   "source": [
    "# Scegliamo 3 numeri\n",
    "a: float = 1.4\n",
    "b: float = 0.3\n",
    "c: float = 1.5\n",
    "\n",
    "condizione = (a + b > c) and (a + c > b) and (b + c  > a)\n",
    "if condizione:\n",
    "    print(True)\n",
    "else:\n",
    "    print(False)"
   ]
  }
 ],
 "metadata": {
  "kernelspec": {
   "display_name": "teaching",
   "language": "python",
   "name": "python3"
  },
  "language_info": {
   "codemirror_mode": {
    "name": "ipython",
    "version": 3
   },
   "file_extension": ".py",
   "mimetype": "text/x-python",
   "name": "python",
   "nbconvert_exporter": "python",
   "pygments_lexer": "ipython3",
   "version": "3.12.4"
  }
 },
 "nbformat": 4,
 "nbformat_minor": 2
}