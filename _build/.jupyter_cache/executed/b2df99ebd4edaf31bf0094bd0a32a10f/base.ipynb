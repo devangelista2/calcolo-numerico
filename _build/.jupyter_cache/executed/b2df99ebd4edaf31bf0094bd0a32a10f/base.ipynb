{
 "cells": [
  {
   "cell_type": "code",
   "execution_count": 1,
   "metadata": {},
   "outputs": [],
   "source": [
    "import numpy as np\n",
    "\n",
    "# Definiamo la funzione f(x, alpha) che prende in input il vettore alpha dei coefficienti e un valore x, e ritorna il valore del rispettivo polinomio\n",
    "def f(x, alpha):\n",
    "    d = alpha.shape[0] - 1 # abbiamo detto che la shape di alpha è (d+1, )\n",
    "\n",
    "    y = 0\n",
    "    for i in range(d+1):\n",
    "        y = y + x ** i\n",
    "    return y"
   ]
  },
  {
   "cell_type": "code",
   "execution_count": 2,
   "metadata": {},
   "outputs": [
    {
     "name": "stdout",
     "output_type": "stream",
     "text": [
      "(x = 3, y = 40)\n"
     ]
    }
   ],
   "source": [
    "# Definiamo alpha_true = (1, 1, ..., 1) \n",
    "# NOTA: si può scegliere un QUALUNQUE vettore alpha_true. Quello indicato è solo un esempio.\n",
    "d = 3 # grado del polinomio\n",
    "alpha_true = np.ones((d+1,))\n",
    "\n",
    "# Scegliamo un valore di x\n",
    "x = 3\n",
    "y = f(x, alpha_true)\n",
    "print(f\"(x = {x}, y = {y})\")"
   ]
  },
  {
   "cell_type": "code",
   "execution_count": 3,
   "metadata": {},
   "outputs": [],
   "source": [
    "# Numero di dati\n",
    "n = 15\n",
    "\n",
    "# Definiamo gli x_i\n",
    "x = np.linspace(0, 1, n)"
   ]
  },
  {
   "cell_type": "code",
   "execution_count": 4,
   "metadata": {},
   "outputs": [],
   "source": [
    "# Definiamo la deviazione standard del rumore\n",
    "sigma = 0.01\n",
    "\n",
    "# Generiamo il rumore\n",
    "e = np.random.normal(loc=0, scale=sigma, size=(n, ))\n",
    "\n",
    "# Inizializziamo y\n",
    "y = np.zeros_like(x)\n",
    "\n",
    "for i in range(n):\n",
    "    y[i] = f(x[i], alpha_true) + e[i]"
   ]
  },
  {
   "cell_type": "code",
   "execution_count": null,
   "metadata": {},
   "outputs": [],
   "source": []
  }
 ],
 "metadata": {
  "kernelspec": {
   "display_name": "teaching",
   "language": "python",
   "name": "python3"
  },
  "language_info": {
   "codemirror_mode": {
    "name": "ipython",
    "version": 3
   },
   "file_extension": ".py",
   "mimetype": "text/x-python",
   "name": "python",
   "nbconvert_exporter": "python",
   "pygments_lexer": "ipython3",
   "version": "3.12.4"
  }
 },
 "nbformat": 4,
 "nbformat_minor": 2
}