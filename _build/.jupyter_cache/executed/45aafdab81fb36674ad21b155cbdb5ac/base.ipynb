{
 "cells": [
  {
   "cell_type": "code",
   "execution_count": 1,
   "metadata": {},
   "outputs": [
    {
     "name": "stdout",
     "output_type": "stream",
     "text": [
      "<class 'numpy.ndarray'>\n",
      "[1 2 3]\n"
     ]
    }
   ],
   "source": [
    "import numpy as np\n",
    "\n",
    "# Creo un vettore numpy\n",
    "a: list[int] = [1, 2, 3]\n",
    "a_vec: np.ndarray = np.array(a)\n",
    "print(type(a_vec)) # Verifichiamo il tipo di dato di a_vec\n",
    "print(a_vec)"
   ]
  },
  {
   "cell_type": "code",
   "execution_count": 2,
   "metadata": {},
   "outputs": [
    {
     "name": "stdout",
     "output_type": "stream",
     "text": [
      "La shape di v è: (4,).\n",
      "La shape di A è: (2, 3).\n"
     ]
    }
   ],
   "source": [
    "# Definiamo un vettore v e una matrice A\n",
    "v = np.array([1, 1, 3, 2])\n",
    "A = np.array([[1, 1, -1],\n",
    "              [0, -1, 1]])\n",
    "\n",
    "# Stampiamo la shape\n",
    "print(f\"La shape di v è: {v.shape}.\")\n",
    "print(f\"La shape di A è: {A.shape}.\")"
   ]
  },
  {
   "cell_type": "code",
   "execution_count": 3,
   "metadata": {},
   "outputs": [
    {
     "name": "stdout",
     "output_type": "stream",
     "text": [
      "float64\n",
      "float32\n"
     ]
    }
   ],
   "source": [
    "# Creiamo un vettore\n",
    "v = np.array([1, 2, 1.2])\n",
    "print(v.dtype) # np.float64\n",
    "\n",
    "# Creiamo lo stesso vettore in precisione singola\n",
    "v = np.array([1, 2, 1.2], dtype=np.float32)\n",
    "print(v.dtype)"
   ]
  },
  {
   "cell_type": "code",
   "execution_count": 4,
   "metadata": {},
   "outputs": [
    {
     "name": "stdout",
     "output_type": "stream",
     "text": [
      "[0.53860875 0.13699224 0.13390741 0.88724061 0.19142975 0.60958048\n",
      " 0.06971019 0.30655518 0.78817803 0.77595642]\n"
     ]
    }
   ],
   "source": [
    "# Creiamo il vettore richiesto\n",
    "v = np.random.rand(10)\n",
    "print(v)"
   ]
  },
  {
   "cell_type": "code",
   "execution_count": 5,
   "metadata": {},
   "outputs": [
    {
     "name": "stdout",
     "output_type": "stream",
     "text": [
      "a = [ 1 -1  0], b = [1. 2. 3.] \n",
      "Somma: [2. 1. 3.] \n",
      "Differenza: [ 0. -3. -3.] \n",
      "Prodotto: [ 1. -2.  0.] \n",
      "Divisione: [ 1.  -0.5  0. ].\n"
     ]
    }
   ],
   "source": [
    "# Creiamo due ndarray\n",
    "a = np.array([1, -1, 0])\n",
    "b = np.linspace(1, 3, 3) # array(1, 2, 3)\n",
    "\n",
    "# Eseguiamo operazioni tra loro\n",
    "s = a + b\n",
    "d = a - b\n",
    "p = a * b\n",
    "f = a / b\n",
    "\n",
    "print(f\"a = {a}, b = {b} \\nSomma: {s} \\nDifferenza: {d} \\nProdotto: {p} \\nDivisione: {f}.\")"
   ]
  },
  {
   "cell_type": "code",
   "execution_count": 6,
   "metadata": {},
   "outputs": [
    {
     "name": "stdout",
     "output_type": "stream",
     "text": [
      "sin(x) = [ 0.00000000e+00  8.66025404e-01 -8.66025404e-01 -2.44929360e-16].\n",
      "cos(x) = [ 1.  -0.5 -0.5  1. ].\n",
      "tan(x) = [ 0.00000000e+00 -1.73205081e+00  1.73205081e+00 -2.44929360e-16].\n",
      "e^x = [  1.           8.1205274   65.9429652  535.49165552].\n",
      "ln(x) = [0.         1.12959244 1.64650057 1.98556831].\n",
      "log_10(x) = [0.         0.49057577 0.71506611 0.86232136].\n"
     ]
    }
   ],
   "source": [
    "# Definiamo un array\n",
    "x = np.linspace(0, 2*np.pi, 4)\n",
    "\n",
    "# Calcoliamone i valori trigonometrici\n",
    "print(f\"sin(x) = {np.sin(x)}.\")\n",
    "print(f\"cos(x) = {np.cos(x)}.\")\n",
    "print(f\"tan(x) = {np.tan(x)}.\")\n",
    "\n",
    "# Ed esponenziale e logaritmo\n",
    "print(f\"e^x = {np.exp(x)}.\")\n",
    "print(f\"ln(x) = {np.log(x + 1)}.\")\n",
    "print(f\"log_10(x) = {np.log10(x + 1)}.\")"
   ]
  },
  {
   "cell_type": "code",
   "execution_count": 7,
   "metadata": {},
   "outputs": [
    {
     "name": "stdout",
     "output_type": "stream",
     "text": [
      "[2 0 1]\n"
     ]
    }
   ],
   "source": [
    "# Definiamo una matrice A e un vettore x\n",
    "A = np.array([[1, 1, 1], [0, -1, 0], [0, 0, 1]])\n",
    "x = np.array([1, 0, 1])\n",
    "\n",
    "# Calcoliamo y = Ax\n",
    "y = A@x\n",
    "print(y)"
   ]
  },
  {
   "cell_type": "code",
   "execution_count": 8,
   "metadata": {},
   "outputs": [
    {
     "name": "stdout",
     "output_type": "stream",
     "text": [
      "(3,) (3,)\n",
      "0\n",
      "(3, 1) (3, 1)\n"
     ]
    },
    {
     "ename": "ValueError",
     "evalue": "matmul: Input operand 1 has a mismatch in its core dimension 0, with gufunc signature (n?,k),(k,m?)->(n?,m?) (size 3 is different from 1)",
     "output_type": "error",
     "traceback": [
      "\u001b[0;31m---------------------------------------------------------------------------\u001b[0m",
      "\u001b[0;31mValueError\u001b[0m                                Traceback (most recent call last)",
      "Cell \u001b[0;32mIn[8], line 15\u001b[0m\n\u001b[1;32m     12\u001b[0m \u001b[38;5;28mprint\u001b[39m(v\u001b[38;5;241m.\u001b[39mshape, w\u001b[38;5;241m.\u001b[39mshape)\n\u001b[1;32m     14\u001b[0m \u001b[38;5;66;03m# Calcoliamone il prodotto scalare\u001b[39;00m\n\u001b[0;32m---> 15\u001b[0m \u001b[38;5;28mprint\u001b[39m(\u001b[43mv\u001b[49m\u001b[43m \u001b[49m\u001b[38;5;241;43m@\u001b[39;49m\u001b[43m \u001b[49m\u001b[43mw\u001b[49m)\n",
      "\u001b[0;31mValueError\u001b[0m: matmul: Input operand 1 has a mismatch in its core dimension 0, with gufunc signature (n?,k),(k,m?)->(n?,m?) (size 3 is different from 1)"
     ]
    }
   ],
   "source": [
    "# Definiamo due vettori classici\n",
    "v = np.array([1, -1, 1])\n",
    "w = np.array([0, 1, 1])\n",
    "print(v.shape, w.shape) # Controlliamo che siano vettori classici\n",
    "\n",
    "# Calcoliamone il prodotto scalare\n",
    "print(v @ w)\n",
    "\n",
    "# Definiamo la loro versione come vettori colonna\n",
    "v = np.array([[1], [-1], [1]])\n",
    "w = np.array([[0], [1], [1]])\n",
    "print(v.shape, w.shape)\n",
    "\n",
    "# Calcoliamone il prodotto scalare\n",
    "print(v @ w)"
   ]
  },
  {
   "cell_type": "code",
   "execution_count": 9,
   "metadata": {},
   "outputs": [
    {
     "name": "stdout",
     "output_type": "stream",
     "text": [
      "[False False False False False False  True  True  True False]\n",
      "[ True  True  True  True False  True  True False False False]\n",
      "[False False False False False False  True False False False]\n"
     ]
    }
   ],
   "source": [
    "# Definiamo tre vettori casuali\n",
    "a = np.random.rand(10)\n",
    "b = np.random.rand(10)\n",
    "c = np.random.rand(10)\n",
    "\n",
    "# Generiamo il vettore booleano `v` che vale True quando un elemento di `a`\n",
    "# è maggiore o uguale del corrispettivo elemento di `b`\n",
    "v = a >= b\n",
    "print(v)\n",
    "\n",
    "# E il vettore `w`che vale True quando un elemento di `b` è maggiore o uguale\n",
    "# del corrispettivo elemento di `c`\n",
    "w = b >= c\n",
    "print(w)\n",
    "\n",
    "# Ora uniamoli con un operazione di `and` elemento per elemento\n",
    "print(w & v)"
   ]
  },
  {
   "cell_type": "code",
   "execution_count": 10,
   "metadata": {},
   "outputs": [
    {
     "name": "stdout",
     "output_type": "stream",
     "text": [
      "[ 0  1 -1]\n"
     ]
    }
   ],
   "source": [
    "# Definiamo un array\n",
    "v = np.array([0, 1, -1, 2, 1, -1])\n",
    "\n",
    "# Slicing\n",
    "w = v[0:3]\n",
    "print(w)"
   ]
  },
  {
   "cell_type": "code",
   "execution_count": 11,
   "metadata": {},
   "outputs": [
    {
     "name": "stdout",
     "output_type": "stream",
     "text": [
      "[ 0  1 -1  2  1 -1]\n",
      "[ True  True False  True False False]\n",
      "[0 1 2]\n"
     ]
    }
   ],
   "source": [
    "# Creiamo un array di esempio\n",
    "v = np.array([0, 1, -1, 2, 1, -1])\n",
    "print(v)\n",
    "\n",
    "# Definiamo un vettore booleano\n",
    "b = np.array([True, True, False, True, False, False])\n",
    "print(b)\n",
    "\n",
    "# Slicing\n",
    "print(v[b])"
   ]
  },
  {
   "cell_type": "code",
   "execution_count": 12,
   "metadata": {},
   "outputs": [
    {
     "name": "stdout",
     "output_type": "stream",
     "text": [
      "[-0.80166815  0.93414683  0.62817759 -0.21499552 -0.22965556 -0.5291032\n",
      " -0.85889971 -0.30573981]\n",
      "[0.         0.93414683 0.62817759 0.         0.         0.\n",
      " 0.         0.        ]\n"
     ]
    }
   ],
   "source": [
    "# Definiamo un vettore casuale\n",
    "x = np.random.randn(8)\n",
    "print(x)\n",
    "\n",
    "# Proiettiamo sull'asse positivo\n",
    "x[x < 0] = 0\n",
    "print(x)"
   ]
  },
  {
   "cell_type": "code",
   "execution_count": 13,
   "metadata": {},
   "outputs": [
    {
     "name": "stdout",
     "output_type": "stream",
     "text": [
      "[[1 2]\n",
      " [4 5]]\n"
     ]
    }
   ],
   "source": [
    "# Creiamo la matrice\n",
    "A = np.array([[1, 2, 3], [4, 5, 6], [7, 8, 9]])\n",
    "\n",
    "# Slicing\n",
    "B = A[:2, :2]\n",
    "print(B)"
   ]
  },
  {
   "cell_type": "code",
   "execution_count": 14,
   "metadata": {},
   "outputs": [
    {
     "name": "stdout",
     "output_type": "stream",
     "text": [
      "[1. 2. 3. 4. 5. 6. 7. 8. 9.]\n",
      "[[1. 2. 3.]\n",
      " [4. 5. 6.]\n",
      " [7. 8. 9.]]\n",
      "2\n"
     ]
    }
   ],
   "source": [
    "# Definiamo un vettore v\n",
    "v = np.linspace(1, 9, 9) # (1, 2, 3, ..., 9)\n",
    "print(v)\n",
    "\n",
    "# E costruiamo la matrice A di shape 3x3 ottenuta modificando v\n",
    "A = np.reshape(v, (3, 3))\n",
    "print(A)\n",
    "\n",
    "# Controlliamo se A è di rango massimo\n",
    "print(np.linalg.matrix_rank(A))\n",
    "\n",
    "# E, se ha rango massimo, calcoliamone l'inversa\n",
    "if np.linalg.matrix_rank(A) == A.shape[0]:\n",
    "    A_inv = np.linalg.inv(A)"
   ]
  },
  {
   "cell_type": "code",
   "execution_count": 15,
   "metadata": {},
   "outputs": [
    {
     "name": "stdout",
     "output_type": "stream",
     "text": [
      "Tempo impiegato con Python modo 1: 0.9546482563018799s\n"
     ]
    },
    {
     "name": "stdout",
     "output_type": "stream",
     "text": [
      "Tempo impiegato con Python modo 2: 0.5896708965301514s\n",
      "Tempo impiegato con Numpy: 0.01151275634765625s\n"
     ]
    }
   ],
   "source": [
    "import time\n",
    "import numpy as np\n",
    "import math\n",
    "\n",
    "# Costruiamo il vettore\n",
    "v = np.random.randn(10_000_000)\n",
    "\n",
    "# || v ||_1 con Python modo 1\n",
    "start_time = time.time()\n",
    "norma_1 = 0\n",
    "for i in range(len(v)):\n",
    "    norma_1 = norma_1 + abs(v[i])\n",
    "end_time = time.time()\n",
    "print(f\"Tempo impiegato con Python modo 1: {end_time - start_time}s\")\n",
    "\n",
    "# || v ||_1 con Python modo 2\n",
    "start_time = time.time()\n",
    "norma_1 = sum((abs(i) for i in v)) # list comprehension\n",
    "end_time = time.time()\n",
    "print(f\"Tempo impiegato con Python modo 2: {end_time - start_time}s\")\n",
    "\n",
    "# || v ||_1 con numpy\n",
    "start_time = time.time()\n",
    "norma_1 = np.sum(np.abs(v))\n",
    "end_time = time.time()\n",
    "print(f\"Tempo impiegato con Numpy: {end_time - start_time}s\")"
   ]
  }
 ],
 "metadata": {
  "kernelspec": {
   "display_name": "teaching",
   "language": "python",
   "name": "python3"
  },
  "language_info": {
   "codemirror_mode": {
    "name": "ipython",
    "version": 3
   },
   "file_extension": ".py",
   "mimetype": "text/x-python",
   "name": "python",
   "nbconvert_exporter": "python",
   "pygments_lexer": "ipython3",
   "version": "3.12.4"
  }
 },
 "nbformat": 4,
 "nbformat_minor": 2
}