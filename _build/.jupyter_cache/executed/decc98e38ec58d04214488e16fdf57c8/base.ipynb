{
 "cells": [
  {
   "cell_type": "code",
   "execution_count": 1,
   "metadata": {},
   "outputs": [
    {
     "name": "stdout",
     "output_type": "stream",
     "text": [
      "<class 'list'>\n",
      "[1, 5, 3]\n",
      "['c', 'i', 'a', 'o']\n",
      "['c', 3, True]\n"
     ]
    }
   ],
   "source": [
    "a = [1, 5, 3] # Definiamo una lista di numeri\n",
    "b = [\"c\", \"i\", \"a\", \"o\"] # Definiamo una lista di stringhe\n",
    "c = [\"c\", 3, True] # Definiamo una lista mista\n",
    "\n",
    "print(type(a))\n",
    "print(a)\n",
    "print(b)\n",
    "print(c)"
   ]
  },
  {
   "cell_type": "code",
   "execution_count": 2,
   "metadata": {},
   "outputs": [
    {
     "name": "stdout",
     "output_type": "stream",
     "text": [
      "<class 'tuple'>\n",
      "(3, 'pippo', [1, 3, 2])\n"
     ]
    }
   ],
   "source": [
    "t = (3, \"pippo\", [1, 3, 2]) # Tuple e liste possono contenere al loro interno anche altri array\n",
    "\n",
    "print(type(t))\n",
    "print(t)"
   ]
  },
  {
   "cell_type": "code",
   "execution_count": 3,
   "metadata": {},
   "outputs": [],
   "source": [
    "a: list[int] = [2, 1, 3] # Crea una list di interi, tipizzata"
   ]
  },
  {
   "cell_type": "code",
   "execution_count": 4,
   "metadata": {},
   "outputs": [
    {
     "name": "stdout",
     "output_type": "stream",
     "text": [
      "L'elemento di posto 2 nella lista è: 5.\n"
     ]
    }
   ],
   "source": [
    "# Crea una lista\n",
    "l = [2, 1, 5]\n",
    "\n",
    "# Estri un suo elemento\n",
    "print(f\"L'elemento di posto 2 nella lista è: {l[2]}.\")"
   ]
  },
  {
   "cell_type": "code",
   "execution_count": 5,
   "metadata": {},
   "outputs": [
    {
     "name": "stdout",
     "output_type": "stream",
     "text": [
      "[1, 0, 3, 1]\n",
      "[0, 1, 3]\n"
     ]
    }
   ],
   "source": [
    "a: list[int] = [1, -1, 0, 1, 3, -2, 1] # Creo una lista di valori\n",
    "\n",
    "# Estraggo gli elementi di indice pari\n",
    "pari = a[0:7:2] # Estraggo gli elementi di indice da 0 (primo elemento) a 6 (fino a indice 7 escluso), con passo 2.\n",
    "print(pari)\n",
    "\n",
    "# Estraggo i 3 elementi centrali\n",
    "centrali = a[2:5]\n",
    "print(centrali)"
   ]
  },
  {
   "cell_type": "code",
   "execution_count": 6,
   "metadata": {},
   "outputs": [
    {
     "name": "stdout",
     "output_type": "stream",
     "text": [
      "Il numero di elementi di a è: 7.\n",
      "[0, 1, 3, -2, 1]\n",
      "[0, 1, 3, -2]\n",
      "[0, 1, 3, -2, 1]\n"
     ]
    }
   ],
   "source": [
    "# Definisco un'array\n",
    "a: list[int] = [1, -1, 0, 1, 3, -2, 1]\n",
    "print(f\"Il numero di elementi di a è: {len(a)}.\")\n",
    "\n",
    "# Estraggo gli elementi dal posto 2 fino alla fine\n",
    "print(a[2:len(a)]) # Da 2 fino len(a) - 1.\n",
    "print(a[2:-1]) # Da 2 fino a -1.\n",
    "print(a[2:]) # Da 2 fino in fondo"
   ]
  },
  {
   "cell_type": "code",
   "execution_count": 7,
   "metadata": {},
   "outputs": [
    {
     "name": "stdout",
     "output_type": "stream",
     "text": [
      "(3, 2, 1)\n"
     ]
    }
   ],
   "source": [
    "# Definisco un'array\n",
    "a: tuple[int] = (1, 2, 3)\n",
    "print(a[::-1]) # Array invertito"
   ]
  },
  {
   "cell_type": "code",
   "execution_count": 8,
   "metadata": {},
   "outputs": [
    {
     "name": "stdout",
     "output_type": "stream",
     "text": [
      "[1, 2, 3]\n",
      "[1, -1, 3]\n"
     ]
    }
   ],
   "source": [
    "# Creazione di una lista\n",
    "a = [1, 2, 3]\n",
    "print(a)\n",
    "\n",
    "# Modificare un elemento\n",
    "a[1] = -1\n",
    "print(a)"
   ]
  },
  {
   "cell_type": "code",
   "execution_count": 9,
   "metadata": {},
   "outputs": [
    {
     "name": "stdout",
     "output_type": "stream",
     "text": [
      "[1, 2, 3]\n",
      "[1, 2, 3, 4]\n",
      "[1, 10, 2, 3, 4]\n"
     ]
    }
   ],
   "source": [
    "# Creo una lista\n",
    "a = [1, 2, 3]\n",
    "print(a)\n",
    "\n",
    "# Aggiungo un valore in fondo\n",
    "a.append(4)\n",
    "print(a)\n",
    "\n",
    "# Aggiungo un valore in posto 1\n",
    "a.insert(1, 10)\n",
    "print(a)"
   ]
  },
  {
   "cell_type": "code",
   "execution_count": 10,
   "metadata": {},
   "outputs": [
    {
     "name": "stdout",
     "output_type": "stream",
     "text": [
      "['Ciao', 'a', 'tutti', '!']\n"
     ]
    }
   ],
   "source": [
    "# Definisco due liste\n",
    "a = [\"Ciao\", \"a\"]\n",
    "b = [\"tutti\", \"!\"]\n",
    "\n",
    "# Concateno le due liste\n",
    "c = a + b\n",
    "\n",
    "# Visualizzo il risultato\n",
    "print(c)"
   ]
  },
  {
   "cell_type": "code",
   "execution_count": 11,
   "metadata": {},
   "outputs": [
    {
     "name": "stdout",
     "output_type": "stream",
     "text": [
      "a = (1, 3, 2).\n",
      "b = (1, 3, 2).\n"
     ]
    }
   ],
   "source": [
    "# Definisco una tupla \"classica\"\n",
    "a = (1, 3, 2)\n",
    "print(f\"a = {a}.\")\n",
    "\n",
    "# E una versione senza parentesi tonde\n",
    "b = 1, 3, 2\n",
    "print(f\"b = {b}.\")"
   ]
  },
  {
   "cell_type": "code",
   "execution_count": 12,
   "metadata": {},
   "outputs": [
    {
     "name": "stdout",
     "output_type": "stream",
     "text": [
      "<class 'tuple'>\n",
      "<class 'int'>\n"
     ]
    }
   ],
   "source": [
    "# Costruisco una tupla con un singolo elemento (modo corretto)\n",
    "a = (3,)\n",
    "print(type(a))\n",
    "\n",
    "# Costruisco una tupla con un singolo elemento (modo sbagliato)\n",
    "b = (3)\n",
    "print(type(b))"
   ]
  },
  {
   "cell_type": "code",
   "execution_count": 13,
   "metadata": {},
   "outputs": [
    {
     "ename": "TypeError",
     "evalue": "'tuple' object does not support item assignment",
     "output_type": "error",
     "traceback": [
      "\u001b[0;31m---------------------------------------------------------------------------\u001b[0m",
      "\u001b[0;31mTypeError\u001b[0m                                 Traceback (most recent call last)",
      "Cell \u001b[0;32mIn[13], line 5\u001b[0m\n\u001b[1;32m      2\u001b[0m a: \u001b[38;5;28mtuple\u001b[39m[\u001b[38;5;28mint\u001b[39m] \u001b[38;5;241m=\u001b[39m (\u001b[38;5;241m1\u001b[39m, \u001b[38;5;241m3\u001b[39m, \u001b[38;5;241m2\u001b[39m)\n\u001b[1;32m      4\u001b[0m \u001b[38;5;66;03m# Modifico il suo elemento di posto 1\u001b[39;00m\n\u001b[0;32m----> 5\u001b[0m \u001b[43ma\u001b[49m\u001b[43m[\u001b[49m\u001b[38;5;241;43m1\u001b[39;49m\u001b[43m]\u001b[49m \u001b[38;5;241m=\u001b[39m \u001b[38;5;241m1\u001b[39m\n",
      "\u001b[0;31mTypeError\u001b[0m: 'tuple' object does not support item assignment"
     ]
    }
   ],
   "source": [
    "# Creo una tupla\n",
    "a: tuple[int] = (1, 3, 2)\n",
    "\n",
    "# Modifico il suo elemento di posto 1\n",
    "a[1] = 1"
   ]
  },
  {
   "cell_type": "code",
   "execution_count": 14,
   "metadata": {},
   "outputs": [
    {
     "name": "stdout",
     "output_type": "stream",
     "text": [
      "(1, 3, 2, 9, 5, 8)\n"
     ]
    }
   ],
   "source": [
    "# Creo due tuple\n",
    "a: tuple[int] = (1, 3, 2)\n",
    "b: tuple[int] = (9, 5, 8)\n",
    "\n",
    "# Concateno le tuple\n",
    "c = a + b\n",
    "print(c)"
   ]
  },
  {
   "cell_type": "code",
   "execution_count": 15,
   "metadata": {},
   "outputs": [
    {
     "name": "stdout",
     "output_type": "stream",
     "text": [
      "5\n",
      "Rosso\n"
     ]
    }
   ],
   "source": [
    "# Creo una tupla\n",
    "risultato = (5, \"Rosso\")\n",
    "\n",
    "# Assegno il valore della tupla a delle variabili\n",
    "posizione, colore = risultato\n",
    "print(posizione)\n",
    "print(colore)"
   ]
  },
  {
   "cell_type": "code",
   "execution_count": 16,
   "metadata": {},
   "outputs": [
    {
     "name": "stdout",
     "output_type": "stream",
     "text": [
      "['Mi', 'chiamo', 'Luca']\n",
      "['Mi', 'chiamo', 'Luca']\n",
      "['Mi', 'chiamo', 'Davide']\n",
      "['Mi', 'chiamo', 'Davide']\n",
      "['Mi', 'chiamo', 'Davide', 'Evangelista']\n"
     ]
    }
   ],
   "source": [
    "# Definisco una lista\n",
    "a: list[str] = [\"Mi\", \"chiamo\", \"Luca\"]\n",
    "print(a)\n",
    "\n",
    "# Assegno una nuova variabile allo stesso oggetto\n",
    "b = a\n",
    "print(b)\n",
    "\n",
    "# Modifico a\n",
    "a[-1] = \"Davide\"\n",
    "print(a)\n",
    "print(b)\n",
    "\n",
    "# O anche\n",
    "a.append(\"Evangelista\")\n",
    "print(b)"
   ]
  },
  {
   "cell_type": "code",
   "execution_count": 17,
   "metadata": {},
   "outputs": [
    {
     "name": "stdout",
     "output_type": "stream",
     "text": [
      "['Mi', 'chiamo', 'Luca']\n",
      "['Mi', 'chiamo', 'Luca']\n",
      "['Mi', 'chiamo', 'Davide']\n",
      "['Mi', 'chiamo', 'Luca']\n"
     ]
    }
   ],
   "source": [
    "# Definisco una lista\n",
    "a: list[str] = [\"Mi\", \"chiamo\", \"Luca\"]\n",
    "print(a)\n",
    "\n",
    "# Assegno una nuova variabile allo stesso oggetto\n",
    "b = a[:] # Attenzione ai [:].\n",
    "print(b)\n",
    "\n",
    "# Modifico a\n",
    "a[-1] = \"Davide\"\n",
    "print(a)\n",
    "print(b)"
   ]
  },
  {
   "cell_type": "code",
   "execution_count": 18,
   "metadata": {},
   "outputs": [
    {
     "name": "stdout",
     "output_type": "stream",
     "text": [
      "['Mi', 'chiamo', 'Luca']\n",
      "['Mi', 'chiamo', 'Davide']\n",
      "['Mi', 'chiamo', 'Luca', 'Evangelista']\n"
     ]
    }
   ],
   "source": [
    "# Definisco una lista\n",
    "a: list[str] = [\"Mi\", \"chiamo\", \"Luca\"]\n",
    "print(a)\n",
    "\n",
    "# Assegno una nuova variabile\n",
    "b = a + [\"Evangelista\"]\n",
    "\n",
    "# Modifico a\n",
    "a[-1] = \"Davide\"\n",
    "print(a)\n",
    "print(b)"
   ]
  },
  {
   "cell_type": "code",
   "execution_count": 19,
   "metadata": {},
   "outputs": [
    {
     "name": "stdout",
     "output_type": "stream",
     "text": [
      "[1, 2, 3, 4]\n"
     ]
    }
   ],
   "source": [
    "# Inizializzo una lista vuota (lunga 4)\n",
    "a: list[int] = [0] * 4\n",
    "\n",
    "# Inserisco gli elementi al suo interno\n",
    "a[0] = 1\n",
    "a[1] = 2\n",
    "a[2] = 3\n",
    "a[3] = 4\n",
    "print(a)"
   ]
  }
 ],
 "metadata": {
  "language_info": {
   "codemirror_mode": {
    "name": "ipython",
    "version": 3
   },
   "file_extension": ".py",
   "mimetype": "text/x-python",
   "name": "python",
   "nbconvert_exporter": "python",
   "pygments_lexer": "ipython3",
   "version": "3.12.4"
  }
 },
 "nbformat": 4,
 "nbformat_minor": 2
}