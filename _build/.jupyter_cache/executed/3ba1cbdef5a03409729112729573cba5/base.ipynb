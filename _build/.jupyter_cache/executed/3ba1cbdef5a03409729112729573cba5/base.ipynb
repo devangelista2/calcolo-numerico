{
 "cells": [
  {
   "cell_type": "code",
   "execution_count": 1,
   "metadata": {},
   "outputs": [
    {
     "name": "stdout",
     "output_type": "stream",
     "text": [
      "Tempo impiegato: 0.0012390613555908203s\n"
     ]
    }
   ],
   "source": [
    "import time\n",
    "\n",
    "# Inizializzazione delle variabili\n",
    "v = [0]*10_000\n",
    "\n",
    "# Far partire il tempo\n",
    "start_time = time.time()\n",
    "\n",
    "# Eseguire operazioni varie\n",
    "for i in range(10_000):\n",
    "    v[i] += 1\n",
    "\n",
    "# Misurare il tempo alla fine dell'esecuzione\n",
    "end_time = time.time()\n",
    "\n",
    "# Stampare il tempo\n",
    "print(f\"Tempo impiegato: {end_time - start_time}s\")"
   ]
  }
 ],
 "metadata": {
  "kernelspec": {
   "display_name": "teaching",
   "language": "python",
   "name": "python3"
  },
  "language_info": {
   "codemirror_mode": {
    "name": "ipython",
    "version": 3
   },
   "file_extension": ".py",
   "mimetype": "text/x-python",
   "name": "python",
   "nbconvert_exporter": "python",
   "pygments_lexer": "ipython3",
   "version": "3.12.4"
  }
 },
 "nbformat": 4,
 "nbformat_minor": 2
}