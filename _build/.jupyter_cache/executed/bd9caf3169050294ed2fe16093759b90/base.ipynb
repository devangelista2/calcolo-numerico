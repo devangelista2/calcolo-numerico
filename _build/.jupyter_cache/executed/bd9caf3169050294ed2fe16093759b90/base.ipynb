{
 "cells": [
  {
   "cell_type": "code",
   "execution_count": 1,
   "metadata": {},
   "outputs": [
    {
     "name": "stdout",
     "output_type": "stream",
     "text": [
      "2\n",
      "1\n",
      "4\n",
      "3\n"
     ]
    }
   ],
   "source": [
    "# Inizializzo un iterabile\n",
    "iterable = (2, 1, 4, 3)\n",
    "for n in iterable:\n",
    "    print(n)"
   ]
  },
  {
   "cell_type": "code",
   "execution_count": 2,
   "metadata": {},
   "outputs": [
    {
     "name": "stdout",
     "output_type": "stream",
     "text": [
      "0\n",
      "1\n",
      "2\n",
      "3\n",
      "4\n"
     ]
    }
   ],
   "source": [
    "# Stampa i numeri da 0 a 4\n",
    "for i in range(5): # quando un solo valore è specificato -> START = 0, STEP = 1.\n",
    "    print(i)"
   ]
  },
  {
   "cell_type": "code",
   "execution_count": 3,
   "metadata": {},
   "outputs": [
    {
     "data": {
      "text/plain": [
       "'\\n# Definisco un iterabile\\niterable = [1, 2, 3, 4, 5]\\nfor i in iterable:\\n    print(i)\\n    iterable.insert(i+1, i-1)\\n    iterable.append(i)\\nprint(iterable)\\n'"
      ]
     },
     "execution_count": 3,
     "metadata": {},
     "output_type": "execute_result"
    }
   ],
   "source": [
    "\"\"\"\n",
    "# Definisco un iterabile\n",
    "iterable = [1, 2, 3, 4, 5]\n",
    "for i in iterable:\n",
    "    print(i)\n",
    "    iterable.insert(i+1, i-1)\n",
    "    iterable.append(i)\n",
    "print(iterable)\n",
    "\"\"\""
   ]
  },
  {
   "cell_type": "code",
   "execution_count": 4,
   "metadata": {},
   "outputs": [
    {
     "name": "stdout",
     "output_type": "stream",
     "text": [
      "0\n",
      "1\n",
      "2\n",
      "3\n",
      "4\n",
      "5\n"
     ]
    }
   ],
   "source": [
    "# Inizializzo la condizione\n",
    "continua: bool = True\n",
    "\n",
    "# Inizializzo una variabile intera (per esempio)\n",
    "i = 0\n",
    "\n",
    "# Ciclo while\n",
    "while continua:\n",
    "    if i == 5:\n",
    "        continua = False\n",
    "    print(i)\n",
    "\n",
    "    # Aggiornamento della variabile\n",
    "    i = i + 1"
   ]
  },
  {
   "cell_type": "code",
   "execution_count": 5,
   "metadata": {},
   "outputs": [
    {
     "name": "stdout",
     "output_type": "stream",
     "text": [
      "0\n",
      "1\n",
      "2\n",
      "3\n",
      "4\n",
      "5\n",
      "6\n",
      "7\n",
      "8\n",
      "9\n"
     ]
    }
   ],
   "source": [
    "# Inizializzo la condizione\n",
    "continua: bool = True\n",
    "maxiter: int = 10 # Numero massimo di iterazioni del ciclo\n",
    "\n",
    "# Inizializzo una variabile intera (per esempio)\n",
    "i = 0\n",
    "\n",
    "# Ciclo while\n",
    "while continua:\n",
    "    if i < 0: # NON si verificherà mai\n",
    "        continua = False\n",
    "    print(i)\n",
    "\n",
    "    # Aggiornamento della variabile\n",
    "    i = i + 1\n",
    "\n",
    "    # Stoppo il codice se supera le iterazioni massime\n",
    "    if i == maxiter:\n",
    "        break"
   ]
  }
 ],
 "metadata": {
  "language_info": {
   "codemirror_mode": {
    "name": "ipython",
    "version": 3
   },
   "file_extension": ".py",
   "mimetype": "text/x-python",
   "name": "python",
   "nbconvert_exporter": "python",
   "pygments_lexer": "ipython3",
   "version": "3.12.4"
  }
 },
 "nbformat": 4,
 "nbformat_minor": 2
}