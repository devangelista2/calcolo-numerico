{
 "cells": [
  {
   "cell_type": "code",
   "execution_count": 1,
   "metadata": {},
   "outputs": [],
   "source": [
    "def calcola_prodotto(n1: float, n2: float) -> float:\n",
    "    r\"\"\"\n",
    "    Dati in input due numeri n1 ed n2, restituisce il prodotto tra n1 e n2.\n",
    "\n",
    "    Parameters:\n",
    "    \n",
    "    n1 (int): Primo numero\n",
    "    n2 (int): Secondo numero\n",
    "\n",
    "    Returns:\n",
    "    (int): Risultato di n1 * n2\n",
    "    \"\"\"\n",
    "    risultato: float = n1 * n2 # Computazione\n",
    "    return risultato # Output"
   ]
  },
  {
   "cell_type": "code",
   "execution_count": 2,
   "metadata": {},
   "outputs": [
    {
     "name": "stdout",
     "output_type": "stream",
     "text": [
      "3.2 x 2 = 6.4.\n"
     ]
    }
   ],
   "source": [
    "# Definisco due numeri\n",
    "n1: float = 3.2\n",
    "n2: float = 2\n",
    "\n",
    "n: float = calcola_prodotto(n1, n2)\n",
    "print(f\"{n1} x {n2} = {n}.\")"
   ]
  },
  {
   "cell_type": "code",
   "execution_count": 3,
   "metadata": {},
   "outputs": [
    {
     "name": "stdout",
     "output_type": "stream",
     "text": [
      "5 - 2 = 3.\n"
     ]
    }
   ],
   "source": [
    "def calcola_differenza(n1: float, n2: float) -> float:\n",
    "    r\"\"\"\n",
    "    Dati in input due numeri n1 ed n2, restituisce la differenza tra n1 e n2.\n",
    "\n",
    "    Parameters:\n",
    "    \n",
    "    n1 (int): Primo numero\n",
    "    n2 (int): Secondo numero\n",
    "\n",
    "    Returns:\n",
    "    (int): Risultato di n1 - n2\n",
    "    \"\"\"\n",
    "    risultato: float = n1 - n2 # Computazione\n",
    "    return risultato # Output\n",
    "\n",
    "# Definiamo due numeri\n",
    "a: int = 5\n",
    "b: int = 2\n",
    "differenza = calcola_differenza(a, b)\n",
    "print(f\"{a} - {b} = {differenza}.\")"
   ]
  },
  {
   "cell_type": "code",
   "execution_count": 4,
   "metadata": {},
   "outputs": [
    {
     "name": "stdout",
     "output_type": "stream",
     "text": [
      "-3\n"
     ]
    }
   ],
   "source": [
    "# Calcoliamo la differenza con input non posizionali\n",
    "differenza_2 = calcola_differenza(n2=a, n1=b)\n",
    "print(differenza_2)"
   ]
  },
  {
   "cell_type": "code",
   "execution_count": 5,
   "metadata": {},
   "outputs": [
    {
     "name": "stdout",
     "output_type": "stream",
     "text": [
      "4 2 3 3.0\n"
     ]
    }
   ],
   "source": [
    "def calcola_operazione(n1: float, n2: float, op: str = \"somma\") -> float:\n",
    "    r\"\"\"\n",
    "    Dati in input due numeri n1 ed n2 e un'operazione, restituisce il risultato\n",
    "    dell'operazione applicata ad n1 e n2.\n",
    "\n",
    "    Parameters:\n",
    "    \n",
    "    n1 (int): Primo numero\n",
    "    n2 (int): Secondo numero\n",
    "    op (str): Operazione\n",
    "\n",
    "    Returns:\n",
    "    (int): Risultato di op(n1, n2)\n",
    "    \"\"\"\n",
    "    if op == \"somma\":\n",
    "        risultato: float = n1 + n2\n",
    "    elif op == \"differenza\":\n",
    "        risultato: float = n1 - n2\n",
    "    elif op == \"prodotto\":\n",
    "        risultato: float = n1 * n2\n",
    "    elif op == \"rapporto\":\n",
    "        if n2 != 0:\n",
    "            risultato: float = n1 / n2\n",
    "        else:  \n",
    "            print(\"Errore: divisione per 0.\")\n",
    "            risultato = None\n",
    "    else:\n",
    "        print(f\"Operazione {op} non definita.\")\n",
    "        risultato = None\n",
    "    \n",
    "    return risultato # Output\n",
    "\n",
    "# Definiamo due numeri\n",
    "a: int = 3\n",
    "b: int = 1\n",
    "somma = calcola_operazione(a, b, op=\"somma\")\n",
    "differenza = calcola_operazione(a, b, op=\"differenza\")\n",
    "prodotto = calcola_operazione(a, b, op=\"prodotto\")\n",
    "rapporto = calcola_operazione(a, b, op=\"rapporto\")\n",
    "print(somma, differenza, prodotto, rapporto)"
   ]
  },
  {
   "cell_type": "code",
   "execution_count": 6,
   "metadata": {},
   "outputs": [
    {
     "name": "stdout",
     "output_type": "stream",
     "text": [
      "Help on function calcola_prodotto in module __main__:\n",
      "\n",
      "calcola_prodotto(n1: float, n2: float) -> float\n",
      "    Dati in input due numeri n1 ed n2, restituisce il prodotto tra n1 e n2.\n",
      "\n",
      "    Parameters:\n",
      "\n",
      "    n1 (int): Primo numero\n",
      "    n2 (int): Secondo numero\n",
      "\n",
      "    Returns:\n",
      "    (int): Risultato di n1 * n2\n",
      "\n",
      "None\n"
     ]
    }
   ],
   "source": [
    "# Visualizziamo l'help della funzione da noi definita\n",
    "print(help(calcola_prodotto))"
   ]
  },
  {
   "cell_type": "code",
   "execution_count": 7,
   "metadata": {},
   "outputs": [
    {
     "name": "stdout",
     "output_type": "stream",
     "text": [
      "Ciao, Davide!\n"
     ]
    }
   ],
   "source": [
    "def saluti(nome: str) -> None:\n",
    "    r\"\"\"\n",
    "    Stampa a schermo dei saluti diretti al nome inserito in input.\n",
    "\n",
    "    Parameters:\n",
    "    nome (str): Il nome da salutare.\n",
    "    \"\"\"\n",
    "    print(f\"Ciao, {nome}!\")\n",
    "\n",
    "# Esempio\n",
    "nome: str = \"Davide\"\n",
    "saluti(nome)"
   ]
  },
  {
   "cell_type": "code",
   "execution_count": 8,
   "metadata": {},
   "outputs": [
    {
     "name": "stdout",
     "output_type": "stream",
     "text": [
      "Ciao, Davide!\n",
      "None\n"
     ]
    }
   ],
   "source": [
    "output = saluti(nome)\n",
    "print(output)"
   ]
  },
  {
   "cell_type": "code",
   "execution_count": 9,
   "metadata": {},
   "outputs": [
    {
     "name": "stdout",
     "output_type": "stream",
     "text": [
      "4.0 + -2.0 = 2.0. 4.0 x -2.0 = -8.0.\n"
     ]
    }
   ],
   "source": [
    "def somma_e_prodotto(n1: float, n2: float) -> float:\n",
    "    r\"\"\"\n",
    "    Presi in input i numeri n1 e n2, ne ritorna somma e prodotto.\n",
    "\n",
    "    Parameters:\n",
    "    n1 (float): Primo numero\n",
    "    n2 (float): Secondo numero\n",
    "\n",
    "    Returns:\n",
    "    (float): n1 + n2\n",
    "    (float): n1 * n2\n",
    "    \"\"\"\n",
    "    somma = n1 + n2\n",
    "    prodotto = n1 * n2\n",
    "    return somma, prodotto\n",
    "\n",
    "# Esempio\n",
    "n1: float = 4.0\n",
    "n2: float = - 2.0\n",
    "somma, prodotto = somma_e_prodotto(n1, n2)\n",
    "\n",
    "print(f\"{n1} + {n2} = {somma}. {n1} x {n2} = {prodotto}.\")"
   ]
  },
  {
   "cell_type": "code",
   "execution_count": 10,
   "metadata": {},
   "outputs": [
    {
     "name": "stdout",
     "output_type": "stream",
     "text": [
      "(2.0, -8.0)\n"
     ]
    }
   ],
   "source": [
    "# Esempio\n",
    "n1: float = 4.0\n",
    "n2: float = - 2.0\n",
    "risultato = somma_e_prodotto(n1, n2)\n",
    "\n",
    "print(risultato)"
   ]
  },
  {
   "cell_type": "code",
   "execution_count": 11,
   "metadata": {},
   "outputs": [
    {
     "name": "stdout",
     "output_type": "stream",
     "text": [
      "<function quadrato at 0x1085d0220>\n",
      "9\n"
     ]
    }
   ],
   "source": [
    "# Definiamo una funzione che preso in input un numero x, ritorna il suo quadrato\n",
    "def quadrato(x: float) -> float:\n",
    "    r\"\"\"\n",
    "    Ritorna il quadrato del valore preso in input.\n",
    "\n",
    "    Parameters:\n",
    "    x (float): Numero in input\n",
    "\n",
    "    Returns:\n",
    "    (float) x^2\n",
    "    \"\"\"\n",
    "    risultato = x**2\n",
    "    return risultato\n",
    "\n",
    "# Ora, associamo la funzione ad una variabile, f\n",
    "f = quadrato\n",
    "print(quadrato)\n",
    "print(f(3))"
   ]
  },
  {
   "cell_type": "code",
   "execution_count": 12,
   "metadata": {},
   "outputs": [],
   "source": [
    "def elemento_per_elemento(f, x: tuple[float]) -> list[float]:\n",
    "    r\"\"\"\n",
    "    Presa in input una funzione f e una tupla di float x, ritorna una lista\n",
    "    della stessa lunghezza di x, i cui elementi sono gli f(xi).\n",
    "\n",
    "    Parameters:\n",
    "    f (function): La funzione da applicare elemento per elemento\n",
    "    x (tuple): Una tupla di numeri float\n",
    "\n",
    "    Returns:\n",
    "    (list): Una tupla contenente gli f(xi)\n",
    "    \"\"\"\n",
    "    # Inizializiamo la tupla di output (per salvare memoria)\n",
    "    y = [0] * len(x)\n",
    "\n",
    "    # Cicliamo sugli elementi di x\n",
    "    for i in range(len(x)):\n",
    "        xi = x[i] # Estraiamo l'i-esimo elemento di x\n",
    "\n",
    "        y[i] = f(xi) # Calcoliamo f su xi\n",
    "    \n",
    "    return y"
   ]
  },
  {
   "cell_type": "code",
   "execution_count": 13,
   "metadata": {},
   "outputs": [
    {
     "name": "stdout",
     "output_type": "stream",
     "text": [
      "[1, 4, 9, 16, 25]\n",
      "[1, 8, 27, 64, 125]\n"
     ]
    }
   ],
   "source": [
    "def quadrato(x: float) -> float:\n",
    "    r\"\"\"\n",
    "    Ritorna il quadrato del valore preso in input.\n",
    "\n",
    "    Parameters:\n",
    "    x (float): Numero in input\n",
    "\n",
    "    Returns:\n",
    "    (float) x^2\n",
    "    \"\"\"\n",
    "    risultato = x**2\n",
    "    return risultato\n",
    "\n",
    "def cubo(x: float) -> float:\n",
    "    r\"\"\"\n",
    "    Ritorna il cubo del valore preso in input.\n",
    "\n",
    "    Parameters:\n",
    "    x (float): Numero in input\n",
    "\n",
    "    Returns:\n",
    "    (float) x^3\n",
    "    \"\"\"\n",
    "    risultato = x**3\n",
    "    return risultato\n",
    "\n",
    "# Esempio\n",
    "x_vec: tuple[float] = (1, 2, 3, 4, 5)\n",
    "\n",
    "x_vec_quadrato = elemento_per_elemento(quadrato, x_vec)\n",
    "x_vec_cubo = elemento_per_elemento(cubo, x_vec)\n",
    "\n",
    "print(x_vec_quadrato)\n",
    "print(x_vec_cubo)\n"
   ]
  },
  {
   "cell_type": "code",
   "execution_count": 14,
   "metadata": {},
   "outputs": [
    {
     "name": "stdout",
     "output_type": "stream",
     "text": [
      "9\n"
     ]
    }
   ],
   "source": [
    "# Definiamo una funzione che, preso in input un valore x, ritorna x**2\n",
    "quadrato = lambda x: x**2\n",
    "print(quadrato(3))"
   ]
  },
  {
   "cell_type": "code",
   "execution_count": 15,
   "metadata": {},
   "outputs": [
    {
     "name": "stdout",
     "output_type": "stream",
     "text": [
      "Ciao, Davide Evangelista.\n"
     ]
    },
    {
     "ename": "NameError",
     "evalue": "name 'cognome' is not defined",
     "output_type": "error",
     "traceback": [
      "\u001b[0;31m---------------------------------------------------------------------------\u001b[0m",
      "\u001b[0;31mNameError\u001b[0m                                 Traceback (most recent call last)",
      "Cell \u001b[0;32mIn[15], line 10\u001b[0m\n\u001b[1;32m      7\u001b[0m saluti(cognome\u001b[38;5;241m=\u001b[39m\u001b[38;5;124m\"\u001b[39m\u001b[38;5;124mEvangelista\u001b[39m\u001b[38;5;124m\"\u001b[39m)\n\u001b[1;32m      9\u001b[0m \u001b[38;5;66;03m# La variabile locale \"cognome\" non è più in memoria\u001b[39;00m\n\u001b[0;32m---> 10\u001b[0m \u001b[38;5;28mprint\u001b[39m(\u001b[43mcognome\u001b[49m)\n",
      "\u001b[0;31mNameError\u001b[0m: name 'cognome' is not defined"
     ]
    }
   ],
   "source": [
    "def saluti(cognome: str) -> None:\n",
    "    print(f\"Ciao, {nome} {cognome}.\")\n",
    "    return None\n",
    "\n",
    "# Definiamo una variabile globale \"nome\"\n",
    "nome: str = \"Davide\"\n",
    "saluti(cognome=\"Evangelista\")\n",
    "\n",
    "# La variabile locale \"cognome\" non è più in memoria\n",
    "print(cognome)"
   ]
  },
  {
   "cell_type": "code",
   "execution_count": 16,
   "metadata": {},
   "outputs": [
    {
     "name": "stdout",
     "output_type": "stream",
     "text": [
      "Ciao, Luca.\n"
     ]
    }
   ],
   "source": [
    "def saluti(nome: str) -> None:\n",
    "    print(f\"Ciao, {nome}.\")\n",
    "    return None\n",
    "\n",
    "# Definiamo una variabile globale \"nome\"\n",
    "nome: str = \"Davide\"\n",
    "saluti(\"Luca\")"
   ]
  },
  {
   "cell_type": "code",
   "execution_count": 17,
   "metadata": {},
   "outputs": [
    {
     "name": "stdout",
     "output_type": "stream",
     "text": [
      "[1, 1]\n",
      "[1, 1, 2, 3]\n"
     ]
    }
   ],
   "source": [
    "def fibonacci_step(valori: list) -> None:\n",
    "    r\"\"\"\n",
    "    Data una lista di valori, contenente una porzione della sequenza di Fibonacci, \n",
    "    aggiunge il successivo elemento della sequenza, in testa a tale lista.\n",
    "\n",
    "    Parameters:\n",
    "    valori (list): La lista con gli attuali valori della sequenza di Fibonacci\n",
    "    \"\"\"\n",
    "    valori.append(valori[-2] + valori[-1])\n",
    "    return None\n",
    "\n",
    "# Definisco una lista iniziale\n",
    "valori = [1, 1]\n",
    "print(valori)\n",
    "\n",
    "# Steps\n",
    "fibonacci_step(valori)\n",
    "fibonacci_step(valori)\n",
    "print(valori)"
   ]
  },
  {
   "cell_type": "code",
   "execution_count": 18,
   "metadata": {},
   "outputs": [
    {
     "name": "stdout",
     "output_type": "stream",
     "text": [
      "Somma di (1, 2, 3): 6\n",
      "Somma di (5, 10): 15\n"
     ]
    }
   ],
   "source": [
    "def somma(*args):\n",
    "    r\"\"\"\n",
    "    Dato in input un elenco di valori, ritorna la loro somma.\n",
    "    \"\"\"\n",
    "    # Nota: il numero variabile di input viene caricato dentro una variabile di nome\n",
    "    # \"args\", che praticamente rappresenta una tupla di valori.\n",
    "    print(f\"Somma di {args}:\", end=\" \")\n",
    "\n",
    "    # Eseguo la somma dei valori\n",
    "    risultato = 0\n",
    "    for valore in args:\n",
    "        risultato = risultato + valore\n",
    "    return risultato\n",
    "\n",
    "# Chiamata alla funzione con un numero variabile di argomenti\n",
    "print(somma(1, 2, 3))\n",
    "print(somma(5, 10))"
   ]
  },
  {
   "cell_type": "code",
   "execution_count": 19,
   "metadata": {},
   "outputs": [
    {
     "name": "stdout",
     "output_type": "stream",
     "text": [
      "nome: Luca\n",
      "età: 21\n",
      "corso: Calcolo Numerico\n"
     ]
    }
   ],
   "source": [
    "def info_studente(**kwargs):\n",
    "    for chiave, valore in kwargs.items():\n",
    "        print(f\"{chiave}: {valore}\")\n",
    "\n",
    "# Chiamata alla funzione con argomenti con nome\n",
    "info_studente(nome=\"Luca\", età=21, corso=\"Calcolo Numerico\")"
   ]
  },
  {
   "cell_type": "code",
   "execution_count": 20,
   "metadata": {},
   "outputs": [
    {
     "name": "stdout",
     "output_type": "stream",
     "text": [
      "inputs: input1, input2.\n",
      "*args: (1, 2, 3)\n",
      "**kwargs: {'nome': 'Luca', 'voto': '30'}\n"
     ]
    }
   ],
   "source": [
    "def visualizza_args(input_1, input_2, *args, **kwargs):\n",
    "    print(f\"inputs: {input_1}, {input_2}.\")\n",
    "    print(f\"*args: {args}\")\n",
    "    print(f\"**kwargs: {kwargs}\")\n",
    "\n",
    "visualizza_args(\"input1\", \"input2\", 1, 2, 3, nome=\"Luca\", voto=\"30\")"
   ]
  }
 ],
 "metadata": {
  "kernelspec": {
   "display_name": "teaching",
   "language": "python",
   "name": "python3"
  },
  "language_info": {
   "codemirror_mode": {
    "name": "ipython",
    "version": 3
   },
   "file_extension": ".py",
   "mimetype": "text/x-python",
   "name": "python",
   "nbconvert_exporter": "python",
   "pygments_lexer": "ipython3",
   "version": "3.12.4"
  }
 },
 "nbformat": 4,
 "nbformat_minor": 2
}