{
 "cells": [
  {
   "cell_type": "code",
   "execution_count": 1,
   "metadata": {},
   "outputs": [
    {
     "name": "stdout",
     "output_type": "stream",
     "text": [
      "p\n",
      "oppip\n"
     ]
    }
   ],
   "source": [
    "# Definiamo una stringa\n",
    "s: str = \"pippo\"\n",
    "\n",
    "# Estraiamone un elemento\n",
    "print(s[2])\n",
    "\n",
    "# Stampiamola al contrario\n",
    "print(s[::-1])"
   ]
  },
  {
   "cell_type": "code",
   "execution_count": 2,
   "metadata": {},
   "outputs": [
    {
     "name": "stdout",
     "output_type": "stream",
     "text": [
      "5\n"
     ]
    }
   ],
   "source": [
    "# Stampiamo la lunghezza della stringa precedentemente definita\n",
    "print(len(s))"
   ]
  },
  {
   "cell_type": "code",
   "execution_count": 3,
   "metadata": {},
   "outputs": [
    {
     "name": "stdout",
     "output_type": "stream",
     "text": [
      "{'nome': 'Luca', 'eta': 21, 'corso': 'Calcolo Numerico'}\n"
     ]
    }
   ],
   "source": [
    "# Creazione di un dizionario vuoto\n",
    "dizionario_vuoto = {}\n",
    "\n",
    "# Dizionario con alcuni elementi\n",
    "studente = {\n",
    "    \"nome\": \"Luca\",\n",
    "    \"eta\": 21,\n",
    "    \"corso\": \"Calcolo Numerico\"\n",
    "}\n",
    "print(studente)"
   ]
  },
  {
   "cell_type": "code",
   "execution_count": 4,
   "metadata": {},
   "outputs": [
    {
     "name": "stdout",
     "output_type": "stream",
     "text": [
      "Luca\n"
     ]
    }
   ],
   "source": [
    "# Accesso al valore associato alla chiave \"nome\"\n",
    "print(studente[\"nome\"])  # Output: Luca"
   ]
  },
  {
   "cell_type": "code",
   "execution_count": 5,
   "metadata": {},
   "outputs": [
    {
     "name": "stdout",
     "output_type": "stream",
     "text": [
      "{'nome': 'Luca', 'eta': 22, 'corso': 'Calcolo Numerico'}\n"
     ]
    }
   ],
   "source": [
    "# Modifica del valore della chiave \"età\"\n",
    "studente[\"eta\"] = 22\n",
    "print(studente)"
   ]
  },
  {
   "cell_type": "code",
   "execution_count": 6,
   "metadata": {},
   "outputs": [
    {
     "name": "stdout",
     "output_type": "stream",
     "text": [
      "{'nome': 'Luca', 'eta': 22, 'corso': 'Calcolo Numerico', 'voto': 30}\n"
     ]
    }
   ],
   "source": [
    "# Aggiunta di una nuova chiave \"voto\"\n",
    "studente[\"voto\"] = 30\n",
    "print(studente)"
   ]
  },
  {
   "cell_type": "code",
   "execution_count": 7,
   "metadata": {},
   "outputs": [
    {
     "name": "stdout",
     "output_type": "stream",
     "text": [
      "dict_keys(['nome', 'eta', 'corso', 'voto'])\n",
      "dict_values(['Luca', 22, 'Calcolo Numerico', 30])\n",
      "dict_items([('nome', 'Luca'), ('eta', 22), ('corso', 'Calcolo Numerico'), ('voto', 30)])\n"
     ]
    }
   ],
   "source": [
    "# Utilizzo dei metodi descritti\n",
    "print(studente.keys()) \n",
    "print(studente.values()) \n",
    "print(studente.items())"
   ]
  },
  {
   "cell_type": "code",
   "execution_count": 8,
   "metadata": {},
   "outputs": [
    {
     "name": "stdout",
     "output_type": "stream",
     "text": [
      "{'studente1': {'nome': 'Mario', 'eta': 22, 'voto': 30}, 'studente2': {'nome': 'Luca', 'eta': 21, 'voto': 25}}\n"
     ]
    }
   ],
   "source": [
    "# Creo vocabolario \"classe\" contenente degli \"studenti\"\n",
    "classe = {\n",
    "    \"studente1\": {\n",
    "        \"nome\": \"Mario\",\n",
    "        \"eta\": 22,\n",
    "        \"voto\": 30,\n",
    "    },\n",
    "\n",
    "    \"studente2\": {\n",
    "        \"nome\": \"Luca\",\n",
    "        \"eta\": 21,\n",
    "        \"voto\": 25\n",
    "    }\n",
    "}\n",
    "\n",
    "print(classe)"
   ]
  }
 ],
 "metadata": {
  "language_info": {
   "codemirror_mode": {
    "name": "ipython",
    "version": 3
   },
   "file_extension": ".py",
   "mimetype": "text/x-python",
   "name": "python",
   "nbconvert_exporter": "python",
   "pygments_lexer": "ipython3",
   "version": "3.12.4"
  }
 },
 "nbformat": 4,
 "nbformat_minor": 2
}