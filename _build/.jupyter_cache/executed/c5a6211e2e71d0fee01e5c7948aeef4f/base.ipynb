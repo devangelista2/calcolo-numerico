{
 "cells": [
  {
   "cell_type": "code",
   "execution_count": 1,
   "metadata": {},
   "outputs": [],
   "source": [
    "# Importiamo le librerie random e math\n",
    "import random\n",
    "import math"
   ]
  },
  {
   "cell_type": "code",
   "execution_count": 2,
   "metadata": {},
   "outputs": [
    {
     "name": "stdout",
     "output_type": "stream",
     "text": [
      "e^0.913 = 2.492.\n"
     ]
    }
   ],
   "source": [
    "# Estriamo un numero casuale tra 0 e 1\n",
    "x = random.random() # La funzione random() del pacchetto random, \n",
    "                    # estrae un numero in (0, 1)\n",
    "\n",
    "# Calcoliamo y = e^x\n",
    "y = math.exp(x)\n",
    "\n",
    "print(f\"e^{x:0.3f} = {y:0.3f}.\")"
   ]
  },
  {
   "cell_type": "code",
   "execution_count": 3,
   "metadata": {},
   "outputs": [
    {
     "name": "stdout",
     "output_type": "stream",
     "text": [
      "0.6187807135512083\n"
     ]
    }
   ],
   "source": [
    "import random as rnd\n",
    "\n",
    "# Genero un numero casuale\n",
    "x = rnd.random()\n",
    "print(x)"
   ]
  },
  {
   "cell_type": "code",
   "execution_count": 4,
   "metadata": {},
   "outputs": [
    {
     "name": "stdout",
     "output_type": "stream",
     "text": [
      "0.8948098358203149\n"
     ]
    }
   ],
   "source": [
    "from random import *\n",
    "from math import *\n",
    "\n",
    "# Genero un numero casuale\n",
    "x = random()\n",
    "y = asin(x)\n",
    "\n",
    "print(y)"
   ]
  },
  {
   "cell_type": "code",
   "execution_count": 5,
   "metadata": {},
   "outputs": [],
   "source": [
    "from math import sin, cos, tan\n",
    "from random import *\n",
    "\n",
    "# Genero un numero casuale\n",
    "x = random()\n",
    "y = sin(x) # Importata"
   ]
  },
  {
   "cell_type": "code",
   "execution_count": 6,
   "metadata": {},
   "outputs": [],
   "source": [
    "def eur_to_usd(prezzo: float, tasso: float = 1.10) -> float:\n",
    "    r\"\"\"\n",
    "    Preso in input il prezzo in EUR e il tasso di cambio, lo converte in USD \n",
    "    e ritorna tale valore.\n",
    "\n",
    "    Parameters:\n",
    "\n",
    "    prezzo (float): il prezzo in euro.\n",
    "    tasso (float): il tasso di cambio da EUR in USD.\n",
    "\n",
    "    Returns:\n",
    "    (float): il prezzo in dollari.\n",
    "    \"\"\"\n",
    "    return prezzo * tasso\n",
    "\n",
    "def usd_to_eur(prezzo: float, tasso: float = 0.91) -> float:\n",
    "    r\"\"\"\n",
    "    Preso in input il prezzo in USD e il tasso di cambio, lo converte in EUR \n",
    "    e ritorna tale valore.\n",
    "\n",
    "    Parameters:\n",
    "\n",
    "    prezzo (float): il prezzo in dollari.\n",
    "    tasso (float): il tasso di cambio da USD in EUR.\n",
    "\n",
    "    Returns:\n",
    "    (float): il prezzo in euro.\n",
    "    \"\"\"\n",
    "    return prezzo * tasso"
   ]
  }
 ],
 "metadata": {
  "language_info": {
   "codemirror_mode": {
    "name": "ipython",
    "version": 3
   },
   "file_extension": ".py",
   "mimetype": "text/x-python",
   "name": "python",
   "nbconvert_exporter": "python",
   "pygments_lexer": "ipython3",
   "version": "3.12.4"
  }
 },
 "nbformat": 4,
 "nbformat_minor": 2
}