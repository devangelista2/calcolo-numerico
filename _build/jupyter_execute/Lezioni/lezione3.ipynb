{
 "cells": [
  {
   "cell_type": "code",
   "execution_count": 1,
   "metadata": {},
   "outputs": [
    {
     "name": "stdout",
     "output_type": "stream",
     "text": [
      "/Users/davideevangelista/calcolo-numerico/Lezioni\n"
     ]
    }
   ],
   "source": [
    "import os\n",
    "\n",
    "print(os.getcwd())"
   ]
  },
  {
   "cell_type": "code",
   "execution_count": 2,
   "metadata": {},
   "outputs": [
    {
     "name": "stdout",
     "output_type": "stream",
     "text": [
      "['esempio.txt', 'day_wise.csv', 'data_hw.csv']\n"
     ]
    }
   ],
   "source": [
    "path_rel = \"./data\"\n",
    "path_abs = \"/Users/davideevangelista/calcolo-numerico/Lezioni/data\"\n",
    "\n",
    "print(os.listdir(path_rel))"
   ]
  },
  {
   "cell_type": "code",
   "execution_count": 3,
   "metadata": {},
   "outputs": [
    {
     "name": "stdout",
     "output_type": "stream",
     "text": [
      "./data/esempio.txt\n",
      "True\n"
     ]
    }
   ],
   "source": [
    "# Consideriamo una cartella \"data\", e supponiamo di avere al suo interno un file\n",
    "# \"esempio.txt\"\n",
    "data_path = \"./data\"\n",
    "file_name = \"esempio.txt\"\n",
    "\n",
    "# Costruiamo il percorso per il file\n",
    "path_file = os.path.join(data_path, file_name)\n",
    "print(path_file)\n",
    "\n",
    "# Verifica se il path per il file esiste, se no, costuiamolo\n",
    "if not os.path.exists(data_path):\n",
    "    os.makedirs(data_path, exist_ok=True)\n",
    "\n",
    "# Vediamo se ora esiste\n",
    "print(os.path.exists(data_path))"
   ]
  },
  {
   "cell_type": "code",
   "execution_count": 4,
   "metadata": {},
   "outputs": [],
   "source": [
    "import os\n",
    "\n",
    "# Creiamo una stringa da salvare\n",
    "s = \"Questa stringa contiene informazioni importanti, da tenere in memoria.\"\n",
    "\n",
    "# Definiamo il path\n",
    "path = os.path.join(\"logs\", \"nome_file.txt\")\n",
    "os.makedirs(\"logs\", exist_ok=True)\n",
    "\n",
    "# Apriamo il file\n",
    "with open(path, mode=\"w\") as f:\n",
    "    # All'interno del \"with\" posso lavorare sul file, chiamato \"f\"\n",
    "    f.write(s)\n",
    "\n",
    "# Fuori dal \"with\", il file è stato chiso"
   ]
  },
  {
   "cell_type": "code",
   "execution_count": 5,
   "metadata": {},
   "outputs": [
    {
     "name": "stdout",
     "output_type": "stream",
     "text": [
      "Questa stringa contiene informazioni importanti, da tenere in memoria.\n"
     ]
    }
   ],
   "source": [
    "# Andiamo a leggere il contenuto del file appena creato\n",
    "with open(path, \"r\") as f:\n",
    "    s = f.read()\n",
    "print(s)"
   ]
  },
  {
   "cell_type": "code",
   "execution_count": 6,
   "metadata": {},
   "outputs": [],
   "source": [
    "import json\n",
    "import os\n",
    "\n",
    "# Generiamo un dizionario di esempio\n",
    "config = {\n",
    "    \"nome_algoritmo\": \"MetodoDiscesa\",\n",
    "    \"parametro1\": 10,\n",
    "    \"parametro2\": 0.01,\n",
    "}\n",
    "\n",
    "# Definiamo il path (come prima)\n",
    "path = os.path.join(\"logs\", \"config.json\")\n",
    "\n",
    "# Apriamo un file json in lettura\n",
    "with open(path, \"w\") as f:\n",
    "    json.dump(config, f)"
   ]
  },
  {
   "cell_type": "code",
   "execution_count": 7,
   "metadata": {},
   "outputs": [
    {
     "name": "stdout",
     "output_type": "stream",
     "text": [
      "Errore: divisione per zero non consentita!\n",
      "None\n"
     ]
    }
   ],
   "source": [
    "def divisione(a, b):\n",
    "    try:\n",
    "        risultato = a / b\n",
    "    except ZeroDivisionError:\n",
    "        print(\"Errore: divisione per zero non consentita!\")\n",
    "        risultato = None\n",
    "    return risultato\n",
    "\n",
    "print(divisione(10, 0))  # Genera errore 10 / 0"
   ]
  },
  {
   "cell_type": "code",
   "execution_count": 8,
   "metadata": {},
   "outputs": [
    {
     "name": "stdout",
     "output_type": "stream",
     "text": [
      "<class 'numpy.ndarray'>\n",
      "[1 2 3]\n"
     ]
    }
   ],
   "source": [
    "import numpy as np\n",
    "\n",
    "# Creo un vettore numpy\n",
    "a: list[int] = [1, 2, 3]\n",
    "a_vec: np.ndarray = np.array(a)\n",
    "print(type(a_vec)) # Verifichiamo il tipo di dato di a_vec\n",
    "print(a_vec)"
   ]
  },
  {
   "cell_type": "code",
   "execution_count": 9,
   "metadata": {},
   "outputs": [
    {
     "name": "stdout",
     "output_type": "stream",
     "text": [
      "(3,)\n"
     ]
    }
   ],
   "source": [
    "print(a_vec.shape)"
   ]
  },
  {
   "cell_type": "code",
   "execution_count": 10,
   "metadata": {},
   "outputs": [
    {
     "name": "stdout",
     "output_type": "stream",
     "text": [
      "La shape di v è: (4,).\n",
      "La shape di A è: (2, 3).\n"
     ]
    }
   ],
   "source": [
    "# Definiamo un vettore v e una matrice A\n",
    "v = np.array([1, 1, 3, 2])\n",
    "A = np.array([[1, 1, -1],\n",
    "              [0, -1, 1]])\n",
    "\n",
    "# Stampiamo la shape\n",
    "print(f\"La shape di v è: {v.shape}.\")\n",
    "print(f\"La shape di A è: {A.shape}.\")"
   ]
  },
  {
   "cell_type": "code",
   "execution_count": 11,
   "metadata": {},
   "outputs": [
    {
     "name": "stdout",
     "output_type": "stream",
     "text": [
      "float64\n",
      "float32\n"
     ]
    }
   ],
   "source": [
    "# Creiamo un vettore\n",
    "v = np.array([1, 2, 1.2])\n",
    "print(v.dtype) # np.float64\n",
    "\n",
    "# Creiamo lo stesso vettore in precisione singola\n",
    "v = np.array([1, 2, 1.2], dtype=np.float32)\n",
    "print(v.dtype)"
   ]
  },
  {
   "cell_type": "code",
   "execution_count": 12,
   "metadata": {},
   "outputs": [
    {
     "name": "stdout",
     "output_type": "stream",
     "text": [
      "[0.  0.1 0.2 0.3 0.4 0.5 0.6 0.7 0.8 0.9 1. ]\n",
      "[0. 0. 0.]\n"
     ]
    }
   ],
   "source": [
    "v = np.linspace(0, 1, 11)\n",
    "print(v)\n",
    "\n",
    "z = np.zeros((3,))\n",
    "print(z)"
   ]
  },
  {
   "cell_type": "code",
   "execution_count": 13,
   "metadata": {},
   "outputs": [
    {
     "name": "stdout",
     "output_type": "stream",
     "text": [
      "[[-1.55088753 -0.8810344 ]\n",
      " [ 0.18119844 -0.5942623 ]]\n",
      "[[0.65768987 0.09456384]\n",
      " [0.81680856 0.73217574]]\n"
     ]
    }
   ],
   "source": [
    "a = np.random.randn(2, 2)\n",
    "print(a)\n",
    "\n",
    "b = np.random.rand(2, 2)\n",
    "print(b)"
   ]
  },
  {
   "cell_type": "code",
   "execution_count": 14,
   "metadata": {},
   "outputs": [
    {
     "name": "stdout",
     "output_type": "stream",
     "text": [
      "a = [ 1 -1  0], b = [1. 2. 3.] \n",
      "Somma: [2. 1. 3.] \n",
      "Differenza: [ 0. -3. -3.] \n",
      "Prodotto: [ 1. -2.  0.] \n",
      "Divisione: [ 1.  -0.5  0. ].\n"
     ]
    }
   ],
   "source": [
    "# Creiamo due ndarray\n",
    "a = np.array([1, -1, 0])\n",
    "b = np.linspace(1, 3, 3) # array(1, 2, 3)\n",
    "\n",
    "# Eseguiamo operazioni tra loro\n",
    "s = a + b\n",
    "d = a - b\n",
    "p = a * b\n",
    "f = a / b\n",
    "\n",
    "print(f\"a = {a}, b = {b} \\nSomma: {s} \\nDifferenza: {d} \\nProdotto: {p} \\nDivisione: {f}.\")"
   ]
  },
  {
   "cell_type": "code",
   "execution_count": 15,
   "metadata": {},
   "outputs": [
    {
     "name": "stdout",
     "output_type": "stream",
     "text": [
      "(3,)\n",
      "[2 0 1]\n"
     ]
    }
   ],
   "source": [
    "# Definiamo una matrice A e un vettore x\n",
    "A = np.array([[1, 1, 1], [0, -1, 0], [0, 0, 1]])\n",
    "x = np.array([1, 0, 1])\n",
    "print(x.shape)\n",
    "\n",
    "# Calcoliamo y = Ax\n",
    "y = A@x\n",
    "print(y)"
   ]
  },
  {
   "cell_type": "code",
   "execution_count": 16,
   "metadata": {},
   "outputs": [
    {
     "name": "stdout",
     "output_type": "stream",
     "text": [
      "(3,)\n",
      "(1, 3)\n",
      "(3, 1)\n"
     ]
    }
   ],
   "source": [
    "x = np.array([1, 0, -1])\n",
    "print(x.shape)\n",
    "\n",
    "x_riga = np.array([[1, 0, -1]])\n",
    "print(x_riga.shape)\n",
    "\n",
    "x_col = np.array([[1], [0], [-1]])\n",
    "print(x_col.shape)"
   ]
  },
  {
   "cell_type": "code",
   "execution_count": 17,
   "metadata": {},
   "outputs": [
    {
     "name": "stdout",
     "output_type": "stream",
     "text": [
      "[ 0  0 -1]\n"
     ]
    }
   ],
   "source": [
    "print(A @ x)"
   ]
  },
  {
   "cell_type": "code",
   "execution_count": 18,
   "metadata": {},
   "outputs": [
    {
     "name": "stdout",
     "output_type": "stream",
     "text": [
      "[1. 2. 3. 4. 5. 6. 7. 8. 9.]\n",
      "[[1. 2. 3.]\n",
      " [4. 5. 6.]\n",
      " [7. 8. 9.]]\n",
      "[1. 2. 3. 4. 5. 6. 7. 8. 9.]\n"
     ]
    }
   ],
   "source": [
    "v = np.linspace(1, 9, 9)\n",
    "print(v)\n",
    "\n",
    "A = np.reshape(v, (3, 3))\n",
    "print(A)\n",
    "\n",
    "print(A.flatten())"
   ]
  },
  {
   "cell_type": "code",
   "execution_count": 19,
   "metadata": {},
   "outputs": [
    {
     "name": "stdout",
     "output_type": "stream",
     "text": [
      "[0.68216746 0.24079195 0.11525857 0.13800266 0.34760195]\n",
      "[0.77761393 0.43743837 0.13780199 0.42225251 0.11687666]\n",
      "[0.02186662 0.72493175 0.22141061 0.2289169  0.65970736]\n",
      "[False False False False  True]\n",
      "[ True False False  True False]\n",
      "[False False False False False]\n"
     ]
    }
   ],
   "source": [
    "# Definiamo tre vettori casuali\n",
    "a = np.random.rand(5)\n",
    "b = np.random.rand(5)\n",
    "c = np.random.rand(5)\n",
    "print(a)\n",
    "print(b)\n",
    "print(c)\n",
    "\n",
    "# Generiamo il vettore booleano `v` che vale True quando un elemento di `a`\n",
    "# è maggiore o uguale del corrispettivo elemento di `b`\n",
    "v = a >= b\n",
    "print(v)\n",
    "\n",
    "# E il vettore `w`che vale True quando un elemento di `b` è maggiore o uguale\n",
    "# del corrispettivo elemento di `c`\n",
    "w = b >= c\n",
    "print(w)\n",
    "\n",
    "# Ora uniamoli con un operazione di `and` elemento per elemento\n",
    "print(w & v)"
   ]
  },
  {
   "cell_type": "code",
   "execution_count": 20,
   "metadata": {},
   "outputs": [
    {
     "name": "stdout",
     "output_type": "stream",
     "text": [
      "[ 0  1 -1  2  1 -1]\n",
      "[ True  True False  True False False]\n",
      "[0 1 2]\n"
     ]
    }
   ],
   "source": [
    "# Creiamo un array di esempio\n",
    "v = np.array([0, 1, -1, 2, 1, -1])\n",
    "print(v)\n",
    "\n",
    "# Definiamo un vettore booleano\n",
    "b = np.array([True, True, False, True, False, False])\n",
    "print(b)\n",
    "\n",
    "# Slicing\n",
    "print(v[b])"
   ]
  },
  {
   "cell_type": "code",
   "execution_count": 21,
   "metadata": {},
   "outputs": [
    {
     "name": "stdout",
     "output_type": "stream",
     "text": [
      "[ 1.49209062  2.19010805 -0.15253686 -0.75753358  0.57432696]\n",
      "[-0.15253686 -0.75753358]\n"
     ]
    }
   ],
   "source": [
    "v = np.random.randn(5)\n",
    "print(v)\n",
    "print(v[v < 0])"
   ]
  },
  {
   "cell_type": "code",
   "execution_count": 22,
   "metadata": {},
   "outputs": [
    {
     "name": "stdout",
     "output_type": "stream",
     "text": [
      "[[1 2 3]\n",
      " [4 5 6]\n",
      " [7 8 9]]\n",
      "[[1 2]\n",
      " [4 5]]\n"
     ]
    }
   ],
   "source": [
    "# Creiamo la matrice\n",
    "A = np.array([[1, 2, 3], [4, 5, 6], [7, 8, 9]])\n",
    "print(A) \n",
    "\n",
    "# Slicing\n",
    "B = A[:2, :2]\n",
    "print(B)"
   ]
  },
  {
   "cell_type": "code",
   "execution_count": 23,
   "metadata": {},
   "outputs": [
    {
     "name": "stdout",
     "output_type": "stream",
     "text": [
      "Tempo impiegato con Python modo 1: 1.3553111553192139s\n"
     ]
    },
    {
     "name": "stdout",
     "output_type": "stream",
     "text": [
      "Tempo impiegato con Python modo 2: 0.6300599575042725s\n",
      "Tempo impiegato con Numpy: 0.011284112930297852s\n"
     ]
    }
   ],
   "source": [
    "import time\n",
    "import numpy as np\n",
    "import math\n",
    "\n",
    "# Costruiamo il vettore\n",
    "v = np.random.randn(10_000_000)\n",
    "\n",
    "# || v ||_1 con Python modo 1\n",
    "start_time = time.time()\n",
    "norma_1 = 0\n",
    "for i in range(len(v)):\n",
    "    norma_1 = norma_1 + abs(v[i])\n",
    "end_time = time.time()\n",
    "print(f\"Tempo impiegato con Python modo 1: {end_time - start_time}s\")\n",
    "\n",
    "# || v ||_1 con Python modo 2\n",
    "start_time = time.time()\n",
    "norma_1 = sum((abs(i) for i in v)) # list comprehension\n",
    "end_time = time.time()\n",
    "print(f\"Tempo impiegato con Python modo 2: {end_time - start_time}s\")\n",
    "\n",
    "# || v ||_1 con numpy\n",
    "start_time = time.time()\n",
    "norma_1 = np.sum(np.abs(v))\n",
    "end_time = time.time()\n",
    "print(f\"Tempo impiegato con Numpy: {end_time - start_time}s\")"
   ]
  }
 ],
 "metadata": {
  "kernelspec": {
   "display_name": "teaching",
   "language": "python",
   "name": "python3"
  },
  "language_info": {
   "codemirror_mode": {
    "name": "ipython",
    "version": 3
   },
   "file_extension": ".py",
   "mimetype": "text/x-python",
   "name": "python",
   "nbconvert_exporter": "python",
   "pygments_lexer": "ipython3",
   "version": "3.12.4"
  }
 },
 "nbformat": 4,
 "nbformat_minor": 2
}