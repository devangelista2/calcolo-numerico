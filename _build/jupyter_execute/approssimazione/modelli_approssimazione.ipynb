{
 "cells": [
  {
   "cell_type": "markdown",
   "metadata": {},
   "source": [
    "## Modelli di Approssimazione e Minimi Quadrati\n",
    "Come visto nel capitolo precedente, per sviluppare un Metodo di Approssimazione abbiamo bisogno prima di tutto di un set di dati. In tal senso, riconosciamo due tipologie principali di variabili:\n",
    "\n",
    "- Le variabili **indipendenti**, o variabili di **input**, che rappresentano un valore noto, come il giorno nell'esempio precedente. Queste sono spesso indicate con il simbolo $x$.\n",
    "- Le variabili **dipendenti**, o variabili di **output**, che rappresentano il valore che vogliamo prevedere. Queste sono spesso indicate con il simbolo $y$.\n",
    "\n",
    "> Un **set di dati** è quindi una collezione di coppie di valori $\\{ (x_1, y_1), (x_2, y_2), \\dots, (x_n, y_n) \\}$, tra loro associati.\n",
    "\n",
    "Come già accennato, gli algoritmi di approssimazione si basano su due assunzioni principali:\n",
    "\n",
    "1. I dati seguono l'andamento di una **curva** relativamente complessa, ma con un pattern chiaramente riconoscibile.\n",
    "2. I dati **NON** sono disposti in maniera precisa lungo la curva, ma mostrano un comportamento casuale: sono affetti da *rumore*.\n",
    "\n",
    "Matematicamente, possiamo rappresentare la prima assunzione dicendo:\n",
    "\n",
    "> Esiste una funzione $f(x)$ tale per cui $y \\approx f(x)$, dove l'errore tra la previsione $f(x)$ e i veri dati $y$ misurati è dovuta al solo rumore.\n",
    "\n",
    "La seconda ipotesi, invece, si riformula come:\n",
    "\n",
    "> Esiste una variabile casuale $e$ tale che $y = f(x) + e$ per ogni $x$.\n",
    "\n",
    "```{note}\n",
    "Nel seguito, assumeremo sempre che la variabile casuale $e$ abbia distribuzione normale. In particolare, se $y$ rappresenta un vettore di dimensione `(n,)`, allora assumeremo che $e$ sia generata da una funzione del tipo: `np.random.randn(n)`.\n",
    "```\n",
    "\n",
    "Date le due assunzioni precedenti, un *metodo di approssimazione* è un qualunque algoritmo che, fissato un modello $f_\\theta(x)$ dipendente da un'insieme di parametri $\\theta$, calcola il valore dei parametri $\\theta$ tali che $f_\\theta(x)$ sia il più possibile vicina a $f(x)$."
   ]
  },
  {
   "cell_type": "markdown",
   "metadata": {},
   "source": [
    "## Il problema test\n",
    "Lavorare con i dati reali come quelli descritti nella precedente sezione comporta una serie di problemi e difficoltà che, in un primo momento, è bene cercare di eliminare.\n",
    "\n",
    "Per questo motivo, come si è soliti fare, andiamo a costruire un problema test, dove la soluzione **esatta** è nota per definizione, e dove abbiamo un controllo più preciso sui dati.\n",
    "\n",
    "Per quanto detto precedentemente, la creazione di un problema test richiede di soddisfare le due assunzioni che abbiamo dichiarato, e quindi bisogna:\n",
    "\n",
    "1. Specificare una funzione $f(x)$.\n",
    "2. Generare del rumore Gaussiano $e$.\n",
    "\n",
    "Per questo corso, siamo interessati a modelli di approssimazione **polinomiali**, in cui cioè la funzione $f(x)$ si assume essere un polinomio nella variabile $x$ di grado $d$, ovvero:\n",
    "\n",
    "$$\n",
    "f(x) = a_0 + a_1 x + a_2 x^2 + \\dots + a_d x^d = \\sum_{k=0}^d a_k x^k.\n",
    "$$\n",
    "\n",
    "```{note}\n",
    "Dalla scrittura sopra si osserva una proprietà importante dei polinomi: una funzione polinomiale di grado $d$ dipende in maniera **unica** dai coefficienti $a_0, a_1, \\dots, a_d$ che moltiplicano le potenze di $x$.\n",
    "```\n",
    "\n",
    "Nel seguito raccogliamo per semplicità i coefficienti $a_0, a_1, \\dots, a_d$ in un unico vettore $\\alpha$, di shape `(d+1, )`."
   ]
  },
  {
   "cell_type": "code",
   "execution_count": 122,
   "metadata": {},
   "outputs": [],
   "source": [
    "import numpy as np\n",
    "\n",
    "# Definiamo la funzione f(x, alpha) che prende in input il vettore alpha dei coefficienti e un valore x, e ritorna il valore del rispettivo polinomio\n",
    "def f(x, alpha):\n",
    "    d = alpha.shape[0] - 1 # abbiamo detto che la shape di alpha è (d+1, )\n",
    "\n",
    "    y = 0\n",
    "    for i in range(d+1):\n",
    "        y = y + alpha[i] * x ** i\n",
    "    return y"
   ]
  },
  {
   "cell_type": "markdown",
   "metadata": {},
   "source": [
    "Definiamo ora un vettore $\\alpha_{true}$ di esempio, che rappresenta il **vettore dei parametri reali**, su cui costruiremo il nostro problema di test."
   ]
  },
  {
   "cell_type": "code",
   "execution_count": 123,
   "metadata": {},
   "outputs": [
    {
     "name": "stdout",
     "output_type": "stream",
     "text": [
      "(x = 3, y = 40.0)\n"
     ]
    }
   ],
   "source": [
    "# Definiamo alpha_true = (1, 1, ..., 1) \n",
    "# NOTA: si può scegliere un QUALUNQUE vettore alpha_true. Quello indicato è solo un esempio.\n",
    "d = 3 # grado del polinomio\n",
    "alpha_true = np.ones((d+1,))\n",
    "\n",
    "# Scegliamo un valore di x\n",
    "x = 3\n",
    "y = f(x, alpha_true)\n",
    "print(f\"(x = {x}, y = {y})\")"
   ]
  },
  {
   "cell_type": "markdown",
   "metadata": {},
   "source": [
    "A questo punto, costruiamo un set $x_1, \\dots, x_n$ di dati di *input* **sintetici**. Per farlo, prendiamo $n$ valori equidistribuiti nell'intervallo $[0, 1]$.\n",
    "\n",
    "```{nota}\n",
    "Come già detto precedentemente, la scelta dei dati $x_1, \\dots, x_n$ (come del vettore dei parametri $\\alpha$) è **libera** e serve solo a scopo esemplificativo per costruire un problema test di cui si conosce la soluzione esatta.\n",
    "```"
   ]
  },
  {
   "cell_type": "code",
   "execution_count": 124,
   "metadata": {},
   "outputs": [],
   "source": [
    "# Numero di dati\n",
    "n = 15\n",
    "\n",
    "# Definiamo gli x_i\n",
    "x = np.linspace(0, 1, n)"
   ]
  },
  {
   "cell_type": "markdown",
   "metadata": {},
   "source": [
    "A questo punto, per ogni $i = 1, \\dots n$, costruiamo i valori di output:\n",
    "\n",
    "$$\n",
    "y_i = f(x_i, \\alpha) + e_i = \\sum_{k=0}^n a_k x_i^k + e_i,\n",
    "$$\n",
    "\n",
    "dove $e_i$ è del rumore gaussiano estratto con la funzione `np.random.normal(loc=0, scale=sigma, size=(1, ))`, con deviazione standard `sigma = 0.1`."
   ]
  },
  {
   "cell_type": "code",
   "execution_count": 125,
   "metadata": {},
   "outputs": [],
   "source": [
    "# Definiamo la deviazione standard del rumore\n",
    "sigma = 0.1\n",
    "\n",
    "# Generiamo il rumore\n",
    "e = np.random.normal(loc=0, scale=sigma, size=(n, ))\n",
    "\n",
    "# Inizializziamo y\n",
    "y = np.zeros_like(x)\n",
    "\n",
    "for i in range(n):\n",
    "    y[i] = f(x[i], alpha_true) + e[i]"
   ]
  },
  {
   "cell_type": "markdown",
   "metadata": {},
   "source": [
    "Così che abbiamo a disposizione i nostri dati $\\{ (x_1, y_1), \\dots, (x_n, y_n) \\}$ dei quali sappiamo, **per costruzione**, che $\\alpha_{true} = (1, 1, \\dots, 1)$ è la soluzione esatta. \n",
    "\n",
    "La definizione del modello per l'approssimazione di tale funzione (ovvero, quella che avevamo chiamato precedentemente $f_\\theta(x)$), è in questo caso particolarmente semplice: basta considerare una funzione polinomiale\n",
    "\n",
    "$$\n",
    "f(x, \\alpha) = \\sum_{k=0}^d a_k x^k,\n",
    "$$\n",
    "\n",
    "e si cerca il valore di $\\alpha$ tale per cui $f(x, \\alpha) \\approx f(x, \\alpha_{true})$.\n",
    "\n",
    "```{warning}\n",
    "Si potrebbe pensare che risolvere questo task sia **banale**, ma così non è. Infatti, si osservi che i valori esatti di $f(x, \\alpha_{true})$ non sono noti, poiché noi stiamo assumendo di avere soltando accesso ad una versione *rumorosa* di $f(x, \\alpha_{true})$, rappresentata dagli $y_i$. Di conseguenza, recuperare il valore corretto di $\\alpha$ è un compito tutt'altro che semplice!\n",
    "```\n",
    "\n",
    "Come di consueto per la creazione di problemi test, assumiamo ora di **NON** conoscere la soluzione esatta $\\alpha_{true}$, e andiamo a costruire un'algoritmo che va a stimare dei parametri $\\alpha$. Possiamo quindi valutare la qualità della ricostruzione andando a confrontare i parametri $\\alpha$ calcolati con la soluzione esatta $\\alpha_{true}$. La qualità dell'algoritmo di ricostruzione verrà infatti valutata dall'errore relativo:\n",
    "\n",
    "$$\n",
    "E(\\alpha, \\alpha_{true}) = \\frac{|| \\alpha - \\alpha_{true} ||}{|| \\alpha_{true} ||}.\n",
    "$$\n",
    "\n",
    "Per farci un'idea del problema che stiamo per andare a risolvere, andiamo a rappresentare su un grafico i dati che abbiamo generato, e la curva \"vera\". Per semplicità, andiamo a ri-definire la funzione `f(x, alpha)` in maniera tale che prenda come input un numpy array `x` e ne ritorni il valore del polinomio descritto precedentemente, elemento per elemento."
   ]
  },
  {
   "cell_type": "code",
   "execution_count": 126,
   "metadata": {},
   "outputs": [
    {
     "data": {
      "image/png": "[encoded data removed]",
      "text/plain": [
       "<Figure size 640x480 with 1 Axes>"
      ]
     },
     "metadata": {},
     "output_type": "display_data"
    }
   ],
   "source": [
    "import numpy as np\n",
    "import matplotlib.pyplot as plt\n",
    "\n",
    "# Definiamo la funzione f(x, alpha) che prende in input il vettore alpha dei coefficienti e un vettore x di lunghezza n, e ritorna il valore del rispettivo polinomio calcolato su x elemento per elemento\n",
    "def f(x, alpha):\n",
    "    d = alpha.shape[0] - 1 # abbiamo detto che la shape di alpha è (d+1, )\n",
    "\n",
    "    y = np.zeros_like(x) # Questa è l'unica riga che dobbiamo cambiare rispetto a prima!\n",
    "    for i in range(d+1):\n",
    "        y = y + alpha[i] * x ** i\n",
    "    return y\n",
    "\n",
    "# Andiamo a rappresentare la curva *vera* in [0, 1]\n",
    "xx = np.linspace(0, 1, 100)\n",
    "yy = f(xx, alpha_true)\n",
    "\n",
    "plt.plot(xx, yy, 'b')\n",
    "plt.plot(x, y, 'ro')\n",
    "plt.grid()\n",
    "plt.show()"
   ]
  },
  {
   "cell_type": "markdown",
   "metadata": {},
   "source": [
    "## Approssimazione ai minimi quadrati\n",
    "Come abbiamo detto, come modello per l'approssimazione andiamo a scegliere:\n",
    "\n",
    "$$\n",
    "f_\\theta(x, \\alpha) = \\sum_{k=0}^d a_k x^k,\n",
    "$$\n",
    "\n",
    "dove $d$ (il grado del polinomio), viene scelto dall'utente e **NON** deve necessariamente essere uguale a quello utilizzato durante la creazione del problema test (che assumiamo di non conoscere).\n",
    "\n",
    "Prima di tutto notiamo che la definizione di $f_\\theta(x, \\alpha)$ può essere modificata osservando che, se definiamo:\n",
    "\n",
    "$$\n",
    "x^{(d)} := [ x^0 x^1 \\dots x^d ] \\in \\mathbb{R}^{d+1}\n",
    "$$\n",
    "\n",
    "come il vettore di lunghezza $d+1$ il cui $k$-esimo elemento è $x^k$, allora:\n",
    "\n",
    "$$\n",
    "f_\\theta(x, \\alpha) = \\alpha^T x^{(d)}.\n",
    "$$\n",
    "\n",
    "Come detto precedentemente, il nostro scopo è identificare quei parametri tali per cui $f_\\theta(x, \\alpha)$ approssimi $y$ (a meno di rumore) sui dati. Il modo più naturale per ottenere questo risultato è quello di minimizzare l'errore medio di predizione del modello $f_\\theta(x, \\alpha)$ (errore misurato, per motivi statistici, come distanza quadratica):\n",
    "\n",
    "$$\n",
    "\\min_{\\alpha} \\sum_{i=1}^n (f_\\theta(x_i, \\alpha) - y_i)^2 = \\\\\n",
    "\\min_{\\alpha} \\sum_{i=1}^n (\\alpha^T x_i^{(d)} - y_i)^2.\n",
    "$$\n",
    "\n",
    "Notare che, definendo:\n",
    "\n",
    "$$\n",
    "X = \\begin{bmatrix} {x_1^{(d)}}^T \\\\ {x_2^{(d)}}^T \\\\ \\vdots \\\\ {x_n^{(d)}}^T  \\end{bmatrix} = \\begin{bmatrix} x_1^0 & x_1^1 & \\dots & x_1^d \\\\ x_2^0 & x_2^1 & \\dots & x_2^d \\\\ \\vdots & \\vdots & \\ddots & \\vdots \\\\ x_n^0 & x_n^1 & \\dots & x_n^d  \\end{bmatrix} \\in \\mathbb{R}^{n \\times d},\n",
    "$$\n",
    "\n",
    "la matrice che ha per righe i dati, spesso chiamata **matrice di Vandermonde** di grado $d$ associata ad $\\{ x_1, x_2, \\dots, x_n \\}$, la formula sopra è equivalente a:\n",
    "\n",
    "$$\n",
    "\\min_{\\alpha} || X\\alpha - y ||_2^2,\n",
    "$$\n",
    "\n",
    "dove abbiamo indicato con $y = [y_1, \\dots, y_n]$ il vettore che ha per elementi i dati. \n",
    "\n",
    "Si osservi che il problema appena ottenuto non è altro che un *semplice* problema ai minimi quadrati, già affrontato a lezione, in cui la matrice è rappresentata dalla matrice di Vandermonde di grado $d$ associata ai dati $\\{ x_1, \\dots, x_n \\}$, mentre il termine noto è rappresentato dai dati (**rumorosi**) $\\{ y_1, \\dots, y_n \\}$. \n",
    "\n",
    "Andiamo a costruire queste quantità in Python.\n",
    "\n",
    "```{note}\n",
    "Il vettore `y` che abbiamo già costruito durante la costruzione del problema test, rappresenta lo stesso vettore $y$ della formulazione matematica ai minimi quadrati.\n",
    "```"
   ]
  },
  {
   "cell_type": "code",
   "execution_count": 127,
   "metadata": {},
   "outputs": [],
   "source": [
    "def vandermonde(x, d):\n",
    "    r\"\"\"\n",
    "    Preso in input un numpy array \"x\" di lunghezza (n, ) contentente i dati, e un valore intero \"d\" rappresentante il grado del polinomio, \n",
    "    costruisce e ritorna la matrice di vandermonde X di grado d, associata a x.\n",
    "\n",
    "    Parameters:\n",
    "    x (ndarray): Il vettore dei dati di input.\n",
    "    d (int): Il grado massimo del polinomio.\n",
    "\n",
    "    Returns:\n",
    "    X (ndarray): La matrice di Vandermonde di grado \"d\", associata ad x.\n",
    "    \"\"\"\n",
    "    n = x.shape[0]\n",
    "    \n",
    "    # Inizializzo la matrice di Vandermonde con shape (n, d+1)\n",
    "    X = np.zeros((n, d+1))\n",
    "    \n",
    "    # Costruisco la matrice di Vandermonde\n",
    "    for i in range(d+1):\n",
    "        X[:, i] = x ** i\n",
    "    return X\n",
    "\n",
    "# Definiamo la matrice di Vandermonde tramite la funzione appena definita con grado d = 5\n",
    "d = 5\n",
    "X = vandermonde(x, d)"
   ]
  },
  {
   "cell_type": "markdown",
   "metadata": {},
   "source": [
    "Ora, dato un vettore $\\alpha$ di lunghezza $d+1$, possiamo calcolare il valore del **residuo**, definito come:\n",
    "\n",
    "$$\n",
    "r(\\alpha) := || X\\alpha - y ||_2^2,\n",
    "$$\n",
    "\n",
    "che misura la discrepanza tra la previsione del modello di approssimazione (cioè $X\\alpha$), e i dati misurati ($y$). Risolvere il problema ai minimi quadrati corrisponde a minimizzare questa quantità. "
   ]
  },
  {
   "cell_type": "code",
   "execution_count": 128,
   "metadata": {},
   "outputs": [
    {
     "name": "stdout",
     "output_type": "stream",
     "text": [
      "Residuo: 35.31299810468908.\n"
     ]
    }
   ],
   "source": [
    "def residuo(X, y, alpha):\n",
    "    r = np.linalg.norm(X @ alpha - y) ** 2\n",
    "    return r\n",
    "\n",
    "# Testiamo la funzione con un alpha generato casualmente\n",
    "alpha = np.random.randn(d+1)\n",
    "print(f\"Residuo: {residuo(X, y, alpha)}.\")"
   ]
  },
  {
   "cell_type": "markdown",
   "metadata": {},
   "source": [
    "## Risoluzione mediante Equazioni Normali\n",
    "Dobbiamo quindi trovare il valore di $\\alpha$ che risolva:\n",
    "\n",
    "$$\n",
    "\\min_{\\alpha} || X\\alpha - y ||_2^2.\n",
    "$$\n",
    "\n",
    "Avete già visto a lezione che questo può essere fatto risolvendo le **equazioni normali** associate a tale problema, ovvero:\n",
    "\n",
    "$$\n",
    "X^T X \\alpha = X^T y.\n",
    "$$\n",
    "\n",
    "Questo può essere fatto tramite:\n",
    "\n",
    "* Decomposizione di Cholesky;\n",
    "* Decomposizione ai Valori Singolari (SVD);\n",
    "\n",
    "Vediamo i due metodi nel dettaglio."
   ]
  },
  {
   "cell_type": "markdown",
   "metadata": {},
   "source": [
    "### Risoluzione tramite Cholesky\n",
    "Avete già osservato come la matrice del sistema delle equazioni normali associato al problema dei minimi quadrati sia Simmetrica e Definita Positiva (SDP), condizione necessaria e sufficiente per l'applicabilità del metodo di Cholesky, se e solo se la matrice $X$ ha rango massimo.\n",
    "\n",
    "Siccome $X$ ha dimensione $(n, d+1)$, e siccome (auspicabilmente), $n \\gg d+1$, allora il rango di $X$ è massimo se e solo se è uguale a $d+1$. Verifichiamo che questo succede."
   ]
  },
  {
   "cell_type": "code",
   "execution_count": 129,
   "metadata": {},
   "outputs": [
    {
     "name": "stdout",
     "output_type": "stream",
     "text": [
      "Il rango di X è massimo? True.\n"
     ]
    }
   ],
   "source": [
    "# Calcoliamo il rango della matrice di Vandermonde X\n",
    "rk_X = np.linalg.matrix_rank(X)\n",
    "print(f\"Il rango di X è massimo? {rk_X == (d+1)}.\")"
   ]
  },
  {
   "cell_type": "markdown",
   "metadata": {},
   "source": [
    "Possiamo quindi applicare la decomposizione di Cholesky, che trova una matrice triangolare inferore $L$ tale che:\n",
    "\n",
    "$$\n",
    "X^T X = L L^T.\n",
    "$$\n",
    "\n",
    "Il sistema dell equazioni normali può quindi essere risolto tramite il metodo della sostituzione all'Avanti e all'Indietro, ovvero risolvendo i due sistemi (triangolari):\n",
    "\n",
    "$$\n",
    "\\begin{cases}\n",
    "    L z = X^T y \\\\\n",
    "    L^T \\alpha = z.\n",
    "\\end{cases}\n",
    "$$\n",
    "\n",
    "In Python:"
   ]
  },
  {
   "cell_type": "code",
   "execution_count": 130,
   "metadata": {},
   "outputs": [
    {
     "name": "stdout",
     "output_type": "stream",
     "text": [
      "|| X^T X - L L^T || = 1.9860273225978185e-15.\n"
     ]
    }
   ],
   "source": [
    "# Troviamo la matrice L tale che X^T X = L L^T\n",
    "L = np.linalg.cholesky(X.T @ X)\n",
    "\n",
    "# Verifichiamo che X^T X = L L^T\n",
    "print(f\"|| X^T X - L L^T || = {np.linalg.norm(X.T @ X - L @ L.T)}.\")"
   ]
  },
  {
   "cell_type": "code",
   "execution_count": 131,
   "metadata": {},
   "outputs": [],
   "source": [
    "###### Risolviamo il primo sistema:\n",
    "# Calcoliamo il termine noto X^T y\n",
    "Xty = X.T @ y\n",
    "\n",
    "# Troviamo z\n",
    "z = np.linalg.solve(L, Xty)\n",
    "\n",
    "###### Risolviamo il secondo sistema:\n",
    "# Troviamo alpha\n",
    "alpha_chol = np.linalg.solve(L.T, z)"
   ]
  },
  {
   "cell_type": "markdown",
   "metadata": {},
   "source": [
    "Una volta trovata la nostra soluzione `alpha_sol`, visualizziamo su grafico come viene la curva calcolata tramite questo algoritmo di approssimazione rispetto ai dati che abbiamo a disposizione e rispetto alla curva vera. "
   ]
  },
  {
   "cell_type": "code",
   "execution_count": 132,
   "metadata": {},
   "outputs": [
    {
     "data": {
      "image/png": "[encoded data removed]",
      "text/plain": [
       "<Figure size 640x480 with 1 Axes>"
      ]
     },
     "metadata": {},
     "output_type": "display_data"
    }
   ],
   "source": [
    "# Rappresentiamo la curva *approssimata* in [0, 1]\n",
    "xx = np.linspace(0, 1, 100)\n",
    "yy_true = f(xx, alpha_true)\n",
    "yy_chol = f(xx, alpha_chol)\n",
    "\n",
    "plt.plot(xx, yy_chol, 'g')\n",
    "plt.plot(xx, yy_true, 'b')\n",
    "plt.plot(x, y, 'ro')\n",
    "plt.legend([\"Cholesky\", \"True\"])\n",
    "plt.grid()\n",
    "plt.show()"
   ]
  },
  {
   "cell_type": "markdown",
   "metadata": {},
   "source": [
    "E' abbastanza chiaro che la curva ricostruita non riesce ad approssimare correttamente i dati. Prima di discutere le ragioni e le possibili soluzioni di questo comportamento, vediamo come risolvere in maniera alternativa il problema ai minimi quadrati tramite decomposizione a valori singolari."
   ]
  },
  {
   "cell_type": "markdown",
   "metadata": {},
   "source": [
    "### Risoluzione tramite SVD\n",
    "Consideriamo la decomposizione a Valori Singolari (SVD) della matrice $X$:\n",
    "\n",
    "$$\n",
    "X = U \\Sigma V^T,\n",
    "$$\n",
    "\n",
    "dove $U \\in \\mathbb{R}^{n \\times n}$ e $V \\in \\mathbb{R}^{(d+1) \\times (d+1)}$ sono matrici ortogonali, mentre $\\Sigma \\in \\mathbb{R}^{n \\times (d+1)}$ è una matrice diagonale i cui elementi sulla diagonale sono i valori singolari di $X$, in ordine decrescente.\n",
    "\n",
    "In Python, è possibile calcolare la decomposizione SVD di $X$ tramite il comando `np.linalg.svd(X)`. Questa funzione ritorna tre `ndarray`: `U`, `s` e `VT`, dove `U` e `VT` rappresentano le matrici $U$ e $V^T$, rispettivamente, mentre `s` è un vettore che rappresenta la diagonale di $\\Sigma$, ovvero i valori singolari della matrice $X$, in ordine decrescente."
   ]
  },
  {
   "cell_type": "code",
   "execution_count": 133,
   "metadata": {},
   "outputs": [
    {
     "name": "stdout",
     "output_type": "stream",
     "text": [
      "|| X - U Sigma V^T || = 2.4905065272728362e-15\n"
     ]
    }
   ],
   "source": [
    "# Calcoliamo la SVD di X\n",
    "U, s, VT = np.linalg.svd(X)\n",
    "\n",
    "# Costruiamo la matrice Sigma esplicitamente (per controllare che la SVD sia stata \n",
    "# svolta correttamente)\n",
    "Sigma = np.zeros((n, d+1))\n",
    "for i in range(d+1):\n",
    "    Sigma[i, i] = s[i]\n",
    "\n",
    "# Calcoliamo || X - U * Sigma * VT ||\n",
    "print(f\"|| X - U Sigma V^T || = {np.linalg.norm(X - U @ Sigma @ VT)}\")"
   ]
  },
  {
   "cell_type": "markdown",
   "metadata": {},
   "source": [
    "Ricordando che le matrici $U$ e $V$ sono ortognali, le equazioni normali diventano:\n",
    "\n",
    "$$\n",
    "X^T X \\alpha = X^T y \\iff V \\Sigma^2 V^T = V \\Sigma U^T y \\iff \\Sigma^2 V^T = \\Sigma U^T y\n",
    "$$\n",
    "\n",
    "La cui soluzione esplicita è:\n",
    "\n",
    "$$\n",
    "    \\alpha = \\sum_{i=1}^{d+1} \\frac{u_i^T y}{\\sigma_i} v_i. \n",
    "$$\n",
    "\n",
    "Questa operazione può semplicemente essere implementata in Python come:"
   ]
  },
  {
   "cell_type": "code",
   "execution_count": 134,
   "metadata": {},
   "outputs": [
    {
     "data": {
      "image/png": "[encoded data removed]",
      "text/plain": [
       "<Figure size 640x480 with 1 Axes>"
      ]
     },
     "metadata": {},
     "output_type": "display_data"
    }
   ],
   "source": [
    "# Inizializzazione di alpha\n",
    "alpha_svd = np.zeros((d+1, ))\n",
    "\n",
    "# Aggiornamento\n",
    "for i in range(d+1):\n",
    "    alpha_svd = alpha_svd + (U[:, i].T @ y) / s[i] * VT[i, :]\n",
    "\n",
    "# Rappresentiamo tutte le soluzioni su grafico\n",
    "xx = np.linspace(0, 1, 100)\n",
    "yy_true = f(xx, alpha_true)\n",
    "yy_chol = f(xx, alpha_chol)\n",
    "yy_svd = f(xx, alpha_svd)\n",
    "\n",
    "plt.plot(xx, yy_svd, 'k')\n",
    "plt.plot(xx, yy_chol, 'g')\n",
    "plt.plot(xx, yy_true, 'b')\n",
    "plt.plot(x, y, 'ro')\n",
    "plt.legend([\"SVD\", \"Cholesky\", \"True\"])\n",
    "plt.grid()\n",
    "plt.show()"
   ]
  },
  {
   "cell_type": "markdown",
   "metadata": {},
   "source": [
    "Le soluzioni $\\alpha_{chol}$ e $\\alpha_{SVD}$ sono, come ci si aspetta, identiche, poiché soluzioni dello stesso problema dei minimi quadrati, che ha soluzione unica."
   ]
  },
  {
   "cell_type": "markdown",
   "metadata": {},
   "source": [
    "> **Esercizio:** Prova a ri-eseguire lo script precedente modificando:\n",
    "> - il numero $n$ dei dati,\n",
    "> - il grado del polinomio che genera il problema test,\n",
    "> - la quantità di rumore aggiunto sui dati,\n",
    "> - il grado del polinomio del modello approssimante.\n",
    "> \n",
    "> Cosa osservi, riguardo al comportamento del polinomio approssimante risultante?"
   ]
  }
 ],
 "metadata": {
  "kernelspec": {
   "display_name": "teaching",
   "language": "python",
   "name": "python3"
  },
  "language_info": {
   "codemirror_mode": {
    "name": "ipython",
    "version": 3
   },
   "file_extension": ".py",
   "mimetype": "text/x-python",
   "name": "python",
   "nbconvert_exporter": "python",
   "pygments_lexer": "ipython3",
   "version": "3.12.4"
  }
 },
 "nbformat": 4,
 "nbformat_minor": 2
}