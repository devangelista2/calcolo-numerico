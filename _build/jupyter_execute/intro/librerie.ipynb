{
 "cells": [
  {
   "cell_type": "markdown",
   "metadata": {},
   "source": [
    "# Incrementare le funzionalità di base tramite le librerie\n",
    "\n",
    "Tutti i programmi esistenti, dai videogiochi, ai modelli di intelligenza artificiali, possono essere implementati utilizzando le funzionalità viste fino ad ora. Ma per farlo, oltre ad una conoscenza dettagliata di tutti gli aspetti che compongono tali software, sarebbe necessario scrivere un programma gigantesco, composto da milioni di righe di codice. \n",
    "\n",
    "Per evitare che chiunque voglia intraprendere un progetto complesso in Python debba riscriversi da zero tutte le funzioni di base, negli anni sono stati implementati una serie di **pacchetti** di funzioni, ciascuno contenente delle specifiche funzionalità. Quando ce ne fosse bisogno, è quindi possibile caricare in memoria tali pacchetti, così da avere a disposizione tutta una gamma di funzioni in grado di aiutarci a risolvere il nostro problema."
   ]
  },
  {
   "cell_type": "markdown",
   "metadata": {},
   "source": [
    "### Pacchetti `built-in`\n",
    "La maggior parte dei pacchetti che implementano funzioni genericamente utili, sono `built-in`, ovvero possono essere richiamate direttamente da Python, senza dover scaricare nulla di extra. \n",
    "\n",
    "Per caricare in memoria una libreria `built-in`, basta semplicemente utilizzare il comando `import NOME_LIBRERIA`. Per convenzione, il caricamento delle librerie viene sempre fatto come prima cosa, all'interno del proprio script di codice.\n",
    "\n",
    "Vediamo ad esempio le librerie `built-in` `random` e `math`, che implementano funzioni per lavorare con estrazioni casuali e tutte le funzioni matematiche di base, rispettivamente."
   ]
  },
  {
   "cell_type": "code",
   "execution_count": 1,
   "metadata": {},
   "outputs": [],
   "source": [
    "# Importiamo le librerie random e math\n",
    "import random\n",
    "import math"
   ]
  },
  {
   "cell_type": "markdown",
   "metadata": {},
   "source": [
    "Per richiamare una funzione di libreria, è necessario indicare il nome della funzione, preceduto dal nome della libreria che lo contiene, separati da un `.`."
   ]
  },
  {
   "cell_type": "code",
   "execution_count": 2,
   "metadata": {},
   "outputs": [
    {
     "name": "stdout",
     "output_type": "stream",
     "text": [
      "e^0.262 = 1.300.\n"
     ]
    }
   ],
   "source": [
    "# Estriamo un numero casuale tra 0 e 1\n",
    "x = random.random() # La funzione random() del pacchetto random, \n",
    "                    # estrae un numero in (0, 1)\n",
    "\n",
    "# Calcoliamo y = e^x\n",
    "y = math.exp(x)\n",
    "\n",
    "print(f\"e^{x:0.3f} = {y:0.3f}.\")"
   ]
  },
  {
   "cell_type": "markdown",
   "metadata": {},
   "source": [
    "### Importare una libreria con renaming\n",
    "Quando all'interno di uno stesso codice è necessario utilizzare varie volte una stessa libreria, scrivere tutte le volte il nome della libreria prima delle funzioni può diventare inefficiente, specialmente se il nome della libreria è lungo.\n",
    "\n",
    "Per risolvere questo problema, Python introduce la possibilità di dare un nome personalizzato alla libreria importata, così da renderla più semplice da utilizzare nei riferimenti delle funzioni.\n",
    "\n",
    "Vediamo ad esempio come importare la libreria `random`, chiamandola con il nome personalizzato `rnd`."
   ]
  },
  {
   "cell_type": "code",
   "execution_count": 3,
   "metadata": {},
   "outputs": [
    {
     "name": "stdout",
     "output_type": "stream",
     "text": [
      "0.9875969204172768\n"
     ]
    }
   ],
   "source": [
    "import random as rnd\n",
    "\n",
    "# Genero un numero casuale\n",
    "x = rnd.random()\n",
    "print(x)"
   ]
  },
  {
   "cell_type": "markdown",
   "metadata": {},
   "source": [
    "Se invece abbiamo intenzione di utilizzare la libreria con molta frequenza, Python offre anche la possibilità di integrare le funzioni di libreria con il linguaggio Python base, in maniera da poterle utilizzare senza dover utilizzare alcun riferimento per utilizzarne le funzioni. \n",
    "\n",
    "```{warning}\n",
    "Se la libreria contiene una funzione che ha lo stesso nome di un'altra funzione di Python, questo procedimento andrà a sovrascrivere la funzione originale. Quindi, utilizzare questa funzione con cautela.\n",
    "```"
   ]
  },
  {
   "cell_type": "code",
   "execution_count": 4,
   "metadata": {},
   "outputs": [
    {
     "name": "stdout",
     "output_type": "stream",
     "text": [
      "0.019882370075315355\n"
     ]
    }
   ],
   "source": [
    "from random import *\n",
    "from math import *\n",
    "\n",
    "# Genero un numero casuale\n",
    "x = random()\n",
    "y = asin(x)\n",
    "\n",
    "print(y)"
   ]
  },
  {
   "cell_type": "markdown",
   "metadata": {},
   "source": [
    "Un'altra funzionalità interessante utilizzabile quando si va ad importare una libreria in uno script Python, è la possibilità di importare non l'intera libreria, ma solo alcune funzioni specifiche in modo da ridurre il tempo richiesto per il caricamento della libreria stessa. \n",
    "\n",
    "Vediamo ad esempio come importare le funzioni seno, coseno e tangente dalla libreria `math`, senza importare l'intera libreria."
   ]
  },
  {
   "cell_type": "code",
   "execution_count": 5,
   "metadata": {},
   "outputs": [],
   "source": [
    "from math import sin, cos, tan\n",
    "from random import *\n",
    "\n",
    "# Genero un numero casuale\n",
    "x = random()\n",
    "y = sin(x) # Importata"
   ]
  },
  {
   "cell_type": "markdown",
   "metadata": {},
   "source": [
    "### Moduli definiti dall'utente\n",
    "\n",
    "Chiaramente, è assolutamente possibile scrivere una propria _libreria_, ovvero una propria collezione di funzioni, che possono essere d'aiuto per sviluppare progetti più complessi. Anzi, ogni progetto che si rispetti implementa dei moduli personalizzati di funzioni che migliorano la lettura del codice, dislocando le funzionalità in più file, ciascuno contenente delle specifiche funzioni.\n",
    "\n",
    "Supponiamo ad esempio di scrivere un paio di funzioni di utilità per un programma di contabilità: una che prende in input un prezzo di EUR e lo converte in USD con un certo cambio (di default il cambio attuale di 1 EUR = 1.10 USD), l'altro che viceversa converte un prezzo in USD, in EUR."
   ]
  },
  {
   "cell_type": "code",
   "execution_count": 6,
   "metadata": {},
   "outputs": [],
   "source": [
    "def eur_to_usd(prezzo: float, tasso: float = 1.10) -> float:\n",
    "    r\"\"\"\n",
    "    Preso in input il prezzo in EUR e il tasso di cambio, lo converte in USD \n",
    "    e ritorna tale valore.\n",
    "\n",
    "    Parameters:\n",
    "\n",
    "    prezzo (float): il prezzo in euro.\n",
    "    tasso (float): il tasso di cambio da EUR in USD.\n",
    "\n",
    "    Returns:\n",
    "    (float): il prezzo in dollari.\n",
    "    \"\"\"\n",
    "    return prezzo * tasso\n",
    "\n",
    "def usd_to_eur(prezzo: float, tasso: float = 0.91) -> float:\n",
    "    r\"\"\"\n",
    "    Preso in input il prezzo in USD e il tasso di cambio, lo converte in EUR \n",
    "    e ritorna tale valore.\n",
    "\n",
    "    Parameters:\n",
    "\n",
    "    prezzo (float): il prezzo in dollari.\n",
    "    tasso (float): il tasso di cambio da USD in EUR.\n",
    "\n",
    "    Returns:\n",
    "    (float): il prezzo in euro.\n",
    "    \"\"\"\n",
    "    return prezzo * tasso"
   ]
  },
  {
   "cell_type": "markdown",
   "metadata": {},
   "source": [
    "E supponiamo di salvare il file con queste funzioni all'interno della cartella del progetto, chiamandolo `conversioni.py`.\n",
    "\n",
    "A questo punto, è possibile importare queste funzioni in un'altro script per poterle utilizzare in un qualunque programma, semplicemente facendo:\n",
    "\n",
    "```\n",
    "import conversioni\n",
    "\n",
    "# Prezzo in euro\n",
    "prezzo_EUR = 550\n",
    "prezzo_USD = conversioni.eur_to_usd(prezzo_EUR)\n",
    "```\n",
    "\n",
    "o, se il file `conversioni.py` si trova all'interno di una cartella `utilita`:\n",
    "\n",
    "```\n",
    "from utilita import conversioni\n",
    "\n",
    "# Prezzo in euro\n",
    "prezzo_EUR = 550\n",
    "prezzo_USD = conversioni.eur_to_usd(prezzo_EUR)\n",
    "```"
   ]
  },
  {
   "cell_type": "markdown",
   "metadata": {},
   "source": [
    "### `pip` e `conda`\n",
    "Quando si lavora con funzioni più specifiche o di uso meno comune, quasi sicuramente non sarà disponibile una libreria `built-in` che implementa tali funzionalità. In tal caso, è possibile attingere dalla quasi infinita lista di librerie disponibili online, pensate per svolgere pressoché qualuqune compito.\n",
    "\n",
    "Per scaricare ed installare sul proprio environment virtuale una libreria specifica, è possibile utilizzare uno dei due più comuni `package-manager` ad oggi: `pip` e `conda`. Il loro funzionamento è molto simile: in generale, su `pip` sono disponibili molte più librerie, ma spesso si vengono a generare dei conflitti (poiché `pip` non ha un controllo sulle incompatibilità tra versioni), mentre su `conda` sono disponibili meno librerie, ma si occupa lui di gestire la compatibilità tra le versioni delle librerie.\n",
    "\n",
    "In ogni caso, per installare una libreria con `pip`, posizionarsi sul virtual environment corretto con il comando:\n",
    "\n",
    "```\n",
    "conda activate <nome_environment>\n",
    "```\n",
    "\n",
    "E poi lanciare il comando:\n",
    "\n",
    "```\n",
    "pip install <nome_libreria>\n",
    "```\n",
    "\n",
    "Similmente, per installare una libreria tramite `conda`, il comando in genere è:\n",
    "\n",
    "```\n",
    "conda install <nome_libreria>\n",
    "```\n",
    "\n",
    "tranne per alcune librerie, che hanno dei comandi particolari per essere installate. Fare riferimento alla pagina di installazione della libreria per questi specifici casi."
   ]
  },
  {
   "cell_type": "markdown",
   "metadata": {},
   "source": [
    "Una volta installato una libreria, questa sarà disponibile nello stesso modo in cui lo sono le librerie built-in. Quindi, possono essere importate semplicemente con il comando:\n",
    "\n",
    "```\n",
    "import <nome_libreria>\n",
    "```"
   ]
  }
 ],
 "metadata": {
  "language_info": {
   "codemirror_mode": {
    "name": "ipython",
    "version": 3
   },
   "file_extension": ".py",
   "mimetype": "text/x-python",
   "name": "python",
   "nbconvert_exporter": "python",
   "pygments_lexer": "ipython3",
   "version": "3.12.4"
  }
 },
 "nbformat": 4,
 "nbformat_minor": 2
}