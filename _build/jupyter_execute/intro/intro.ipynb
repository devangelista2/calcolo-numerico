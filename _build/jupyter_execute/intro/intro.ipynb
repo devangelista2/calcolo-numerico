{
 "cells": [
  {
   "cell_type": "markdown",
   "metadata": {},
   "source": [
    "## Variabili e tipi di dato\n",
    "\n",
    "Le variabili sono dei contenitori che permettono di memorizzare e manipolare dati, semplificando il processo di sviluppo e rendendo il codice più flessibile e leggibile.\n",
    "\n",
    "A differenza della maggior parte dei linguaggi di programmazione (come ad esempio C, C++, Java, ...), Python è un linguaggio dinamicamente tipizzato, il che significa che le variabili non richiedono una dichiarazione esplicita del tipo e possono cambiare tipo durante l'esecuzione del programma.\n",
    "\n",
    "L'assegnazione di varabili in Python avviene come di consueto con l'operatore `=`, che si occupa **sia** di instanziare la variabile nel caso in cui non esistesse, sia di attribuirgli il valore richiesto, inferendo in automatico il tipo di dato.\n",
    "\n",
    "Vediamo come creare alcune tipologie di variabili."
   ]
  },
  {
   "cell_type": "code",
   "execution_count": 1,
   "metadata": {},
   "outputs": [],
   "source": [
    "a = 3 # Intera\n",
    "x = 2.1 # Float\n",
    "s = \"pippo\" # Stringa\n",
    "b = True # Booleana"
   ]
  },
  {
   "cell_type": "markdown",
   "metadata": {},
   "source": [
    "Per visualizzare il tipo di una variabile, si utilizza la funzione `type()`."
   ]
  },
  {
   "cell_type": "code",
   "execution_count": 2,
   "metadata": {},
   "outputs": [
    {
     "name": "stdout",
     "output_type": "stream",
     "text": [
      "<class 'int'>\n"
     ]
    }
   ],
   "source": [
    "print(type(a))"
   ]
  },
  {
   "cell_type": "markdown",
   "metadata": {},
   "source": [
    "Una volta creata una variabile, questa può essere anche riassegnata ad un nuovo valore, o anche ad un valore di tipo diverso! L'interprete di Python si occuperà di gestire la conversione di tipo."
   ]
  },
  {
   "cell_type": "code",
   "execution_count": 3,
   "metadata": {},
   "outputs": [
    {
     "name": "stdout",
     "output_type": "stream",
     "text": [
      "<class 'float'>\n"
     ]
    }
   ],
   "source": [
    "a = 3.6 # Assegnamo alla variabile un valore di tipo diverso\n",
    "print(type(a)) # Osserviamo come cambia il tipo"
   ]
  },
  {
   "cell_type": "markdown",
   "metadata": {},
   "source": [
    "E' inoltre possibile forzare Python a cambiare il tipo di una variabile, utilizzando le funzioni di conversione. Per esempio, se chiamiamo la funzione di conversione `a = int(a)` per convertire `a` ad un valore intero, Python cercherà un modo di farlo. In questo caso, il risultato sarà che la parte decimale di `a` verrà semplicemente troncata."
   ]
  },
  {
   "cell_type": "code",
   "execution_count": 4,
   "metadata": {},
   "outputs": [
    {
     "name": "stdout",
     "output_type": "stream",
     "text": [
      "3.6\n",
      "3\n"
     ]
    }
   ],
   "source": [
    "print(a)\n",
    "print(int(a))"
   ]
  }
 ],
 "metadata": {
  "kernelspec": {
   "display_name": "nn",
   "language": "python",
   "name": "python3"
  },
  "language_info": {
   "codemirror_mode": {
    "name": "ipython",
    "version": 3
   },
   "file_extension": ".py",
   "mimetype": "text/x-python",
   "name": "python",
   "nbconvert_exporter": "python",
   "pygments_lexer": "ipython3",
   "version": "3.12.4"
  }
 },
 "nbformat": 4,
 "nbformat_minor": 2
}