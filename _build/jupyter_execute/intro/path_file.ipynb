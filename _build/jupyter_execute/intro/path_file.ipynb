{
 "cells": [
  {
   "cell_type": "markdown",
   "metadata": {},
   "source": [
    "# Gestione del `path` e files\n",
    "In questa sezione, andremo ad introdurre un concetto estremamente importante, ovvero quello di `path` (assoluto e relativo), e `working directory`. \n",
    "\n",
    "I path sono delle stringhe che indicano l'indirizzo di un file o di una directory all'interno del computer. Quando si specifica un path su Python, è importante distinguere tra il path assoluto e il path relativo.\n",
    "\n",
    "* **Path assoluto:** Specifica l'intero percorso a partire dalla directory radice. È un percorso completo che include tutte le directory necessarie per raggiungere il file o la directory desiderata.\n",
    "Ad esempio, un file `esempio.txt`, presente sul Desktop, avrà il seguente path:\n",
    "    - Su macOS/Linux: `/Users/nomeUtente/Desktop/esempio.txt`\n",
    "    - Su Windows: `C:\\Users\\nomeUtente\\Desktop\\esempio.txt`\n",
    "\n",
    "* **Path relativo:** Specifica il percorso rispetto alla directory corrente. Ad esempio, se ci troviamo nel percorso `/Users/nomeUtente/`, un percorso relativo per il file `esempio.txt` sarebbe: `./Desktop/esempio.txt`.\n",
    "\n",
    "A tal proposito, un concetto importante è quello della directory corrente (o **working directory**). Questo rappresenta la directory in cui il programma Python sta operando, ovvero la *radice* del progetto Python su cui stiamo lavorando. E' importante ricordare che **tutti** i percorsi dei file (per lettura/scrittura), devono essere dati rispetto alla working directory. Altrimenti, si occorre in un'errore.\n",
    "\n",
    "```{warning}\n",
    "Nel seguito, i comandi verranno sempre indicati seguendo la notazione di macOS/Linux. Ricordarsi di modificare la notazione nel caso in cui si lavori con sistemi Windows.\n",
    "```"
   ]
  },
  {
   "cell_type": "markdown",
   "metadata": {},
   "source": [
    "### Librerie `os` e `glob`\n",
    "Quando si tratta di gestione del path, due librerie built-in svolgono un ruolo di primaria importanza: la libreria `os` e la libreria `glob`. Essendo built-in, è possibile semplicemente caricarle in memoria utilizzando il comando `import os` e `import glob`, rispettivamente.\n",
    "\n",
    "Vediamo ad esempio come visualizzare e come modificare la working directory, tramite la libreria `os`."
   ]
  },
  {
   "cell_type": "code",
   "execution_count": 1,
   "metadata": {},
   "outputs": [
    {
     "name": "stdout",
     "output_type": "stream",
     "text": [
      "/Users/davideevangelista/calcolo-numerico/intro\n",
      "/Users/davideevangelista/Desktop\n"
     ]
    }
   ],
   "source": [
    "import os\n",
    "\n",
    "# Visualizza la directory di lavoro corrente\n",
    "print(os.getcwd())\n",
    "\n",
    "# Modifica la directory di lavoro (se necessario)\n",
    "os.chdir(\"/Users/davideevangelista/Desktop\")\n",
    "print(os.getcwd())  # Verifica che la working directory sia cambiata"
   ]
  },
  {
   "cell_type": "markdown",
   "metadata": {},
   "source": [
    "Oltre a queste, la libreria `os` offre varie funzioni per gestire i path. Infatti, alcune funzioni rilevanti di tale libreria sono:\n",
    "\n",
    "* `os.path.join(path1, path2, ...)`: Prende in input una serie di stringhe e ritorna in output il path ottenuto concatenando tali stringhe, inserendo automaticamente il separatore corretto in base al sistema operativo.\n",
    "\n",
    "* `os.listdir(path)`: Dato un path in input, ritorna l'elenco di tutti i files e le directory contenuti in esso, nella forma di una lista.\n",
    "\n",
    "* `os.path.exists(path)`: Dato un path in input, ritorna `True` se tale path esiste, `False` altrimenti.\n",
    "\n",
    "* `os.makedirs(path, exists_ok=True)`: Preso in input un path, non fa niente se il path richiesto esiste. Crea invece tutte le cartelle necessarie per costruirlo, se tale path non esiste.\n",
    "\n",
    "Vediamo alcuni esempi:"
   ]
  },
  {
   "cell_type": "code",
   "execution_count": 2,
   "metadata": {},
   "outputs": [
    {
     "name": "stdout",
     "output_type": "stream",
     "text": [
      "./data/esempio.txt\n",
      "False\n"
     ]
    }
   ],
   "source": [
    "# Consideriamo una cartella \"data\", e supponiamo di avere al suo interno un file\n",
    "# \"esempio.txt\"\n",
    "data_path = \"./data\"\n",
    "file_name = \"esempio.txt\"\n",
    "\n",
    "# Costruiamo il percorso per il file\n",
    "path_file = os.path.join(data_path, file_name)\n",
    "print(path_file)\n",
    "\n",
    "# Verifica se il path per il file esiste, se no, costuiamolo\n",
    "if os.path.exists(data_path):\n",
    "    os.makedirs(data_path, exist_ok=True)\n",
    "\n",
    "# Vediamo se ora esiste\n",
    "print(os.path.exists(data_path))"
   ]
  },
  {
   "cell_type": "markdown",
   "metadata": {},
   "source": [
    "La libreria `glob`, invece, ha funzionalità simili a quelle di `os`, ma è utilizzata principalmente perché permette di selezionare dei files all'interno di un percorso, filtrandoli rispetto ad alcune proprietà."
   ]
  },
  {
   "cell_type": "code",
   "execution_count": 3,
   "metadata": {},
   "outputs": [
    {
     "name": "stdout",
     "output_type": "stream",
     "text": [
      "[]\n",
      "[]\n"
     ]
    }
   ],
   "source": [
    "import glob\n",
    "\n",
    "# Cerca tutti i file .txt nella directory ./data\n",
    "data_path = \"./data\"\n",
    "file_txt = glob.glob(os.path.join(data_path, \"*.txt\"))\n",
    "print(file_txt)\n",
    "\n",
    "# Oppure in tutte le sue sub-directory\n",
    "file_python = glob.glob(os.path.join(data_path, \"**\", \"*.txt\"), recursive=True)\n",
    "print(file_python)"
   ]
  },
  {
   "cell_type": "markdown",
   "metadata": {},
   "source": [
    "### Lettura/scrittura di files\n",
    "I risultati prodotti da uno script Python, spariscono non appena il programma termina. Per mantenere salvate delle informazioni (o per leggere informazioni precedentemente salvate), è necessario utilizzare dei files.\n",
    "\n",
    "In Python, questo viene fatto tramite tre diversi standard, dipendentemente dal tipo di informazioni che si vogliono memorizzare/leggere:\n",
    "\n",
    "1. tramite un file `.txt`,\n",
    "2. tramite un file `.json`,\n",
    "3. tramite la libreria `pickle`.\n",
    "\n",
    "Vediamo quando ciascuna delle tre possibilità viene utilizzata, e come salvare/leggere quei files."
   ]
  },
  {
   "cell_type": "markdown",
   "metadata": {},
   "source": [
    "I files `.txt` vengono usati quando si vogliono salvare informazioni di tipo testuale/numerico, in maniera rapida e non strutturata. Per farlo, è necessario aprire il file (tramite la funzione `open`), e inserirci i valori desiderati all'interno."
   ]
  },
  {
   "cell_type": "code",
   "execution_count": 4,
   "metadata": {},
   "outputs": [],
   "source": [
    "import os\n",
    "\n",
    "# Creiamo una stringa da salvare\n",
    "s = \"Questa stringa contiene informazioni importanti, da tenere in memoria.\"\n",
    "\n",
    "# Definiamo il path\n",
    "path = os.path.join(\"logs\", \"nome_file.txt\")\n",
    "os.makedirs(\"logs\", exist_ok=True)\n",
    "\n",
    "# Apriamo il file\n",
    "with open(path, mode=\"w\") as f:\n",
    "    # All'interno del \"with\" posso lavorare sul file, chiamato \"f\"\n",
    "    f.write(s)\n",
    "\n",
    "# Fuori dal \"with\", il file è stato chiso"
   ]
  },
  {
   "cell_type": "markdown",
   "metadata": {},
   "source": [
    "Andiamo ad analizzare questo snippet di codice in dettaglio. Come prima cosa, abbiamo aperto i file con la funzione `open`, che prende in input due argomenti: il path per il file (in questo caso abbiamo scritto solo il nome del file perché lo vogliamo salvare nella working directory, avremmo dovuto inserire l'intero percorso relativo se avessimo voluto salvarlo all'interno di una directory specifica), e la modalità di apertura. Tra le possibili modalità di apertura, ricordiamo le più comunemente utilizzate:\n",
    "\n",
    "- `\"w\"`: sola scrittura. Il file viene **sovrascritto** ogni volta.\n",
    "- `\"a\"`: sola scrittura. Il contenuto viene aggiunto al file, senza sovrascriverlo.\n",
    "- `\"r\"`: sola lettura.\n",
    "\n",
    "La funzione `open` è stata inserita all'interno del comando `with`, che ha lo scopo di tenere aperto il file, solo all'interno del suo corpo. Va variabile associata al file verrà chiusa ed eliminata subito dopo. \n",
    "\n",
    "Nella stessa linea del comando `with`, abbiamo assegnato al file il nome di una variabile (in questo caso `f`), che abbiamo poi utilizzato per scrivere al suo interno tramite la funzione `f.write()`.\n",
    "\n",
    "Ovviamente, l'operazione richiesta per leggere il contenuto del file è speculare, utilizzando il metodo `.read()` e assegnandolo ad una stringa."
   ]
  },
  {
   "cell_type": "code",
   "execution_count": 5,
   "metadata": {},
   "outputs": [
    {
     "name": "stdout",
     "output_type": "stream",
     "text": [
      "Questa stringa contiene informazioni importanti, da tenere in memoria.\n"
     ]
    }
   ],
   "source": [
    "# Andiamo a leggere il contenuto del file appena creato\n",
    "with open(path, \"r\") as f:\n",
    "    s = f.read()\n",
    "print(s)"
   ]
  },
  {
   "cell_type": "markdown",
   "metadata": {},
   "source": [
    "I file in formato `.json`, invece, vengono utilizzati principalmente per salvare informazioni strutturate, come ad esempio dei dizionari, con lo scopo di salvarsi dei dati di configurazione. Per gestire files `.json`, è necessario importare la libreria built-in `json`."
   ]
  },
  {
   "cell_type": "code",
   "execution_count": 6,
   "metadata": {},
   "outputs": [],
   "source": [
    "import json\n",
    "import os\n",
    "\n",
    "# Generiamo un dizionario di esempio\n",
    "config = {\n",
    "    \"nome_algoritmo\": \"MetodoDiscesa\",\n",
    "    \"parametro1\": 10,\n",
    "    \"parametro2\": 0.01,\n",
    "}\n",
    "\n",
    "# Definiamo il path (come prima)\n",
    "path = os.path.join(\"logs\", \"config.json\")\n",
    "\n",
    "# Apriamo un file json in lettura\n",
    "with open(path, \"w\") as f:\n",
    "    json.dump(config, f)"
   ]
  },
  {
   "cell_type": "markdown",
   "metadata": {},
   "source": [
    "Similmente, possiamo leggere i file `.json`, convertendoli in dizionari."
   ]
  },
  {
   "cell_type": "code",
   "execution_count": 7,
   "metadata": {},
   "outputs": [
    {
     "name": "stdout",
     "output_type": "stream",
     "text": [
      "{'nome_algoritmo': 'MetodoDiscesa', 'parametro1': 10, 'parametro2': 0.01}\n"
     ]
    }
   ],
   "source": [
    "import json\n",
    "import os\n",
    "\n",
    "# Definiamo il path (come prima)\n",
    "path = os.path.join(\"logs\", \"config.json\")\n",
    "\n",
    "# Apriamo un file json in lettura\n",
    "with open(path, \"r\") as f:\n",
    "    config = json.load(f)\n",
    "\n",
    "print(config)"
   ]
  },
  {
   "cell_type": "markdown",
   "metadata": {},
   "source": [
    "Parliamo, infine, del formato `.pickle`. Questo è sicuramente il formato più utilizzato per memorizzare informazioni di output da Python. Il suo nome deriva dalla libreria built-in `pickle`, che fornisce le funzionalità necessarie al suo utilizzo.\n",
    "\n",
    "Il vantaggio di pickle è che permette di leggere/scrivere su file **ogni** oggetto Python, che verrà memorizzato nella forma in cui è, e ricaricato nello stesso modo.\n",
    "\n",
    "La sintassi è praticamente la stessa di prima:"
   ]
  },
  {
   "cell_type": "code",
   "execution_count": 8,
   "metadata": {},
   "outputs": [],
   "source": [
    "import pickle\n",
    "\n",
    "# Definiamo un qualunque oggetto Python (ad esempio, una lista)\n",
    "a = [1, 3, (\"c\", \"i\", \"a\", \"o\")]\n",
    "\n",
    "# Definiamo il path\n",
    "path = os.path.join(\"logs\", \"file.pickle\")\n",
    "\n",
    "# Salviamo con Pickle\n",
    "with open(path, \"wb\") as f:\n",
    "    pickle.dump(a, f)"
   ]
  },
  {
   "cell_type": "code",
   "execution_count": 9,
   "metadata": {},
   "outputs": [
    {
     "name": "stdout",
     "output_type": "stream",
     "text": [
      "[1, 3, ('c', 'i', 'a', 'o')]\n"
     ]
    }
   ],
   "source": [
    "# Leggiamo il file pickle\n",
    "with open(path, \"rb\") as f:\n",
    "    b = pickle.load(f)\n",
    "print(b)"
   ]
  }
 ],
 "metadata": {
  "kernelspec": {
   "display_name": "teaching",
   "language": "python",
   "name": "python3"
  },
  "language_info": {
   "codemirror_mode": {
    "name": "ipython",
    "version": 3
   },
   "file_extension": ".py",
   "mimetype": "text/x-python",
   "name": "python",
   "nbconvert_exporter": "python",
   "pygments_lexer": "ipython3",
   "version": "3.12.4"
  }
 },
 "nbformat": 4,
 "nbformat_minor": 2
}