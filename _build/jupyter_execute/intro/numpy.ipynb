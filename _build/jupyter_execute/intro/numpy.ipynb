{
 "cells": [
  {
   "cell_type": "markdown",
   "metadata": {},
   "source": [
    "# Python per l'algebra lineare: `numpy`\n",
    "La *Numerical Linear Algebra (NLA)* è la materia che si occupa di studiare come le operazioni tra matrici e vettori possono essere utilizzate all'interno di algoritmi con lo scopo di produrre risposte efficienti e accurate a diversi problemi: da quelli di carattere matematico (come la risoluzione approssimata di equazioni differenziali), a quelli di carattere ingegneristico (come la distribuzione ottimale delle risorse, o le predizioni di outcome futuri dai dati).\n",
    "\n",
    "Di conseguenza, è di vitale importanza avere un modo efficiente per implementare operazioni matriciali e vettori. Nel seguito (come è comune fare anche nel codice), indicheremo con le lettere maiuscole (`A`, `B`, ...) le matrici, con lettere minuscole (`v`, `w`, ...) i vettori. \n",
    "\n",
    "Come abbiamo già accennato a lezione, la libreria Python più comunemente utilizzata per lavorare con matrici è vettori è `numpy`. \n",
    "\n",
    "Durante il corso, faremo largo uso di `numpy`, nonché di alcune librerie add-on (come `scipy` e `matplotlib`).\n",
    "\n",
    "Nel caso in cui `numpy` non sia ancora installato sul vostro virtual environment, si ricorda di eseguire i seguenti comandi per installarlo:\n",
    "\n",
    "```\n",
    "conda activate CN24\n",
    "conda install numpy\n",
    "```\n",
    "\n",
    "```{note}\n",
    "Durante il corso utilizzeremo varie funzioni di `numpy`, ma chiaramente ne esistono molte altre. Una lista completa di tutte le funzioni, oltre che una documentazione sul loro utilizzo, può essere trovata sul sito ufficiale [numpy.org](https://numpy.org).\n",
    "```"
   ]
  },
  {
   "cell_type": "markdown",
   "metadata": {},
   "source": [
    "### Creazione di array con `numpy`\n",
    "`numpy` implementa un tipo di dato speciale che estende i classici array di Python (come liste, tuple, ...), specificatamente pensato per massimizzare l'efficienza di operazioni di algebra lineare, chiamati `ndarray`. Tramite gli `ndarray`, è possibile inizializzare facilmente vettori, matrici, tensori, ...\n",
    "\n",
    "Questi non solo avranno tutte le funzionalità degli altri array di Python, ma implementeranno in maniera nativa tutte le operazioni tipiche tra vettori e matrici, come la somma elemento per elemento, il prodotto riga-per-colonna, e simili. \n",
    "\n",
    "Unico limite degli `ndarray` è che essi possono contere, al loro interno, solo numeri (e non stringhe o altro, come per le liste o le tuple).\n",
    "\n",
    "Il metodo classico per la creazione di un `ndarray` è quello di castarlo da un'array classico di Python. Vediamo come creare, ad esempio, un vettore:"
   ]
  },
  {
   "cell_type": "code",
   "execution_count": 1,
   "metadata": {},
   "outputs": [
    {
     "name": "stdout",
     "output_type": "stream",
     "text": [
      "<class 'numpy.ndarray'>\n",
      "[1 2 3]\n"
     ]
    }
   ],
   "source": [
    "import numpy as np\n",
    "\n",
    "# Creo un vettore numpy\n",
    "a: list[int] = [1, 2, 3]\n",
    "a_vec: np.ndarray = np.array(a)\n",
    "print(type(a_vec)) # Verifichiamo il tipo di dato di a_vec\n",
    "print(a_vec)"
   ]
  },
  {
   "cell_type": "markdown",
   "metadata": {},
   "source": [
    "Una delle proprietà di base degli `ndarray` è la propria `shape`, che rappresenta la loro **dimensione**. Più precisamente, un vettore avrà come `shape` una tupla contenente un singolo elemento, che ne rappresenta la lunghezza, una matrice avrà come `shape` una tupla contenente due elementi: il numero di righe e il numero di colonne, rispettivamente.\n",
    "\n",
    "Per inizializzare una matrice a partire da un'array Python, è necessario costruire un'array composto da altri array, ciascuno dei quali rappresenta una riga della matrice che si vuole creare.\n",
    "\n",
    "```{warning}\n",
    "Per ovvie ragioni, è **necessario** che l'array che definisce la matrice abbia tutte le righe della stessa lunghezza. In caso contrario, il codice restituirà errore.\n",
    "```\n",
    "\n",
    "Vediamo ad esempio come costruire una matrice e un vettore, e stamparne la `shape`."
   ]
  },
  {
   "cell_type": "code",
   "execution_count": 2,
   "metadata": {},
   "outputs": [
    {
     "name": "stdout",
     "output_type": "stream",
     "text": [
      "La shape di v è: (4,).\n",
      "La shape di A è: (2, 3).\n"
     ]
    }
   ],
   "source": [
    "# Definiamo un vettore v e una matrice A\n",
    "v = np.array([1, 1, 3, 2])\n",
    "A = np.array([[1, 1, -1],\n",
    "              [0, -1, 1]])\n",
    "\n",
    "# Stampiamo la shape\n",
    "print(f\"La shape di v è: {v.shape}.\")\n",
    "print(f\"La shape di A è: {A.shape}.\")"
   ]
  },
  {
   "cell_type": "markdown",
   "metadata": {},
   "source": [
    "Altra proprietà chiave degli `ndarray` è il loro `dtype`. Infatti, proprio per il fatto che sono stati costruiti per eseguire operazioni di algebra lineare, `numpy` implementa vari tipi differenti di aritmetica floating point per i propri array. E' infatti possibile definire array a precisione singola (`np.float32`), doppia (`np.float64`) o anche mezza (`np.float16`). Questa informazione è rappresentata, appunto, dal `dtype`.\n",
    "\n",
    "Se non specificato in fase di creazione, gli `ndarray` hanno `dtype = np.float64` se contengono numeri floating point, `np.int64` altrimenti."
   ]
  },
  {
   "cell_type": "code",
   "execution_count": 3,
   "metadata": {},
   "outputs": [
    {
     "name": "stdout",
     "output_type": "stream",
     "text": [
      "float64\n",
      "float32\n"
     ]
    }
   ],
   "source": [
    "# Creiamo un vettore\n",
    "v = np.array([1, 2, 1.2])\n",
    "print(v.dtype) # np.float64\n",
    "\n",
    "# Creiamo lo stesso vettore in precisione singola\n",
    "v = np.array([1, 2, 1.2], dtype=np.float32)\n",
    "print(v.dtype)"
   ]
  },
  {
   "cell_type": "markdown",
   "metadata": {},
   "source": [
    "### Funzioni per la creazione di `numpy` array\n",
    "Nella maggior parte delle applicazioni pratiche, le matrici e i vettori utilizzati sono di dimensioni enormi, dell'ordine di migliaia se non di milioni di elementi. Ovviamente, questo rende impossibile definirli a partire da array di Python, come visto precedentemente.\n",
    "\n",
    "Fortunatamente, quando gli array che si vuol generare possiedono un pattern specifico, è possibile inizializzarle tramite una serie di funzioni, riportate sotto.\n",
    "\n",
    "* `np.linspace(a, b, n)`: Crea un vettore di lunghezza `n`, che contiene `n` elementi uniformemente distributi nel'intervallo $[a, b]$, estremi inclusi.\n",
    "* `np.arange(inizio, fine, passo)`: Simile alla funzione Python `range`. Crea un vettore che contiene tutti i numeri interi a partire da `inizio`, fino a `fine-1`, con `passo` fissato.\n",
    "* `np.zeros((m, n))`: Crea una matrice di dimensione `(m, n)` di zeri. Chiaramente, per creare un vettore invece che una matrice, si utilizza la funzione `np.zeros((m, ))`.\n",
    "* `np.ones((m, n))`: Come prima, ma crea una matrice (o vettore) di 1.\n",
    "* `np.zeros_like(a)`: Crea una matrice o un vettore, della stessa dimensione di un altro array `a`. E' equivalente a `np.zeros(a.shape)`. Esiste l'equivalente `np.ones_like(a)`.\n",
    "* `np.diag(v)`: Dato un vettore `v` di lunghezza `n`, costruisce una matrice diagonale di dimensione `(n, n)`, la cui diagonale è `v`. \n",
    "* `np.random.randn(m, n)`: Crea una matrice di dimensione `(m, n)` di numeri casuali distribuiti con distribuzione normale standard.\n",
    "* `np.random.rand(m, n)`: Uguale a prima, ma con valori estratti da una distribuzione uniforme nel dominio $[0, 1]$.\n",
    "\n",
    "Costruiamo, ad esempio, un vettore di valori casuali in $[0, 1]$ di lunghezza 10."
   ]
  },
  {
   "cell_type": "code",
   "execution_count": 4,
   "metadata": {},
   "outputs": [
    {
     "name": "stdout",
     "output_type": "stream",
     "text": [
      "[0.53860875 0.13699224 0.13390741 0.88724061 0.19142975 0.60958048\n",
      " 0.06971019 0.30655518 0.78817803 0.77595642]\n"
     ]
    }
   ],
   "source": [
    "# Creiamo il vettore richiesto\n",
    "v = np.random.rand(10)\n",
    "print(v)"
   ]
  },
  {
   "cell_type": "markdown",
   "metadata": {},
   "source": [
    "### Operazioni tra `ndarray`\n",
    "Una volta imparato come creare degli array, possiamo passare a come utilizzarli. Infatti, come accennato precedentemente, gli `ndarray` implementano nativamente le operazioni classiche di algebra lineare. In particolare, quasi tutte le operazioni standard sono applicate **elemento per elemento**:"
   ]
  },
  {
   "cell_type": "code",
   "execution_count": 5,
   "metadata": {},
   "outputs": [
    {
     "name": "stdout",
     "output_type": "stream",
     "text": [
      "a = [ 1 -1  0], b = [1. 2. 3.] \n",
      "Somma: [2. 1. 3.] \n",
      "Differenza: [ 0. -3. -3.] \n",
      "Prodotto: [ 1. -2.  0.] \n",
      "Divisione: [ 1.  -0.5  0. ].\n"
     ]
    }
   ],
   "source": [
    "# Creiamo due ndarray\n",
    "a = np.array([1, -1, 0])\n",
    "b = np.linspace(1, 3, 3) # array(1, 2, 3)\n",
    "\n",
    "# Eseguiamo operazioni tra loro\n",
    "s = a + b\n",
    "d = a - b\n",
    "p = a * b\n",
    "f = a / b\n",
    "\n",
    "print(f\"a = {a}, b = {b} \\nSomma: {s} \\nDifferenza: {d} \\nProdotto: {p} \\nDivisione: {f}.\")"
   ]
  },
  {
   "cell_type": "markdown",
   "metadata": {},
   "source": [
    "Similmente, lavorano elemento per elemento anche tutte le funzioni *base* di matematica, come l'operazione di seno, coseno, tangente, esponenziale, logaritmo, ecc."
   ]
  },
  {
   "cell_type": "code",
   "execution_count": 6,
   "metadata": {},
   "outputs": [
    {
     "name": "stdout",
     "output_type": "stream",
     "text": [
      "sin(x) = [ 0.00000000e+00  8.66025404e-01 -8.66025404e-01 -2.44929360e-16].\n",
      "cos(x) = [ 1.  -0.5 -0.5  1. ].\n",
      "tan(x) = [ 0.00000000e+00 -1.73205081e+00  1.73205081e+00 -2.44929360e-16].\n",
      "e^x = [  1.           8.1205274   65.9429652  535.49165552].\n",
      "ln(x) = [0.         1.12959244 1.64650057 1.98556831].\n",
      "log_10(x) = [0.         0.49057577 0.71506611 0.86232136].\n"
     ]
    }
   ],
   "source": [
    "# Definiamo un array\n",
    "x = np.linspace(0, 2*np.pi, 4)\n",
    "\n",
    "# Calcoliamone i valori trigonometrici\n",
    "print(f\"sin(x) = {np.sin(x)}.\")\n",
    "print(f\"cos(x) = {np.cos(x)}.\")\n",
    "print(f\"tan(x) = {np.tan(x)}.\")\n",
    "\n",
    "# Ed esponenziale e logaritmo\n",
    "print(f\"e^x = {np.exp(x)}.\")\n",
    "print(f\"ln(x) = {np.log(x + 1)}.\")\n",
    "print(f\"log_10(x) = {np.log10(x + 1)}.\")"
   ]
  },
  {
   "cell_type": "markdown",
   "metadata": {},
   "source": [
    "Unica, importante differenza alla regola delle operazioni elemento per elemento è rappresentato dal prodotto riga-per-colonna tra matrici e vettori (anche detto **prodotto scalare** o **prodotto interno** quando applicato a due vettori). \n",
    "\n",
    "Si ricorda che, presa una matrice $A = (a_{i, j})$ di dimensione $m \\times n$, e un vettore $x = (x_1, \\dots, x_n) \\in \\mathbb{R}^n$, il prodotto riga-per-colonna tra $A$ e $x$ è definito come:\n",
    "\n",
    "\\begin{align}\n",
    "    \\left( Ax \\right)_i = \\sum_{j = 1}^n a_{i, j} x_j.\n",
    "\\end{align}\n",
    "\n",
    "\n",
    "Questa operazione è implementata su `numpy` tramite l'operatore `@` o, equivalentemente, tramite la funzione `np.dot(A, x)`."
   ]
  },
  {
   "cell_type": "code",
   "execution_count": 7,
   "metadata": {},
   "outputs": [
    {
     "name": "stdout",
     "output_type": "stream",
     "text": [
      "[2 0 1]\n"
     ]
    }
   ],
   "source": [
    "# Definiamo una matrice A e un vettore x\n",
    "A = np.array([[1, 1, 1], [0, -1, 0], [0, 0, 1]])\n",
    "x = np.array([1, 0, 1])\n",
    "\n",
    "# Calcoliamo y = Ax\n",
    "y = A@x\n",
    "print(y)"
   ]
  },
  {
   "cell_type": "markdown",
   "metadata": {},
   "source": [
    "E per quanto riguarda i vettori? E' importante fare una distinzione tra tre tipologie differenti di vettori rappresentabili come `ndarray`. Infatti, un vettore può assumere diverse forme:\n",
    "\n",
    "1. un vettore classico, a dimensione singola, la cui shape è qualcosa del tipo `(n,)`.\n",
    "2. un vettore colonna, in cui si vede il vettore come fosse una matrice con una sola colonna, e un numero di righe pari alla sua lunghezza. In questo caso, il vettore avrà una shape della forma `(n, 1)`.\n",
    "3. un vettore riga, in cui si vede il vettore come fosse una matrice con una sola riga, e un numero di colonne pari alla sua lunghezza. In questo caso, il vettore avrà una shape della forma `(1, n)`.\n",
    "\n",
    "E' importante stare attenti a questa distinzione, poiché alcune funzionalità di `numpy` lavorano diversamente se il vettore è un vettore classico, oppure un vettore colonna. Ad esempio, l'operatore `@` restituirà il prodotto scalare standard tra vettori nel caso in cui i due elementi moltiplicati siano due vettori classici, restituirà errore nel caso in cui siano due vettori colonna, e darà il prodotto scalare standard se i vettori saranno il primo un vettore riga, il secondo un vettore colonna."
   ]
  },
  {
   "cell_type": "code",
   "execution_count": 8,
   "metadata": {},
   "outputs": [
    {
     "name": "stdout",
     "output_type": "stream",
     "text": [
      "(3,) (3,)\n",
      "0\n",
      "(3, 1) (3, 1)\n"
     ]
    },
    {
     "ename": "ValueError",
     "evalue": "matmul: Input operand 1 has a mismatch in its core dimension 0, with gufunc signature (n?,k),(k,m?)->(n?,m?) (size 3 is different from 1)",
     "output_type": "error",
     "traceback": [
      "\u001b[0;31m---------------------------------------------------------------------------\u001b[0m",
      "\u001b[0;31mValueError\u001b[0m                                Traceback (most recent call last)",
      "Cell \u001b[0;32mIn[8], line 15\u001b[0m\n\u001b[1;32m     12\u001b[0m \u001b[38;5;28mprint\u001b[39m(v\u001b[38;5;241m.\u001b[39mshape, w\u001b[38;5;241m.\u001b[39mshape)\n\u001b[1;32m     14\u001b[0m \u001b[38;5;66;03m# Calcoliamone il prodotto scalare\u001b[39;00m\n\u001b[0;32m---> 15\u001b[0m \u001b[38;5;28mprint\u001b[39m(\u001b[43mv\u001b[49m\u001b[43m \u001b[49m\u001b[38;5;241;43m@\u001b[39;49m\u001b[43m \u001b[49m\u001b[43mw\u001b[49m)\n",
      "\u001b[0;31mValueError\u001b[0m: matmul: Input operand 1 has a mismatch in its core dimension 0, with gufunc signature (n?,k),(k,m?)->(n?,m?) (size 3 is different from 1)"
     ]
    }
   ],
   "source": [
    "# Definiamo due vettori classici\n",
    "v = np.array([1, -1, 1])\n",
    "w = np.array([0, 1, 1])\n",
    "print(v.shape, w.shape) # Controlliamo che siano vettori classici\n",
    "\n",
    "# Calcoliamone il prodotto scalare\n",
    "print(v @ w)\n",
    "\n",
    "# Definiamo la loro versione come vettori colonna\n",
    "v = np.array([[1], [-1], [1]])\n",
    "w = np.array([[0], [1], [1]])\n",
    "print(v.shape, w.shape)\n",
    "\n",
    "# Calcoliamone il prodotto scalare\n",
    "print(v @ w)"
   ]
  },
  {
   "cell_type": "markdown",
   "metadata": {},
   "source": [
    "## Operazioni logiche tra vettori\n",
    "Sfruttando la caratteristica di Python per cui le variabili booleane sono sostanzialmente numeri (0 per il `False`, 1 per il `True`), è possibile anche definire degli `ndarray` che contengono valori booleani. Questi saranno particolarmente utili specialmente per svolgere in maniera efficiente operazioni di filtraggio di elementi. \n",
    "\n",
    "Sarà possibile chiaramente eseguire operazioni booleane classiche (come `and`, `or`, `not`) e di confronto (`==`, `!=`, ecc.) tra `ndarray` booleani, che verranno applicate elemento per elemento. Di seguito una tabella che rappresenta le principali operazioni possibili tra `ndarray` booleani.\n",
    "\n",
    "| Operatore | Significato |\n",
    "| --------  | -------     |\n",
    "|   ==      | UGUAGLIANZA |\n",
    "|   !=      | DISUGUAGLIANZA |\n",
    "|   >, >=   | MAGGIORE    |\n",
    "|   <, <=   | MINORE      |\n",
    "|   &       | AND         |\n",
    "|   &#124;  | OR          |\n",
    "|    !      | NOT         |\n"
   ]
  },
  {
   "cell_type": "code",
   "execution_count": 9,
   "metadata": {},
   "outputs": [
    {
     "name": "stdout",
     "output_type": "stream",
     "text": [
      "[False False False False False False  True  True  True False]\n",
      "[ True  True  True  True False  True  True False False False]\n",
      "[False False False False False False  True False False False]\n"
     ]
    }
   ],
   "source": [
    "# Definiamo tre vettori casuali\n",
    "a = np.random.rand(10)\n",
    "b = np.random.rand(10)\n",
    "c = np.random.rand(10)\n",
    "\n",
    "# Generiamo il vettore booleano `v` che vale True quando un elemento di `a`\n",
    "# è maggiore o uguale del corrispettivo elemento di `b`\n",
    "v = a >= b\n",
    "print(v)\n",
    "\n",
    "# E il vettore `w`che vale True quando un elemento di `b` è maggiore o uguale\n",
    "# del corrispettivo elemento di `c`\n",
    "w = b >= c\n",
    "print(w)\n",
    "\n",
    "# Ora uniamoli con un operazione di `and` elemento per elemento\n",
    "print(w & v)"
   ]
  },
  {
   "cell_type": "markdown",
   "metadata": {},
   "source": [
    "### Slicing su `ndarray`\n",
    "Chiaramente, anche sugli `ndarray` è possibile definire le operazioni di *slicing*, che verranno come di consueto effettuate tramite la parentesi quadra `[]`. Sui vettori classici, lo slicing funziona esattamente come per liste e tuple, in cui la notazione `v[inizio:fine]` restituisce gli elementi di `v` da `inizio` a `fine-1`."
   ]
  },
  {
   "cell_type": "code",
   "execution_count": 10,
   "metadata": {},
   "outputs": [
    {
     "name": "stdout",
     "output_type": "stream",
     "text": [
      "[ 0  1 -1]\n"
     ]
    }
   ],
   "source": [
    "# Definiamo un array\n",
    "v = np.array([0, 1, -1, 2, 1, -1])\n",
    "\n",
    "# Slicing\n",
    "w = v[0:3]\n",
    "print(w)"
   ]
  },
  {
   "cell_type": "markdown",
   "metadata": {},
   "source": [
    "Il vero vantaggio degli `ndarray` rispetto alle liste e tuple in termini di slicing, è la possibilità di utilizzare gli `ndarray` booleani per filtrare gli elementi di un altro `ndarray`. Infatti, se all'interno delle parentesi quadre inseriamo un array booleano della stessa dimensione dell'array su cui stiamo facendo slicing, questo ci ritornerà tutti gli elementi dell'array che corrispondono alle posizioni dei `True`."
   ]
  },
  {
   "cell_type": "code",
   "execution_count": 11,
   "metadata": {},
   "outputs": [
    {
     "name": "stdout",
     "output_type": "stream",
     "text": [
      "[ 0  1 -1  2  1 -1]\n",
      "[ True  True False  True False False]\n",
      "[0 1 2]\n"
     ]
    }
   ],
   "source": [
    "# Creiamo un array di esempio\n",
    "v = np.array([0, 1, -1, 2, 1, -1])\n",
    "print(v)\n",
    "\n",
    "# Definiamo un vettore booleano\n",
    "b = np.array([True, True, False, True, False, False])\n",
    "print(b)\n",
    "\n",
    "# Slicing\n",
    "print(v[b])"
   ]
  },
  {
   "cell_type": "markdown",
   "metadata": {},
   "source": [
    "Questo ci permette di eseguire in maniera estramamente rapida e in un linguaggio molto vicino a quello *naturale*, operazioni condizionali su vettori.\n",
    "\n",
    "Vediamo ad esempio come prendere un vettore casuale, e porre a 0 tutti i suoi valori negativi (operazione, nota come **proiezione sull'asse positivo**, molto comune in alcuni problemi di algebra lineare)."
   ]
  },
  {
   "cell_type": "code",
   "execution_count": 12,
   "metadata": {},
   "outputs": [
    {
     "name": "stdout",
     "output_type": "stream",
     "text": [
      "[-0.80166815  0.93414683  0.62817759 -0.21499552 -0.22965556 -0.5291032\n",
      " -0.85889971 -0.30573981]\n",
      "[0.         0.93414683 0.62817759 0.         0.         0.\n",
      " 0.         0.        ]\n"
     ]
    }
   ],
   "source": [
    "# Definiamo un vettore casuale\n",
    "x = np.random.randn(8)\n",
    "print(x)\n",
    "\n",
    "# Proiettiamo sull'asse positivo\n",
    "x[x < 0] = 0\n",
    "print(x)"
   ]
  },
  {
   "cell_type": "markdown",
   "metadata": {},
   "source": [
    "### Slicing di matrici\n",
    "Sulle matrici (come anche sugli `ndarray` di dimensione più alta) lo slicing funziona in maniera naturale, con la sola differenza che all'interno della parentesi quadra sarà necessario inserire due indici (o comandi della forma `inizio:fine:step`): uno per gli indici di riga, e uno per gli indici di colonna. \n",
    "\n",
    "Vediamo ad esempio come estrarre, da una matrice `A` di shape `(3, 3)`, la sua sottomatrice principale di ordine 2, ovvero la sottomatrice di dimensione `(2, 2)` che si trova nell'angolo in alto a sinistra di `A`."
   ]
  },
  {
   "cell_type": "code",
   "execution_count": 13,
   "metadata": {},
   "outputs": [
    {
     "name": "stdout",
     "output_type": "stream",
     "text": [
      "[[1 2]\n",
      " [4 5]]\n"
     ]
    }
   ],
   "source": [
    "# Creiamo la matrice\n",
    "A = np.array([[1, 2, 3], [4, 5, 6], [7, 8, 9]])\n",
    "\n",
    "# Slicing\n",
    "B = A[:2, :2]\n",
    "print(B)"
   ]
  },
  {
   "cell_type": "markdown",
   "metadata": {},
   "source": [
    "### Manipolazione di matrici e vettori\n",
    "Ultima proprietà che vediamo degli `ndarray`, sono tutte le operazioni comunemente effettuate nell'algebra lineare su di essi, come ad esempio il calcolo della norma, dell'inversa, del rango, della trasposta, oltre che di operazioni di utilità come la funzione `reshape`, che modifica la forma di un vettore o matrice, senza cambiarne il contenuto. \n",
    "\n",
    "Sotto un elenco di tali operazioni. Notare come, alcune di esse, richiedono di accedere ad un sottopacchetto di `numpy`, ovvero `np.linalg`, che come suggerisce il nome, implementa varie operazioni di algebra lineare. \n",
    "\n",
    "* `np.linalg.norm(a, p)`: Calcola la norma-$p$ di un vettore o di una matrice.\n",
    "* `np.linalg.cond(A, p)`: Calcola il numero di condizionamento di una matrice in norma $p$;\n",
    "* `np.linalg.matrix_rank(A)`: Calcola il rango della matrice `A`;\n",
    "* `np.linalg.inv(A)`: Calcola l'inverso della matrice `A`, quando esiste. **ATTENZIONE:** Questa operazione è molto lenta anche per matrici relativamente piccole;\n",
    "* `np.transpose(A)`: Calcola la trasposta della matrice `A`. E' equivalente a `A.T`;\n",
    "* `np.reshape(a, new_shape)`: Modifica la `shape` di un `ndarray` `a`, nella forma specificata.\n",
    "\n",
    "Vediamo un esempio di applicazione di tali funzioni."
   ]
  },
  {
   "cell_type": "code",
   "execution_count": 14,
   "metadata": {},
   "outputs": [
    {
     "name": "stdout",
     "output_type": "stream",
     "text": [
      "[1. 2. 3. 4. 5. 6. 7. 8. 9.]\n",
      "[[1. 2. 3.]\n",
      " [4. 5. 6.]\n",
      " [7. 8. 9.]]\n",
      "2\n"
     ]
    }
   ],
   "source": [
    "# Definiamo un vettore v\n",
    "v = np.linspace(1, 9, 9) # (1, 2, 3, ..., 9)\n",
    "print(v)\n",
    "\n",
    "# E costruiamo la matrice A di shape 3x3 ottenuta modificando v\n",
    "A = np.reshape(v, (3, 3))\n",
    "print(A)\n",
    "\n",
    "# Controlliamo se A è di rango massimo\n",
    "print(np.linalg.matrix_rank(A))\n",
    "\n",
    "# E, se ha rango massimo, calcoliamone l'inversa\n",
    "if np.linalg.matrix_rank(A) == A.shape[0]:\n",
    "    A_inv = np.linalg.inv(A)"
   ]
  },
  {
   "cell_type": "markdown",
   "metadata": {},
   "source": [
    "### Approfondimento: efficienza di `numpy`\n",
    "L'obiettivo di questa sezione di approfondimento è verificare in modo empirico **quanto** `numpy` è più efficiente del Python classico per operazioni su vettori. Per farlo, andremo ad utilizzare la libreria `time` per misurare il tempo richiesto a Python base e `numpy` per svolgere le stesse operazioni.\n",
    "\n",
    "In questo esempio, utilizzeremo un vettore di lunghezza 10_000_000 (10 milioni), casuale, e proveremo a calcolare la somma del valore assoluto dei suoi elementi (operazione nota come *norma 1* del vettore, e solitamente indicata con $|| v ||_1$), utilizzando Python classico (attraverso due algoritmi differenti) e le funzioni di `numpy`."
   ]
  },
  {
   "cell_type": "code",
   "execution_count": 15,
   "metadata": {},
   "outputs": [
    {
     "name": "stdout",
     "output_type": "stream",
     "text": [
      "Tempo impiegato con Python modo 1: 0.9546482563018799s\n"
     ]
    },
    {
     "name": "stdout",
     "output_type": "stream",
     "text": [
      "Tempo impiegato con Python modo 2: 0.5896708965301514s\n",
      "Tempo impiegato con Numpy: 0.01151275634765625s\n"
     ]
    }
   ],
   "source": [
    "import time\n",
    "import numpy as np\n",
    "import math\n",
    "\n",
    "# Costruiamo il vettore\n",
    "v = np.random.randn(10_000_000)\n",
    "\n",
    "# || v ||_1 con Python modo 1\n",
    "start_time = time.time()\n",
    "norma_1 = 0\n",
    "for i in range(len(v)):\n",
    "    norma_1 = norma_1 + abs(v[i])\n",
    "end_time = time.time()\n",
    "print(f\"Tempo impiegato con Python modo 1: {end_time - start_time}s\")\n",
    "\n",
    "# || v ||_1 con Python modo 2\n",
    "start_time = time.time()\n",
    "norma_1 = sum((abs(i) for i in v)) # list comprehension\n",
    "end_time = time.time()\n",
    "print(f\"Tempo impiegato con Python modo 2: {end_time - start_time}s\")\n",
    "\n",
    "# || v ||_1 con numpy\n",
    "start_time = time.time()\n",
    "norma_1 = np.sum(np.abs(v))\n",
    "end_time = time.time()\n",
    "print(f\"Tempo impiegato con Numpy: {end_time - start_time}s\")"
   ]
  },
  {
   "cell_type": "markdown",
   "metadata": {},
   "source": [
    "Da questo esempio appare chiaro come Numpy, avendo implementato funzione pre-compilate, è estremamente più efficiente di Python standard, ed è quindi più preposto a eseguire operazioni di algebra lineare, dove l'efficienza è importantissima."
   ]
  }
 ],
 "metadata": {
  "kernelspec": {
   "display_name": "teaching",
   "language": "python",
   "name": "python3"
  },
  "language_info": {
   "codemirror_mode": {
    "name": "ipython",
    "version": 3
   },
   "file_extension": ".py",
   "mimetype": "text/x-python",
   "name": "python",
   "nbconvert_exporter": "python",
   "pygments_lexer": "ipython3",
   "version": "3.12.4"
  }
 },
 "nbformat": 4,
 "nbformat_minor": 2
}