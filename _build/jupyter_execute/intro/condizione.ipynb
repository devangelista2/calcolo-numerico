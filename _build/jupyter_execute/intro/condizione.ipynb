{
 "cells": [
  {
   "cell_type": "markdown",
   "metadata": {},
   "source": [
    "# La condizione `if` e la logica booleana"
   ]
  },
  {
   "cell_type": "markdown",
   "metadata": {},
   "source": [
    "Una delle funzioni più utili, e necessaria per la scrittura di qualunque programma non banale in Python, è la funzione `if`. La sua struttura di base è la seguente:\n",
    "\n",
    "```\n",
    "if <CONDIZIONE>:\n",
    "    <CORPO_IF>\n",
    "elif <CONDIZIONE_ALTERNATIVA1>:\n",
    "    <CORPO_ALTERNATIVO1>\n",
    "elif CONDIZIONE_ALTERNATIVA2:\n",
    "    <CORPO_ALTERNATIVO2>\n",
    "else:\n",
    "    <CORPO_ALTERNATIVO>\n",
    "```"
   ]
  },
  {
   "cell_type": "markdown",
   "metadata": {},
   "source": [
    "Come è facile intuire, tale codice controllerà se la `<CONDIZIONE>` è verificata. In caso affermativo, eseguirà il contenuto di `<CORPO_IF>`. Se viceversa è verificata `<CONDIZIONE_ALTERNATIVA1>`, verrà eseguito il contenuto di `<CORPO_ALTERNATIVO1>`, e così via. Se nessuna condizione contenuta nella catena di `elif` viene verificato, viene semplicemente eseguito il contenuto di `<CORPO_ALTERNATIVO>`.\n",
    "\n",
    "Più nello specifico, Python richiede che `<CONDIZIONE>` rappresenti una variabile booleana, e il contenuto di `<CORPO_IF>` viene eseguito se e solo se tale variabile rappresenta il valore `True`. Ad esempio:"
   ]
  },
  {
   "cell_type": "code",
   "execution_count": 1,
   "metadata": {},
   "outputs": [
    {
     "name": "stdout",
     "output_type": "stream",
     "text": [
      "Condizione if verificata\n"
     ]
    }
   ],
   "source": [
    "# Definire una variabile booleana di check\n",
    "condizione_vera = True\n",
    "\n",
    "if condizione_vera:\n",
    "    print(\"Condizione if verificata\")\n",
    "else:\n",
    "    print(\"Condizione else verificata\")"
   ]
  },
  {
   "cell_type": "markdown",
   "metadata": {},
   "source": [
    "Chiaramente, tale operazione diventa interessante quando viene usata per confrontare delle variabili. A tal proposito, diventa necessario applicare gli operatori logici di confronto, già introdotti nel capitolo dedicato alle variabili booleane."
   ]
  },
  {
   "cell_type": "markdown",
   "metadata": {},
   "source": [
    "Di seguito, scriviamo un programma che informa l'utente se un numero `n` preso in input è pari o dispari."
   ]
  },
  {
   "cell_type": "code",
   "execution_count": 2,
   "metadata": {},
   "outputs": [
    {
     "name": "stdout",
     "output_type": "stream",
     "text": [
      "Il numero è pari.\n"
     ]
    }
   ],
   "source": [
    "# Definiamo il numero n\n",
    "n: int = 20\n",
    "\n",
    "if n%2 == 0: # I numeri pari hanno resto 0 nella divisione per 2\n",
    "    print(\"Il numero è pari.\")\n",
    "else: # Non ci sono altre possibilità oltre che pari e dispari\n",
    "    print(\"Il numero è dispari.\")"
   ]
  },
  {
   "cell_type": "markdown",
   "metadata": {},
   "source": [
    "### Operatori Logici\n",
    " \n",
    "Quando il numero di condizioni da verificare è maggiore di 1, è necessario utilizzare operatori logici (`and`, `or`, `not`, etc.), per connettere tali condizioni. In Python, queste possono essere dichiarate in due modi:\n",
    "\n",
    "1. Dichiarando esplicitamente l'operatore che si deve utilizzare (i.e. con i comandi `and`, `or` e `not`).\n",
    "2. Utilizzando i sostituti simbolici:\n",
    "    - `&` <-> `and`\n",
    "    - `|` <-> `or`\n",
    "    - `!` <-> `not`"
   ]
  },
  {
   "cell_type": "code",
   "execution_count": 3,
   "metadata": {},
   "outputs": [],
   "source": [
    "# Dichiariamo tre variabili numeriche\n",
    "a: int = 4\n",
    "b: int = 2\n",
    "c: int = 3\n",
    "\n",
    "# Controlliamo che la prima sia maggiore della seconda\n",
    "condizione_1 = a > b\n",
    "\n",
    "# Controlliamo che la prima sia minore della terza alla seconda\n",
    "condizione_2 = a < c**2\n",
    "\n",
    "# Se la prima è verificata, mentre la seconda no, restituire \"Ok!\"\n",
    "if (condizione_1) and (not condizione_2):\n",
    "    print(\"Ok!\")"
   ]
  },
  {
   "cell_type": "markdown",
   "metadata": {},
   "source": [
    "O, equivalentemente:"
   ]
  },
  {
   "cell_type": "code",
   "execution_count": 4,
   "metadata": {},
   "outputs": [],
   "source": [
    "# Dichiariamo tre variabili numeriche\n",
    "a: int = 4\n",
    "b: int = 2\n",
    "c: int = 3\n",
    "\n",
    "# Controlliamo che la prima sia maggiore della seconda\n",
    "condizione_1 = a > b\n",
    "\n",
    "# Controlliamo che la prima sia minore della terza alla seconda\n",
    "condizione_2 = a < c**2\n",
    "\n",
    "# Se la prima è verificata, mentre la seconda no, restituire \"Ok!\"\n",
    "if (condizione_1) & (not condizione_2):\n",
    "    print(\"Ok!\")"
   ]
  },
  {
   "cell_type": "markdown",
   "metadata": {},
   "source": [
    "### Note conclusive"
   ]
  },
  {
   "cell_type": "markdown",
   "metadata": {},
   "source": [
    "Quando il numero di condizioni da controllare diventa grande, è meglio separare la fase in cui la condizione viene verificata dalla condizione stessa, per migliorare la leggibilità del codice.\n",
    "\n",
    "Ad esempio, vediamo come scrivere un programma che presi 3 numeri `a`, `b` e `c`, restituisce `True` se `a`, `b` e `c` rappresentano le possibili lunghezze dei lati di un triangolo, ricordando che ciò accade se e solo se la somma di ogni coppia di lati è maggiore del terzo lato."
   ]
  },
  {
   "cell_type": "code",
   "execution_count": 5,
   "metadata": {},
   "outputs": [
    {
     "name": "stdout",
     "output_type": "stream",
     "text": [
      "True\n"
     ]
    }
   ],
   "source": [
    "# Scegliamo 3 numeri\n",
    "a: float = 1.4\n",
    "b: float = 0.3\n",
    "c: float = 1.5\n",
    "\n",
    "condizione = (a + b > c) and (a + c > b) and (b + c  > a)\n",
    "if condizione:\n",
    "    print(True)\n",
    "else:\n",
    "    print(False)"
   ]
  }
 ],
 "metadata": {
  "kernelspec": {
   "display_name": "teaching",
   "language": "python",
   "name": "python3"
  },
  "language_info": {
   "codemirror_mode": {
    "name": "ipython",
    "version": 3
   },
   "file_extension": ".py",
   "mimetype": "text/x-python",
   "name": "python",
   "nbconvert_exporter": "python",
   "pygments_lexer": "ipython3",
   "version": "3.12.4"
  }
 },
 "nbformat": 4,
 "nbformat_minor": 2
}