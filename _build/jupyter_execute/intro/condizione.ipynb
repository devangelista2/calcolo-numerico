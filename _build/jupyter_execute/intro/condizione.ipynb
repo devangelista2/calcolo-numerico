{
 "cells": [
  {
   "cell_type": "markdown",
   "metadata": {},
   "source": [
    "# La condizione `if` e la logica booleana"
   ]
  },
  {
   "cell_type": "markdown",
   "metadata": {},
   "source": [
    "Una delle funzioni più utili, e necessaria per la scrittura di qualunque programma non banale in Python, è la funzione `if`. La sua struttura di base è la seguente:\n",
    "\n",
    "```\n",
    "if CONDIZIONE:\n",
    "    CORPO\n",
    "elif CONDIZIONE_ALTERNATIVA1:\n",
    "    CORPO\n",
    "elif CONDIZIONE_ALTERNATIVA2:\n",
    "    CORPO\n",
    "else:\n",
    "    CORPO\n",
    "```"
   ]
  }
 ],
 "metadata": {
  "language_info": {
   "name": "python"
  }
 },
 "nbformat": 4,
 "nbformat_minor": 2
}