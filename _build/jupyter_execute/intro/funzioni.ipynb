{
 "cells": [
  {
   "cell_type": "markdown",
   "metadata": {},
   "source": [
    "# Funzioni\n",
    "\n",
    "Altro strumento di fondamentale importanza in praticamente qualunque linguaggio di programmazione sono le funzioni. Una funzione è un'oggetto che prende in ingresso dei valori (detti `input`), esegue delle operazioni su tali valori, e restituisce in `output` il risultato. La gran parte delle funzionalità di Python che abbiamo già visto sono funzione (ad esempio, la funzione `print()`, la funzione `len()` e la funzione `type()`).\n",
    "\n",
    "Le funzioni sono definite in Python tramite il comando `def`:\n",
    "\n",
    "```\n",
    "def NOME_FUNZIONE(INPUT1, INPUT2):\n",
    "    # Esecuzione di operazioni sugli input\n",
    "    \n",
    "    return OUTPUT \n",
    "```\n",
    "\n",
    "Una volta definita la funzione, è possibile utilizzarla nel codice semplice richiamando il suo nome e inserendo tra parentesi tonde gli input su cui calcolarla. \n",
    "\n",
    "Vediamo ad esempio come implementare in Python una funzione che prende in input due numeri e ne ritorna il prodotto."
   ]
  },
  {
   "cell_type": "code",
   "execution_count": 1,
   "metadata": {},
   "outputs": [],
   "source": [
    "def calcola_prodotto(n1: float, n2: float) -> float:\n",
    "    r\"\"\"\n",
    "    Dati in input due numeri n1 ed n2, restituisce il prodotto tra n1 e n2.\n",
    "\n",
    "    Parameters:\n",
    "    \n",
    "    n1 (int): Primo numero\n",
    "    n2 (int): Secondo numero\n",
    "\n",
    "    Returns:\n",
    "    (int): Risultato di n1 * n2\n",
    "    \"\"\"\n",
    "    risultato: float = n1 * n2 # Computazione\n",
    "    return risultato # Output"
   ]
  },
  {
   "cell_type": "markdown",
   "metadata": {},
   "source": [
    "Un paio di osservazioni sulla funzione appena definita. Nella definizione della funzione, dopo il nome della funzione stessa, abbiamo elencato gli input (in questo caso, `n1` e `n2`), che sono stati tipizzati come `float`. Come sempre, questa operazione è **facoltativa**, ma fortemente raccomandata poiché aiuta molto la lettura del codice da parte di un autore esterno. Allo stesso modo, il tipo dell'output che ci si aspetta è inserito subito prima dei `:`, dopo la freccia `->`.\n",
    "\n",
    "Inoltre, subito dopo la dichiarazione del nome della funzione e dei suoi input, abbiamo inserito una documentazione nella forma di un commento multilinea. La formattazione di tale documentazione (che ha lo scopo di spiegare cosa fa la funzione, oltre che del significato dei vari inputs), è a preferenza dello studente. Quanto proposto dall'esempio sopra è considerato lo standard di Python ad oggi.\n",
    "\n",
    "Vediamo ora come utilizzare la funzione sopra all'interno di uno script."
   ]
  },
  {
   "cell_type": "code",
   "execution_count": 2,
   "metadata": {},
   "outputs": [
    {
     "name": "stdout",
     "output_type": "stream",
     "text": [
      "3.2 x 2 = 6.4.\n"
     ]
    }
   ],
   "source": [
    "# Definisco due numeri\n",
    "n1: float = 3.2\n",
    "n2: float = 2\n",
    "\n",
    "n: float = calcola_prodotto(n1, n2)\n",
    "print(f\"{n1} x {n2} = {n}.\")"
   ]
  },
  {
   "cell_type": "markdown",
   "metadata": {},
   "source": [
    "### Input posizionali e non posizionali\n",
    "\n",
    "Consideriamo una funzione `calcola_differenza(n1, n2)`, che calcola la differenza tra `n1` e `n2`. Andiamo a definire due numeri `a` e `b`, e andiamo ad analizzare in che modo questi valori vengono passati alla funzione."
   ]
  },
  {
   "cell_type": "code",
   "execution_count": 3,
   "metadata": {},
   "outputs": [
    {
     "name": "stdout",
     "output_type": "stream",
     "text": [
      "5 - 2 = 3.\n"
     ]
    }
   ],
   "source": [
    "def calcola_differenza(n1: float, n2: float) -> float:\n",
    "    r\"\"\"\n",
    "    Dati in input due numeri n1 ed n2, restituisce la differenza tra n1 e n2.\n",
    "\n",
    "    Parameters:\n",
    "    \n",
    "    n1 (int): Primo numero\n",
    "    n2 (int): Secondo numero\n",
    "\n",
    "    Returns:\n",
    "    (int): Risultato di n1 - n2\n",
    "    \"\"\"\n",
    "    risultato: float = n1 - n2 # Computazione\n",
    "    return risultato # Output\n",
    "\n",
    "# Definiamo due numeri\n",
    "a: int = 5\n",
    "b: int = 2\n",
    "differenza = calcola_differenza(a, b)\n",
    "print(f\"{a} - {b} = {differenza}.\")"
   ]
  },
  {
   "cell_type": "markdown",
   "metadata": {},
   "source": [
    "Notiamo come in questo caso, essendo la funzione stata chiamata sugli input `a` e `b` in questo ordine, ha associato `n1` (primo parametro di input) ad `a`, mentre `n2` (secondo parametro di input) a `b`. Questo comportamento avviene di default quando richiamiamo una funzione. I valori `a` e `b`, in questo caso, sono passati come valori **posizionali**, poiché inseriti nello stesso ordine in cui vengono chiamati dalla funzione.\n",
    "\n",
    "E' possibile anche passare parametri **non posizionali** ad una funzione. Per farlo, è sufficiente dichiarare esplicitamente quale variabile associare al valore di input `n1`, e quale al valore di input `n2`. In questo modo, è possibile anche scambiare l'ordine in cui vengono inseriti i valori, senza variare il risultato."
   ]
  },
  {
   "cell_type": "code",
   "execution_count": 4,
   "metadata": {},
   "outputs": [
    {
     "name": "stdout",
     "output_type": "stream",
     "text": [
      "-3\n"
     ]
    }
   ],
   "source": [
    "# Calcoliamo la differenza con input non posizionali\n",
    "differenza_2 = calcola_differenza(n2=a, n1=b)\n",
    "print(differenza_2)"
   ]
  },
  {
   "cell_type": "markdown",
   "metadata": {},
   "source": [
    "Come si vede, sebbene le variabili `a` e `b` siano state date in input nello stesso ordine di prima, specificando la corrispondenza delle variabili, la funzione ha associato `n1 = b` e `n2 = a`."
   ]
  },
  {
   "cell_type": "markdown",
   "metadata": {},
   "source": [
    "### Valori di default\n",
    "L'inserimento di input non posizionali diventa particolarmente utile quando si considerano funzioni con tanti valori di input. In questo caso, è spesso possibile assegnare dei valori di default ad alcune variabili di input, che assumeranno tale valore se non esplicitamente dichiarato. \n",
    "\n",
    "Consideriamo ad esempio una funzione `calcola_operazione(n1, n2, op)` che, inserita un'operazione sottoforma di stringa per la variabile `op`, applica l'operazione corrispondente tra i numeri `a` e `b`. Supponaiamo di volere associare da `op` il valore `\"somma\"`, di default."
   ]
  },
  {
   "cell_type": "code",
   "execution_count": 5,
   "metadata": {},
   "outputs": [
    {
     "name": "stdout",
     "output_type": "stream",
     "text": [
      "4 2 3 3.0\n"
     ]
    }
   ],
   "source": [
    "def calcola_operazione(n1: float, n2: float, op: str = \"somma\") -> float:\n",
    "    r\"\"\"\n",
    "    Dati in input due numeri n1 ed n2 e un'operazione, restituisce il risultato\n",
    "    dell'operazione applicata ad n1 e n2.\n",
    "\n",
    "    Parameters:\n",
    "    \n",
    "    n1 (int): Primo numero\n",
    "    n2 (int): Secondo numero\n",
    "    op (str): Operazione\n",
    "\n",
    "    Returns:\n",
    "    (int): Risultato di op(n1, n2)\n",
    "    \"\"\"\n",
    "    if op == \"somma\":\n",
    "        risultato: float = n1 + n2\n",
    "    elif op == \"differenza\":\n",
    "        risultato: float = n1 - n2\n",
    "    elif op == \"prodotto\":\n",
    "        risultato: float = n1 * n2\n",
    "    elif op == \"rapporto\":\n",
    "        if n2 != 0:\n",
    "            risultato: float = n1 / n2\n",
    "        else:  \n",
    "            print(\"Errore: divisione per 0.\")\n",
    "            risultato = None\n",
    "    else:\n",
    "        print(f\"Operazione {op} non definita.\")\n",
    "        risultato = None\n",
    "    \n",
    "    return risultato # Output\n",
    "\n",
    "# Definiamo due numeri\n",
    "a: int = 3\n",
    "b: int = 1\n",
    "somma = calcola_operazione(a, b, op=\"somma\")\n",
    "differenza = calcola_operazione(a, b, op=\"differenza\")\n",
    "prodotto = calcola_operazione(a, b, op=\"prodotto\")\n",
    "rapporto = calcola_operazione(a, b, op=\"rapporto\")\n",
    "print(somma, differenza, prodotto, rapporto)"
   ]
  },
  {
   "cell_type": "markdown",
   "metadata": {},
   "source": [
    "### La documentazione e la funzione `help`\n",
    "\n",
    "Come detto, lo scopo della documentazione è quello di permettere ad utenti terzi di utilizzare la funzione senza necessariamente conoscerne l'implementazione. Tutte le funzioni di Python presentano una documentazione sul loro utilizzo.\n",
    "\n",
    "Tale documentazione può essere visualizzata in due modi: tramite la funzione `help()`, oppure (nei moderni editor di codice come VSCode), tramite la finestra che appare automaticamente una volta dichiarato il nome della funzione. Ad esempio:"
   ]
  },
  {
   "cell_type": "code",
   "execution_count": 6,
   "metadata": {},
   "outputs": [
    {
     "name": "stdout",
     "output_type": "stream",
     "text": [
      "Help on function calcola_prodotto in module __main__:\n",
      "\n",
      "calcola_prodotto(n1: float, n2: float) -> float\n",
      "    Dati in input due numeri n1 ed n2, restituisce il prodotto tra n1 e n2.\n",
      "\n",
      "    Parameters:\n",
      "\n",
      "    n1 (int): Primo numero\n",
      "    n2 (int): Secondo numero\n",
      "\n",
      "    Returns:\n",
      "    (int): Risultato di n1 * n2\n",
      "\n",
      "None\n"
     ]
    }
   ],
   "source": [
    "# Visualizziamo l'help della funzione da noi definita\n",
    "print(help(calcola_prodotto))"
   ]
  },
  {
   "cell_type": "markdown",
   "metadata": {},
   "source": [
    "### Funzioni senza output\n",
    "\n",
    "Chiaramente, non tutte le funzioni resistuiscono un output nella forma di una variabile. Ad esempio, la funzione `print()` non restituisce alcun valore di output, ma stampa soltanto la stringa passata in input nella console. Stessa cosa vale per la funzione `help()`.\n",
    "\n",
    "Costruire una funzione che non ritorna alcun valore è semplice, basta omettere il comando `return`. Tale funzione verrà eseguita senza ritornare nulla come output. Di default, questo equivale a dire che se il risultato della funzione viene assegnato ad una variabile, questo assumerà il valore `None`.\n",
    "\n",
    "Quando si definice una funzione che non ritorna nulla, è buona usanza tipizzare il suo output specificando che varrà `None`.\n",
    "\n",
    "Costruiamo ad esempio una funzione che, presa in input un nome proprio, stampa a schermo il testo _Ciao, NOME_, senza ritornare alcun valore."
   ]
  },
  {
   "cell_type": "code",
   "execution_count": 7,
   "metadata": {},
   "outputs": [
    {
     "name": "stdout",
     "output_type": "stream",
     "text": [
      "Ciao, Davide!\n"
     ]
    }
   ],
   "source": [
    "def saluti(nome: str) -> None:\n",
    "    r\"\"\"\n",
    "    Stampa a schermo dei saluti diretti al nome inserito in input.\n",
    "\n",
    "    Parameters:\n",
    "    nome (str): Il nome da salutare.\n",
    "    \"\"\"\n",
    "    print(f\"Ciao, {nome}!\")\n",
    "\n",
    "# Esempio\n",
    "nome: str = \"Davide\"\n",
    "saluti(nome)"
   ]
  },
  {
   "cell_type": "markdown",
   "metadata": {},
   "source": [
    "E, se associamo una variabile al risultato della funzione, come detto questo varrà `None`."
   ]
  },
  {
   "cell_type": "code",
   "execution_count": 8,
   "metadata": {},
   "outputs": [
    {
     "name": "stdout",
     "output_type": "stream",
     "text": [
      "Ciao, Davide!\n",
      "None\n"
     ]
    }
   ],
   "source": [
    "output = saluti(nome)\n",
    "print(output)"
   ]
  },
  {
   "cell_type": "markdown",
   "metadata": {},
   "source": [
    "### Funzioni multi-output\n",
    "In alcune occasioni, è necessario definire funzioni che restituiscono più di un output. Dal punto di vista implementativo, questo si può fare semplicemente elencando tutte le variabili da restituire di output, separate da una virgola.\n",
    "\n",
    "Ad esempio, definiamo una funzione che, presi in input due numeri, ritorna la loro somma e il loro prodotto."
   ]
  },
  {
   "cell_type": "code",
   "execution_count": 9,
   "metadata": {},
   "outputs": [
    {
     "name": "stdout",
     "output_type": "stream",
     "text": [
      "4.0 + -2.0 = 2.0. 4.0 x -2.0 = -8.0.\n"
     ]
    }
   ],
   "source": [
    "def somma_e_prodotto(n1: float, n2: float) -> float:\n",
    "    r\"\"\"\n",
    "    Presi in input i numeri n1 e n2, ne ritorna somma e prodotto.\n",
    "\n",
    "    Parameters:\n",
    "    n1 (float): Primo numero\n",
    "    n2 (float): Secondo numero\n",
    "\n",
    "    Returns:\n",
    "    (float): n1 + n2\n",
    "    (float): n1 * n2\n",
    "    \"\"\"\n",
    "    somma = n1 + n2\n",
    "    prodotto = n1 * n2\n",
    "    return somma, prodotto\n",
    "\n",
    "# Esempio\n",
    "n1: float = 4.0\n",
    "n2: float = - 2.0\n",
    "somma, prodotto = somma_e_prodotto(n1, n2)\n",
    "\n",
    "print(f\"{n1} + {n2} = {somma}. {n1} x {n2} = {prodotto}.\")"
   ]
  },
  {
   "cell_type": "markdown",
   "metadata": {},
   "source": [
    "Che cosa succede se associamo l'output di una funzione multi-output ad una sola variabile?"
   ]
  },
  {
   "cell_type": "code",
   "execution_count": 10,
   "metadata": {},
   "outputs": [
    {
     "name": "stdout",
     "output_type": "stream",
     "text": [
      "(2.0, -8.0)\n"
     ]
    }
   ],
   "source": [
    "# Esempio\n",
    "n1: float = 4.0\n",
    "n2: float = - 2.0\n",
    "risultato = somma_e_prodotto(n1, n2)\n",
    "\n",
    "print(risultato)"
   ]
  },
  {
   "cell_type": "markdown",
   "metadata": {},
   "source": [
    "Come già spiegato, la virgola `,` che separa gli output della funzione, definisce in Python una `tupla`. Il multi-output sarà quindi una tupla, che contiene come elementi gli output della funzione, ordinati."
   ]
  },
  {
   "cell_type": "markdown",
   "metadata": {},
   "source": [
    "### Funzioni come oggetti\n",
    "Una proprietà interessante di Python è che le funzioni possono essere associate a delle variabili, e utilizzate come dei comuni oggetti, al pari di stringhe, interi e simili.\n",
    "\n",
    "In particolare, è possibile passare funzioni in input ad altre funzioni. Vediamo un esempio."
   ]
  },
  {
   "cell_type": "code",
   "execution_count": 11,
   "metadata": {},
   "outputs": [
    {
     "name": "stdout",
     "output_type": "stream",
     "text": [
      "<function quadrato at 0x1085d0220>\n",
      "9\n"
     ]
    }
   ],
   "source": [
    "# Definiamo una funzione che preso in input un numero x, ritorna il suo quadrato\n",
    "def quadrato(x: float) -> float:\n",
    "    r\"\"\"\n",
    "    Ritorna il quadrato del valore preso in input.\n",
    "\n",
    "    Parameters:\n",
    "    x (float): Numero in input\n",
    "\n",
    "    Returns:\n",
    "    (float) x^2\n",
    "    \"\"\"\n",
    "    risultato = x**2\n",
    "    return risultato\n",
    "\n",
    "# Ora, associamo la funzione ad una variabile, f\n",
    "f = quadrato\n",
    "print(quadrato)\n",
    "print(f(3))"
   ]
  },
  {
   "cell_type": "markdown",
   "metadata": {},
   "source": [
    "Come è possibile vedere, la variabile `f` rappresenta ora la funzione. Vediamo come usarla come input di un'ulteriore funzione che, presa in input una funzione `f` e una tupla `x = (x1, x2, ..., xn)`, ritorna il valore della funzione `f` applicata a ciascun elemento della tupla."
   ]
  },
  {
   "cell_type": "code",
   "execution_count": 12,
   "metadata": {},
   "outputs": [],
   "source": [
    "def elemento_per_elemento(f, x: tuple[float]) -> list[float]:\n",
    "    r\"\"\"\n",
    "    Presa in input una funzione f e una tupla di float x, ritorna una lista\n",
    "    della stessa lunghezza di x, i cui elementi sono gli f(xi).\n",
    "\n",
    "    Parameters:\n",
    "    f (function): La funzione da applicare elemento per elemento\n",
    "    x (tuple): Una tupla di numeri float\n",
    "\n",
    "    Returns:\n",
    "    (list): Una tupla contenente gli f(xi)\n",
    "    \"\"\"\n",
    "    # Inizializiamo la tupla di output (per salvare memoria)\n",
    "    y = [0] * len(x)\n",
    "\n",
    "    # Cicliamo sugli elementi di x\n",
    "    for i in range(len(x)):\n",
    "        xi = x[i] # Estraiamo l'i-esimo elemento di x\n",
    "\n",
    "        y[i] = f(xi) # Calcoliamo f su xi\n",
    "    \n",
    "    return y"
   ]
  },
  {
   "cell_type": "markdown",
   "metadata": {},
   "source": [
    "Il vantaggio di tale approccio, è che la funzione sopra definita può essere ri-utilizzata su qualunque altra funzione che vogliamo applicare elemento per elemento ad una tupla di numeri. "
   ]
  },
  {
   "cell_type": "code",
   "execution_count": 13,
   "metadata": {},
   "outputs": [
    {
     "name": "stdout",
     "output_type": "stream",
     "text": [
      "[1, 4, 9, 16, 25]\n",
      "[1, 8, 27, 64, 125]\n"
     ]
    }
   ],
   "source": [
    "def quadrato(x: float) -> float:\n",
    "    r\"\"\"\n",
    "    Ritorna il quadrato del valore preso in input.\n",
    "\n",
    "    Parameters:\n",
    "    x (float): Numero in input\n",
    "\n",
    "    Returns:\n",
    "    (float) x^2\n",
    "    \"\"\"\n",
    "    risultato = x**2\n",
    "    return risultato\n",
    "\n",
    "def cubo(x: float) -> float:\n",
    "    r\"\"\"\n",
    "    Ritorna il cubo del valore preso in input.\n",
    "\n",
    "    Parameters:\n",
    "    x (float): Numero in input\n",
    "\n",
    "    Returns:\n",
    "    (float) x^3\n",
    "    \"\"\"\n",
    "    risultato = x**3\n",
    "    return risultato\n",
    "\n",
    "# Esempio\n",
    "x_vec: tuple[float] = (1, 2, 3, 4, 5)\n",
    "\n",
    "x_vec_quadrato = elemento_per_elemento(quadrato, x_vec)\n",
    "x_vec_cubo = elemento_per_elemento(cubo, x_vec)\n",
    "\n",
    "print(x_vec_quadrato)\n",
    "print(x_vec_cubo)\n"
   ]
  },
  {
   "cell_type": "markdown",
   "metadata": {},
   "source": [
    "### Funzioni `lambda`\n",
    "\n",
    "In alcune situazioni si vuole definire una funzione molto semplice, che possa essere scritta su una sola riga, in modo da semplificare la lettura del codice. Per farlo, in Python è possibile utilizzare le funzioni `lambda`. La sintassi è molto semplice:"
   ]
  },
  {
   "cell_type": "code",
   "execution_count": 14,
   "metadata": {},
   "outputs": [
    {
     "name": "stdout",
     "output_type": "stream",
     "text": [
      "9\n"
     ]
    }
   ],
   "source": [
    "# Definiamo una funzione che, preso in input un valore x, ritorna x**2\n",
    "quadrato = lambda x: x**2\n",
    "print(quadrato(3))"
   ]
  },
  {
   "cell_type": "markdown",
   "metadata": {},
   "source": [
    "Infatti, è sufficiente richiamare il comando `lambda`, seguito dai valori di input, separati da una virgola, i `:`, e  infine l'operazione da eseguire. Assegnando questa scrittura ad una qualunque variabile, questa viene interpretata come una funzione."
   ]
  },
  {
   "cell_type": "markdown",
   "metadata": {},
   "source": [
    "### Variabili locali vs variabili globali\n",
    "Una caratteristica delle funzioni a cui è necessario prestare attenzione è la differenza tra le variabili locali (cioè definite **all'interno della funzione**) e le variabili globali (definite **all'esterno della funzione**).\n",
    "\n",
    "Infatti, è possibile accedere dall'interno della funzione a **tutte** le variabili definite all'esterno, come se fossero passate in input. Viceversa, non è possibile accedere dall'esterno della funzione alle variabili definite al suo interno, che verranno create al momento in cui la funzione viene richiamata, e poi eliminate subito dopo.\n",
    "\n",
    "Vediamo un esempio:"
   ]
  },
  {
   "cell_type": "code",
   "execution_count": 15,
   "metadata": {},
   "outputs": [
    {
     "name": "stdout",
     "output_type": "stream",
     "text": [
      "Ciao, Davide Evangelista.\n"
     ]
    },
    {
     "ename": "NameError",
     "evalue": "name 'cognome' is not defined",
     "output_type": "error",
     "traceback": [
      "\u001b[0;31m---------------------------------------------------------------------------\u001b[0m",
      "\u001b[0;31mNameError\u001b[0m                                 Traceback (most recent call last)",
      "Cell \u001b[0;32mIn[15], line 10\u001b[0m\n\u001b[1;32m      7\u001b[0m saluti(cognome\u001b[38;5;241m=\u001b[39m\u001b[38;5;124m\"\u001b[39m\u001b[38;5;124mEvangelista\u001b[39m\u001b[38;5;124m\"\u001b[39m)\n\u001b[1;32m      9\u001b[0m \u001b[38;5;66;03m# La variabile locale \"cognome\" non è più in memoria\u001b[39;00m\n\u001b[0;32m---> 10\u001b[0m \u001b[38;5;28mprint\u001b[39m(\u001b[43mcognome\u001b[49m)\n",
      "\u001b[0;31mNameError\u001b[0m: name 'cognome' is not defined"
     ]
    }
   ],
   "source": [
    "def saluti(cognome: str) -> None:\n",
    "    print(f\"Ciao, {nome} {cognome}.\")\n",
    "    return None\n",
    "\n",
    "# Definiamo una variabile globale \"nome\"\n",
    "nome: str = \"Davide\"\n",
    "saluti(cognome=\"Evangelista\")\n",
    "\n",
    "# La variabile locale \"cognome\" non è più in memoria\n",
    "print(cognome)"
   ]
  },
  {
   "cell_type": "markdown",
   "metadata": {},
   "source": [
    "```{note}\n",
    "E' importante inoltre ricordare che, se una variabile locale è definita con lo stesso nome di una variabile locale, all'interno della funzione avrà valore solo la variabile locale, che andrà a sovrascrivere temporaneamente la corrispondente variabile locale.\n",
    "```"
   ]
  },
  {
   "cell_type": "code",
   "execution_count": 16,
   "metadata": {},
   "outputs": [
    {
     "name": "stdout",
     "output_type": "stream",
     "text": [
      "Ciao, Luca.\n"
     ]
    }
   ],
   "source": [
    "def saluti(nome: str) -> None:\n",
    "    print(f\"Ciao, {nome}.\")\n",
    "    return None\n",
    "\n",
    "# Definiamo una variabile globale \"nome\"\n",
    "nome: str = \"Davide\"\n",
    "saluti(\"Luca\")"
   ]
  },
  {
   "cell_type": "markdown",
   "metadata": {},
   "source": [
    "```{warning}\n",
    "Modificare una variabile globale all'interno di una funzione, attraverso un'operazione che **modifica l'oggetto senza riassegnarlo** (come ad esempio il metodo `.append()` o `.insert()` per le liste), mantiene le modifiche anche all'esterno della funzione!\n",
    "\n",
    "Fare molta attenzione ad utilizzare operazioni che modificano la variabile all'interno delle funzioni!\n",
    "```"
   ]
  },
  {
   "cell_type": "code",
   "execution_count": 17,
   "metadata": {},
   "outputs": [
    {
     "name": "stdout",
     "output_type": "stream",
     "text": [
      "[1, 1]\n",
      "[1, 1, 2, 3]\n"
     ]
    }
   ],
   "source": [
    "def fibonacci_step(valori: list) -> None:\n",
    "    r\"\"\"\n",
    "    Data una lista di valori, contenente una porzione della sequenza di Fibonacci, \n",
    "    aggiunge il successivo elemento della sequenza, in testa a tale lista.\n",
    "\n",
    "    Parameters:\n",
    "    valori (list): La lista con gli attuali valori della sequenza di Fibonacci\n",
    "    \"\"\"\n",
    "    valori.append(valori[-2] + valori[-1])\n",
    "    return None\n",
    "\n",
    "# Definisco una lista iniziale\n",
    "valori = [1, 1]\n",
    "print(valori)\n",
    "\n",
    "# Steps\n",
    "fibonacci_step(valori)\n",
    "fibonacci_step(valori)\n",
    "print(valori)"
   ]
  },
  {
   "cell_type": "markdown",
   "metadata": {},
   "source": [
    "### Approfondimento: `*args` e `**kwargs`\n",
    "In alcune situazioni, si vuole definire una funzione a cui è possibile passare valori di input variabile, non fissati a priori. Sebbene sia questa una situazione molto rara, è possibile che ciò succeda quando si vogliono definire degli algoritmi numerici con molti parametri di input, alcuni dei quali sono facoltativi. \n",
    "\n",
    "Quando ciò accade, vengono in aiuto i parametri `*args` e `**kwargs`, indicanti rispettivamente un numero non specificato di input posizionali e non posizionali. Vediamone un paio di esempi:"
   ]
  },
  {
   "cell_type": "code",
   "execution_count": 18,
   "metadata": {},
   "outputs": [
    {
     "name": "stdout",
     "output_type": "stream",
     "text": [
      "Somma di (1, 2, 3): 6\n",
      "Somma di (5, 10): 15\n"
     ]
    }
   ],
   "source": [
    "def somma(*args):\n",
    "    r\"\"\"\n",
    "    Dato in input un elenco di valori, ritorna la loro somma.\n",
    "    \"\"\"\n",
    "    # Nota: il numero variabile di input viene caricato dentro una variabile di nome\n",
    "    # \"args\", che praticamente rappresenta una tupla di valori.\n",
    "    print(f\"Somma di {args}:\", end=\" \")\n",
    "\n",
    "    # Eseguo la somma dei valori\n",
    "    risultato = 0\n",
    "    for valore in args:\n",
    "        risultato = risultato + valore\n",
    "    return risultato\n",
    "\n",
    "# Chiamata alla funzione con un numero variabile di argomenti\n",
    "print(somma(1, 2, 3))\n",
    "print(somma(5, 10))"
   ]
  },
  {
   "cell_type": "markdown",
   "metadata": {},
   "source": [
    "Nell'esempio, la funzione `somma` può accettare qualsiasi numero di parametri grazie all'input `*args`."
   ]
  },
  {
   "cell_type": "markdown",
   "metadata": {},
   "source": [
    "Similmente, con `**kwargs`, possiamo passare un numero variabile di argomenti non posizionali con nome a una funzione. Questi argomenti vengono ricevuti sotto forma di dizionario (e non tupla, come avveniva con `*args`)."
   ]
  },
  {
   "cell_type": "code",
   "execution_count": 19,
   "metadata": {},
   "outputs": [
    {
     "name": "stdout",
     "output_type": "stream",
     "text": [
      "nome: Luca\n",
      "età: 21\n",
      "corso: Calcolo Numerico\n"
     ]
    }
   ],
   "source": [
    "def info_studente(**kwargs):\n",
    "    for chiave, valore in kwargs.items():\n",
    "        print(f\"{chiave}: {valore}\")\n",
    "\n",
    "# Chiamata alla funzione con argomenti con nome\n",
    "info_studente(nome=\"Luca\", età=21, corso=\"Calcolo Numerico\")"
   ]
  },
  {
   "cell_type": "markdown",
   "metadata": {},
   "source": [
    "E' chiaramente possibile passare ad una funzione sia il valore `*args` che il valore `**kwargs`, così che possa prendere in ingresso un numero non specificato sia di valori posizionali che non posizionali."
   ]
  },
  {
   "cell_type": "code",
   "execution_count": 20,
   "metadata": {},
   "outputs": [
    {
     "name": "stdout",
     "output_type": "stream",
     "text": [
      "inputs: input1, input2.\n",
      "*args: (1, 2, 3)\n",
      "**kwargs: {'nome': 'Luca', 'voto': '30'}\n"
     ]
    }
   ],
   "source": [
    "def visualizza_args(input_1, input_2, *args, **kwargs):\n",
    "    print(f\"inputs: {input_1}, {input_2}.\")\n",
    "    print(f\"*args: {args}\")\n",
    "    print(f\"**kwargs: {kwargs}\")\n",
    "\n",
    "visualizza_args(\"input1\", \"input2\", 1, 2, 3, nome=\"Luca\", voto=\"30\")"
   ]
  }
 ],
 "metadata": {
  "kernelspec": {
   "display_name": "teaching",
   "language": "python",
   "name": "python3"
  },
  "language_info": {
   "codemirror_mode": {
    "name": "ipython",
    "version": 3
   },
   "file_extension": ".py",
   "mimetype": "text/x-python",
   "name": "python",
   "nbconvert_exporter": "python",
   "pygments_lexer": "ipython3",
   "version": "3.12.4"
  }
 },
 "nbformat": 4,
 "nbformat_minor": 2
}