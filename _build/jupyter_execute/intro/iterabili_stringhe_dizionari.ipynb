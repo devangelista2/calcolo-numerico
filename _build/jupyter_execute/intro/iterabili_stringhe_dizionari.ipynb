{
 "cells": [
  {
   "cell_type": "markdown",
   "metadata": {},
   "source": [
    "# Iterabili: stringhe e dizionari\n",
    "\n",
    "Gli array appena descritti (`liste` e `tuple`) sono, in Python, casi specifici di un'oggetto più generale: gli **iterabili**. \n",
    "\n",
    "E' possibile definire un iterabile come una qualunque variabile che è composta da \"parti più piccole\", alle quali è possibile accedere singolarmente. Ad esempio, liste e tuple sono banalmente degli iterabili, le cui \"parti più piccole\" sono gli elementi che hanno all'interno.\n",
    "\n",
    "Altro esempio di iterabili sono le `stringhe`, poiché formate da una concatenazione di parti più piccole (i suoi caratteri). A queste, se ne aggiungono altri, alcuni dei quali approfondiremo in seguito:\n",
    "\n",
    "- Generatori\n",
    "- Dizionari\n",
    "- Insiemi\n",
    "\n",
    "Non sono invece iterabili tutte le variabili rappresentanti numeri (`int`, `float`, etc.). Infatti, benché si potrebbe dire che siano composti da unità più piccole (le cifre), trattarli come tali andrebbe a creare complicazioni con alcune delle operazioni classiche tra iterabili."
   ]
  },
  {
   "cell_type": "markdown",
   "metadata": {},
   "source": [
    "### Operazioni su iterabili\n",
    "\n",
    "La maggior parte delle operazioni che abbiamo visto sugli array sono in realtà operazioni comuni agli iterabili. Alcuni iterabili hanno dei vincoli specifici per cui non tutte le operazioni che vedremo sono applicabili a tutti gli iterabili.\n",
    "\n",
    "Ad esempio, l'operazione di slicing (ovvero accedere ad un elemento tramite le parentesi quadre `[]`), è fattibile anche su stringhe."
   ]
  },
  {
   "cell_type": "code",
   "execution_count": 1,
   "metadata": {},
   "outputs": [
    {
     "name": "stdout",
     "output_type": "stream",
     "text": [
      "p\n",
      "oppip\n"
     ]
    }
   ],
   "source": [
    "# Definiamo una stringa\n",
    "s: str = \"pippo\"\n",
    "\n",
    "# Estraiamone un elemento\n",
    "print(s[2])\n",
    "\n",
    "# Stampiamola al contrario\n",
    "print(s[::-1])"
   ]
  },
  {
   "cell_type": "markdown",
   "metadata": {},
   "source": [
    "Similmente, la funzione `len()`, che indica il numero di elementi contenuti in un array, è utilizzabile anche su stringhe:"
   ]
  },
  {
   "cell_type": "code",
   "execution_count": 2,
   "metadata": {},
   "outputs": [
    {
     "name": "stdout",
     "output_type": "stream",
     "text": [
      "5\n"
     ]
    }
   ],
   "source": [
    "# Stampiamo la lunghezza della stringa precedentemente definita\n",
    "print(len(s))"
   ]
  },
  {
   "cell_type": "markdown",
   "metadata": {},
   "source": [
    "Infine, è possibile **concatenare** due iterabili (ovvero creare un nuovo iterabile, dello stesso tipo dei due su cui l'operazione è applicata), i cui elementi sono ottenuti mettendo insieme gli elementi dei primi due.\n",
    "\n",
    "L'operazione di concatenazione, avviene come per gli array con il comando `+`."
   ]
  },
  {
   "cell_type": "markdown",
   "metadata": {},
   "source": [
    "### Dizionari\n",
    "Andiamo ad approfondire quindi una tipologia di iterabile che rivedremo più e più volte durante il corso: i dizionari. Essi infatti sono molto utili per organizzare dati complessi e lavorare con grandi quantità di informazioni in modo efficiente.\n",
    "\n",
    "Un dizionario è una tipologia di array (che quindi contiene al suo interno elementi), i cui valori sono indicizzati da `stringhe`, invece che dalla posizione dell'elemento nell'array, come di consueto. La stringa che indicizza un valore è detta **chiave**. I dizionari sono mutabili, il che significa che è possibile modificare, aggiungere o eliminare elementi anche dopo la loro creazione.\n",
    "\n",
    "Per definire un dizionario, si utilizza la parentesi graffa `{}`, all'interno della quale vengono scritte le chiavi (definite attraverso stringhe), che vengono associate al rispettivo valore tramite i `:`.\n",
    "\n",
    "Vediamo un esempio:"
   ]
  },
  {
   "cell_type": "code",
   "execution_count": 3,
   "metadata": {},
   "outputs": [
    {
     "name": "stdout",
     "output_type": "stream",
     "text": [
      "{'nome': 'Luca', 'eta': 21, 'corso': 'Calcolo Numerico'}\n"
     ]
    }
   ],
   "source": [
    "# Creazione di un dizionario vuoto\n",
    "dizionario_vuoto = {}\n",
    "\n",
    "# Dizionario con alcuni elementi\n",
    "studente = {\n",
    "    \"nome\": \"Luca\",\n",
    "    \"eta\": 21,\n",
    "    \"corso\": \"Calcolo Numerico\"\n",
    "}\n",
    "print(studente)"
   ]
  },
  {
   "cell_type": "markdown",
   "metadata": {},
   "source": [
    "Come qualunque iterabile, è possibile accedere ai valori nel dizionario specificando la chiave tra parentesi quadre `[]`."
   ]
  },
  {
   "cell_type": "code",
   "execution_count": 4,
   "metadata": {},
   "outputs": [
    {
     "name": "stdout",
     "output_type": "stream",
     "text": [
      "Luca\n"
     ]
    }
   ],
   "source": [
    "# Accesso al valore associato alla chiave \"nome\"\n",
    "print(studente[\"nome\"])  # Output: Luca"
   ]
  },
  {
   "cell_type": "markdown",
   "metadata": {},
   "source": [
    "E, chiaramente, è possibile allo stesso modo modificarne i valori."
   ]
  },
  {
   "cell_type": "code",
   "execution_count": 5,
   "metadata": {},
   "outputs": [
    {
     "name": "stdout",
     "output_type": "stream",
     "text": [
      "{'nome': 'Luca', 'eta': 22, 'corso': 'Calcolo Numerico'}\n"
     ]
    }
   ],
   "source": [
    "# Modifica del valore della chiave \"età\"\n",
    "studente[\"eta\"] = 22\n",
    "print(studente)"
   ]
  },
  {
   "cell_type": "markdown",
   "metadata": {},
   "source": [
    "Per aggiungere una nuova chiave, è sufficiente richiamarla semplicemente tramite le parentesi quadre `[]`, e assegnarci un valore. Python si occuperà di creare la chiave (se non presente) o di modificarla (se presente)."
   ]
  },
  {
   "cell_type": "code",
   "execution_count": 6,
   "metadata": {},
   "outputs": [
    {
     "name": "stdout",
     "output_type": "stream",
     "text": [
      "{'nome': 'Luca', 'eta': 22, 'corso': 'Calcolo Numerico', 'voto': 30}\n"
     ]
    }
   ],
   "source": [
    "# Aggiunta di una nuova chiave \"voto\"\n",
    "studente[\"voto\"] = 30\n",
    "print(studente)"
   ]
  },
  {
   "cell_type": "markdown",
   "metadata": {},
   "source": [
    "E' possibile ottenere una lista completa delle chiavi, dei valori, o delle coppie chiave-valore presenti in un dizionario, tramite i metodi: `keys()`, `values()` e `items()`, rispettivamente."
   ]
  },
  {
   "cell_type": "code",
   "execution_count": 7,
   "metadata": {},
   "outputs": [
    {
     "name": "stdout",
     "output_type": "stream",
     "text": [
      "dict_keys(['nome', 'eta', 'corso', 'voto'])\n",
      "dict_values(['Luca', 22, 'Calcolo Numerico', 30])\n",
      "dict_items([('nome', 'Luca'), ('eta', 22), ('corso', 'Calcolo Numerico'), ('voto', 30)])\n"
     ]
    }
   ],
   "source": [
    "# Utilizzo dei metodi descritti\n",
    "print(studente.keys()) \n",
    "print(studente.values()) \n",
    "print(studente.items())"
   ]
  },
  {
   "cell_type": "markdown",
   "metadata": {},
   "source": [
    "```{note}\n",
    "E' chiaramente possibile assegnare un dizionario come valore ad un'altro dizionario. Questo permette di organizzare ad esempio variabili di un'esperimento e altri valori utili.\n",
    "```"
   ]
  },
  {
   "cell_type": "code",
   "execution_count": 8,
   "metadata": {},
   "outputs": [
    {
     "name": "stdout",
     "output_type": "stream",
     "text": [
      "{'studente1': {'nome': 'Mario', 'eta': 22, 'voto': 30}, 'studente2': {'nome': 'Luca', 'eta': 21, 'voto': 25}}\n"
     ]
    }
   ],
   "source": [
    "# Creo vocabolario \"classe\" contenente degli \"studenti\"\n",
    "classe = {\n",
    "    \"studente1\": {\n",
    "        \"nome\": \"Mario\",\n",
    "        \"eta\": 22,\n",
    "        \"voto\": 30,\n",
    "    },\n",
    "\n",
    "    \"studente2\": {\n",
    "        \"nome\": \"Luca\",\n",
    "        \"eta\": 21,\n",
    "        \"voto\": 25\n",
    "    }\n",
    "}\n",
    "\n",
    "print(classe)"
   ]
  }
 ],
 "metadata": {
  "language_info": {
   "codemirror_mode": {
    "name": "ipython",
    "version": 3
   },
   "file_extension": ".py",
   "mimetype": "text/x-python",
   "name": "python",
   "nbconvert_exporter": "python",
   "pygments_lexer": "ipython3",
   "version": "3.12.4"
  }
 },
 "nbformat": 4,
 "nbformat_minor": 2
}