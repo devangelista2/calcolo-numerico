{
 "cells": [
  {
   "cell_type": "markdown",
   "metadata": {},
   "source": [
    "## Variabili e tipi di dato\n",
    "\n",
    "Le variabili sono dei contenitori che permettono di memorizzare e manipolare dati, semplificando il processo di sviluppo e rendendo il codice più flessibile e leggibile.\n",
    "\n",
    "A differenza della maggior parte dei linguaggi di programmazione (come ad esempio C, C++, Java, ...), Python è un linguaggio dinamicamente tipizzato, il che significa che le variabili non richiedono una dichiarazione esplicita del tipo e possono cambiare tipo durante l'esecuzione del programma.\n",
    "\n",
    "L'assegnazione di varabili in Python avviene come di consueto con l'operatore `=`, che si occupa **sia** di instanziare la variabile nel caso in cui non esistesse, sia di attribuirgli il valore richiesto, inferendo in automatico il tipo di dato.\n",
    "\n",
    "Vediamo come creare alcune tipologie di variabili."
   ]
  },
  {
   "cell_type": "code",
   "execution_count": 1,
   "metadata": {},
   "outputs": [],
   "source": [
    "a = 3 # Intera\n",
    "x = 2.1 # Float\n",
    "s = \"pippo\" # Stringa\n",
    "b = True # Booleana"
   ]
  },
  {
   "cell_type": "markdown",
   "metadata": {},
   "source": [
    "Per visualizzare il tipo di una variabile, si utilizza la funzione `type()`."
   ]
  },
  {
   "cell_type": "code",
   "execution_count": 2,
   "metadata": {},
   "outputs": [
    {
     "name": "stdout",
     "output_type": "stream",
     "text": [
      "<class 'int'>\n"
     ]
    }
   ],
   "source": [
    "print(type(a))"
   ]
  },
  {
   "cell_type": "markdown",
   "metadata": {},
   "source": [
    "Una volta creata una variabile, questa può essere anche riassegnata ad un nuovo valore, o anche ad un valore di tipo diverso! L'interprete di Python si occuperà di gestire la conversione di tipo."
   ]
  },
  {
   "cell_type": "code",
   "execution_count": 3,
   "metadata": {},
   "outputs": [
    {
     "name": "stdout",
     "output_type": "stream",
     "text": [
      "<class 'float'>\n"
     ]
    }
   ],
   "source": [
    "a = 3.6 # Assegnamo alla variabile un valore di tipo diverso\n",
    "print(type(a)) # Osserviamo come cambia il tipo"
   ]
  },
  {
   "cell_type": "markdown",
   "metadata": {},
   "source": [
    "E' inoltre possibile forzare Python a cambiare il tipo di una variabile, utilizzando le funzioni di conversione. Per esempio, se chiamiamo la funzione di conversione `a = int(a)` per convertire `a` ad un valore intero, Python cercherà un modo di farlo. In questo caso, il risultato sarà che la parte decimale di `a` verrà semplicemente troncata."
   ]
  },
  {
   "cell_type": "code",
   "execution_count": 4,
   "metadata": {},
   "outputs": [
    {
     "name": "stdout",
     "output_type": "stream",
     "text": [
      "3.6\n",
      "3\n"
     ]
    }
   ],
   "source": [
    "print(a)\n",
    "print(int(a))"
   ]
  },
  {
   "cell_type": "markdown",
   "metadata": {},
   "source": [
    "```{note}\n",
    "I nomi delle varabili in Python sono case-sensitive, ovvero le variabili `a` e `A` saranno considerate come completamente diverse dall'interprete.\n",
    "```"
   ]
  },
  {
   "cell_type": "code",
   "execution_count": 5,
   "metadata": {},
   "outputs": [
    {
     "name": "stdout",
     "output_type": "stream",
     "text": [
      "3\n",
      "Ciao\n"
     ]
    }
   ],
   "source": [
    "a = 3\n",
    "A = \"Ciao\"\n",
    "\n",
    "print(a)\n",
    "print(A)"
   ]
  },
  {
   "cell_type": "markdown",
   "metadata": {},
   "source": [
    "### Stringhe\n",
    "\n",
    "Le variabili di tipo stringa possono essere identificate con il carattere \" o equivalentemente con il carattere '. Tra le operazioni più comunemente utilizzate tra stringhe c'è sicuramente la concatenazione (ovvero l'unione di più stringhe in un'unica stringa). In Python, questo può essere fatto semplicemente utilizzando l'operatore `+`."
   ]
  },
  {
   "cell_type": "code",
   "execution_count": 6,
   "metadata": {},
   "outputs": [
    {
     "name": "stdout",
     "output_type": "stream",
     "text": [
      "Ciao, Come va?\n"
     ]
    }
   ],
   "source": [
    "s1 = \"Ciao, \"\n",
    "s2 = \"Come va?\"\n",
    "\n",
    "s = s1 + s2\n",
    "print(s)"
   ]
  },
  {
   "cell_type": "markdown",
   "metadata": {},
   "source": [
    "In questo corso, ci troveremo spesso ad utilizzare le stringhe per stampare il risultato di alcuni algoritmi, o per monitorarne la performance durante l'esecuzione. Per questo, sarà più volte necessario concatenare delle stringhe con dei valori numerici. Questo può essere fatto semplicemente convertendo il numero in stringa con la funzione `str()`, e poi concatenando."
   ]
  },
  {
   "cell_type": "code",
   "execution_count": 7,
   "metadata": {},
   "outputs": [
    {
     "name": "stdout",
     "output_type": "stream",
     "text": [
      "Il valore di a è: 5\n"
     ]
    }
   ],
   "source": [
    "a = 5\n",
    "s = \"Il valore di a è: \" + str(a)\n",
    "\n",
    "print(s)"
   ]
  },
  {
   "cell_type": "markdown",
   "metadata": {},
   "source": [
    "Questa procedura è però particolarmente lenta. Un metodo più rapido per svolgere questa operazione è mediante l'utilizzo di `f-stringhe`. Queste non sono altro che stringhe speciali, che permettono di inserire al suo interno il valore di altre variabili, utilizzando le parentesi graffe `{}` come segnaposto."
   ]
  },
  {
   "cell_type": "code",
   "execution_count": 8,
   "metadata": {},
   "outputs": [
    {
     "name": "stdout",
     "output_type": "stream",
     "text": [
      "Il valore di a è: 5.\n"
     ]
    }
   ],
   "source": [
    "a = 5\n",
    "s = f\"Il valore di a è: {a}.\"\n",
    "\n",
    "print(s)"
   ]
  },
  {
   "cell_type": "markdown",
   "metadata": {},
   "source": [
    "Notare come, utilizzando le f-stringhe, non è necessario convertire la variabile `a` in stringa, poiché Python si occuperà autonomamente di questa operazione.\n",
    "\n",
    "Un'ulteriore vantaggio delle f-stringhe è la formattazione. Infatti, è possibile inserire all'interno delle parentesi graffe una serie di impostazioni (precedute dal carattere `:`), che descrivono come la variabile inserita dall'interno delle parentesi deve essere formattato. Ad esempio, questo può essere utile quando vogliamo visualizzare solo alcune cifre decimali del nostro risultato."
   ]
  },
  {
   "cell_type": "code",
   "execution_count": 9,
   "metadata": {},
   "outputs": [
    {
     "name": "stdout",
     "output_type": "stream",
     "text": [
      "Il valore di pi-greco è: 3.1416.\n"
     ]
    }
   ],
   "source": [
    "pi = 3.14159265358979323846\n",
    "\n",
    "print(f\"Il valore di pi-greco è: {pi:0.4f}.\")"
   ]
  },
  {
   "cell_type": "markdown",
   "metadata": {},
   "source": [
    "Dove il comando `0.4f` indica che vogliamo visualizzare tutte le cifre intere e 4 cifre decimali, della variabile `float` `pi`. Una lista completa dei comandi che possono essere inseriti all'interno delle f-stringhe è disponibile al link: https://www.w3schools.com/python/python_string_formatting.asp."
   ]
  },
  {
   "cell_type": "markdown",
   "metadata": {},
   "source": [
    "### Interi e float\n",
    "\n",
    "Come già detto, le variabili numeriche in Python possono essere di due tipologie: intere o float. Le due tipologie di variabili sono distinte dalla presenza del `.`, che separa la parte intera dalla parte decimale.\n",
    "\n",
    "```{note}\n",
    "Una variabile del tipo `a = 1.0` è di tipo `float`, anche se tecnicamente rappresenta un numero intero. Infatti, come detto, la differenza tra i due tipi di variabile non è dato dal valore numerico in sè, ma dalla presenza o meno del `.`. Per convertire una variabile intera nella sua controparte float è possibile utilizzare la funzione `float()`.\n",
    "```"
   ]
  },
  {
   "cell_type": "code",
   "execution_count": 10,
   "metadata": {},
   "outputs": [
    {
     "name": "stdout",
     "output_type": "stream",
     "text": [
      "<class 'int'>\n",
      "<class 'float'>\n",
      "<class 'float'>\n"
     ]
    }
   ],
   "source": [
    "a = 3 # Variabile intera\n",
    "b = 2.7 # Variabile float\n",
    "print(type(a))\n",
    "print(type(b))\n",
    "\n",
    "c = 3.0 # Variabile float (con valore intero)\n",
    "print(type(c))"
   ]
  },
  {
   "cell_type": "markdown",
   "metadata": {},
   "source": [
    "Ovviamente, una variabile intera e la sua controparte float, vengono riconosciute come _uguali_ da Python. Questo può essere facilmente verificato utilizzando l'operatore di confronto `==`, che ritorna `True` se le due variabili sono uguali, `False` se sono diverse.\n",
    "\n",
    "```{warning}\n",
    "Attenzione alla differenza tra l'operatore di assegnazione `=`, utilizzato per assegnare un valore ad una variabile, e l'operatore di confronto `==`, utilizzato per controllare se due valori sono uguali tra loro.\n",
    "```"
   ]
  },
  {
   "cell_type": "code",
   "execution_count": 11,
   "metadata": {},
   "outputs": [
    {
     "name": "stdout",
     "output_type": "stream",
     "text": [
      "a = 3, b = 3.0, sono uguali? True.\n"
     ]
    }
   ],
   "source": [
    "a = 3\n",
    "b = float(a)\n",
    "\n",
    "print(f\"a = {a}, b = {b}, sono uguali? {a == b}.\")"
   ]
  },
  {
   "cell_type": "markdown",
   "metadata": {},
   "source": [
    "Le operazioni numeriche tra variabili intere e float vengono eseguite in maniera naturale, con i soliti operatori:\n",
    "\n",
    "- `+` è l'operatore di somma.\n",
    "- `-` è l'operatore di differenza.\n",
    "- `*` è l'operatore di moltiplicazione.\n",
    "- `/` è l'operatore di divisione.\n",
    "- `//` è l'operatore di divisione intera.\n",
    "- `%` è l'operatore di resto.\n",
    "- `**` è l'operatore di potenza.\n",
    "\n",
    "Inoltre, gli operatori di confronto, oltre al già citato `==`, sono:\n",
    "\n",
    "- `==` è l'operatore di uguaglianza.\n",
    "- `!=` è l'operatore di non uguaglianza.\n",
    "- `>`, `<` sono gli operatori di confronto stretti.\n",
    "- `>=`, `<=` sono gli operatori di confronto con uguaglianza.\n",
    "\n",
    "Questi ritornano il valore booleano `True` quando la condizione è soddisfatta, `False` quando questo non avviene."
   ]
  },
  {
   "cell_type": "code",
   "execution_count": 12,
   "metadata": {},
   "outputs": [
    {
     "name": "stdout",
     "output_type": "stream",
     "text": [
      "a + b = 6, a * b = 8, a^b = 16.\n"
     ]
    }
   ],
   "source": [
    "a = 4\n",
    "b = 2\n",
    "\n",
    "print(f\"a + b = {a+b}, a * b = {a*b}, a^b = {a ** b}.\")"
   ]
  },
  {
   "cell_type": "markdown",
   "metadata": {},
   "source": [
    "E' importante osservare che, quando si applicano le operazioni tra una variabile intera e una float, Python convertirà automaticamente la variabile intera in float, così da poter svolgere l'operazione. Come risultato si avrà che l'output dell'operazione sarà una variabile di tipo float, indipendentemente dal fatto che il suo valore sia o meno intero."
   ]
  },
  {
   "cell_type": "code",
   "execution_count": 13,
   "metadata": {},
   "outputs": [
    {
     "name": "stdout",
     "output_type": "stream",
     "text": [
      "a / b = 2.0.\n"
     ]
    }
   ],
   "source": [
    "a = 4.2\n",
    "b = 2.1\n",
    "\n",
    "print(f\"a / b = {a/b}.\")"
   ]
  },
  {
   "cell_type": "markdown",
   "metadata": {},
   "source": [
    "### Booleane\n",
    "\n",
    "Le variabili booleane possono assumere solo due valori: `True` o `False` (notare la lettera maiuscola). Ogni variabile numerica può essere convertita in booleana tramite la funzione `bool()`, e assumerà il valore `True` se il numero sarà diverso da 0, mentre varrà `False` se il suo valore è 0. \n",
    "\n",
    "Anche l'operazione inversa è possibile, utilizzando la funzione `int()` su variabili booleane."
   ]
  },
  {
   "cell_type": "code",
   "execution_count": 14,
   "metadata": {},
   "outputs": [
    {
     "name": "stdout",
     "output_type": "stream",
     "text": [
      "1\n",
      "0\n"
     ]
    }
   ],
   "source": [
    "a = True\n",
    "b = False\n",
    "\n",
    "print(int(a))\n",
    "print(int(b))"
   ]
  },
  {
   "cell_type": "markdown",
   "metadata": {},
   "source": [
    "### None\n",
    "\n",
    "Tra gli altri tipi di variabili in Python, un ruolo importante è svolto dalla variabile `None`. Questa è utilizzata per rappresentare l'assenza di dati, e viene ad esempio data in output di default da funzioni che non ritornano alcun valore, come vedremo in seguito.\n",
    "\n",
    "Per controllare se una data variabile è di tipo `None`, si utilizza la seguente struttura:"
   ]
  },
  {
   "cell_type": "code",
   "execution_count": 15,
   "metadata": {},
   "outputs": [
    {
     "name": "stdout",
     "output_type": "stream",
     "text": [
      "True\n",
      "False\n"
     ]
    }
   ],
   "source": [
    "a = None\n",
    "b = \"Hello\"\n",
    "\n",
    "print(a is None) # Check se \"a\" è None\n",
    "print(b is None) # Check se \"b\" è None"
   ]
  },
  {
   "cell_type": "markdown",
   "metadata": {},
   "source": [
    "### Tipizzazione\n",
    "\n",
    "Sebbene, come già detto, non è in genere necessario dichiarare il tipo di variabile in Python, per semplificare la lettura e l'interpretazione del codice, è buona usanza dichiarare il tipo di variabile quando noto. Questo può essere fatto semplicemente facendo precedere l'operatore di assegnazione `=` dalla scrittura `:TIPO`."
   ]
  },
  {
   "cell_type": "code",
   "execution_count": 16,
   "metadata": {},
   "outputs": [],
   "source": [
    "a = 3\n",
    "b: int = 3 # Sono equivalenti, ma questo è più chiaro!"
   ]
  },
  {
   "cell_type": "markdown",
   "metadata": {},
   "source": [
    "```{note}\n",
    "L'inizializzazione **NON** è vincolante. E' sempre possibile assegnare ad una qualunque variabile tipizzata un qualunque valore, indipendentemente dal suo tipo. Dal punto di vista dell'interprete del codice, la tipizzazione è inutile. E' semplicemente una buona pratica per scrivere del codice migliore.\n",
    "```"
   ]
  },
  {
   "cell_type": "code",
   "execution_count": 17,
   "metadata": {},
   "outputs": [
    {
     "name": "stdout",
     "output_type": "stream",
     "text": [
      "<class 'str'>\n"
     ]
    }
   ],
   "source": [
    "# Definisco una variabile con tipizzazione intera e gli assegno una stringa\n",
    "a: int = \"pippo\"\n",
    "print(type(a))"
   ]
  }
 ],
 "metadata": {
  "kernelspec": {
   "display_name": "nn",
   "language": "python",
   "name": "python3"
  },
  "language_info": {
   "codemirror_mode": {
    "name": "ipython",
    "version": 3
   },
   "file_extension": ".py",
   "mimetype": "text/x-python",
   "name": "python",
   "nbconvert_exporter": "python",
   "pygments_lexer": "ipython3",
   "version": "3.12.4"
  }
 },
 "nbformat": 4,
 "nbformat_minor": 2
}