{
 "cells": [
  {
   "cell_type": "markdown",
   "metadata": {},
   "source": [
    "# Gestione degli errori su Python\n",
    "La gestione degli errori è un aspetto fondamentale della programmazione. Gli errori possono verificarsi per molte ragioni, come input non validi, divisioni per zero, o tentativi di accesso a file inesistenti. Python fornisce strumenti per gestire questi errori in modo da evitare che il programma si blocchi inaspettatamente e per facilitare il debugging.\n",
    "\n",
    "### Lettura e comprensione degli errori\n",
    "Quando si verifica un errore in Python, il programma genera un messaggio di errore chiamato traceback. Questo messaggio include informazioni dettagliate sul tipo di errore e dove si è verificato nel codice. Imparare a leggere i tracebacks è essenziale per identificare la causa degli errori."
   ]
  },
  {
   "cell_type": "code",
   "execution_count": null,
   "metadata": {},
   "outputs": [],
   "source": [
    "def divisione(a, b):\n",
    "    return a / b\n",
    "\n",
    "# Questo genera un errore perché stiamo tentando di dividere per zero\n",
    "divisione(10, 0)"
   ]
  },
  {
   "cell_type": "markdown",
   "metadata": {},
   "source": [
    "Vediamo come interpretare questo traceback:\n",
    "\n",
    "* **Traceback (most recent call last)**: indica che l'errore si è verificato nell'ultima operazione eseguita.\n",
    "* **Cell In[..], line 5**: mostra la linea di codice in cui l'errore è stato sollevato.\n",
    "* **Cell In[..], line 2**: mostra che l'errore si è verificato nella funzione divisione, alla riga 2.\n",
    "* **ZeroDivisionError: division by zero**: questo è il tipo di errore specifico (in questo caso un ZeroDivisionError), e la spiegazione dell'errore (\"division by zero\")."
   ]
  },
  {
   "cell_type": "markdown",
   "metadata": {},
   "source": [
    "Vediamo ora quali sono i tipi di errore più comuni in Python, e cosa li causa:\n",
    "\n",
    "1. **SyntaxError**: si verifica quando il codice contiene errori di sintassi. Questo può accadere, ad esempio, se dimentichi una parentesi o un due punti."
   ]
  },
  {
   "cell_type": "code",
   "execution_count": null,
   "metadata": {},
   "outputs": [],
   "source": [
    "if 10 > 5\n",
    "    print(\"Errore di sintassi\")"
   ]
  },
  {
   "cell_type": "markdown",
   "metadata": {},
   "source": [
    "2. **TypeError**: si verifica quando tenti di eseguire un'operazione su tipi di dati non compatibili."
   ]
  },
  {
   "cell_type": "code",
   "execution_count": null,
   "metadata": {},
   "outputs": [],
   "source": [
    "print(\"10\" + 5)"
   ]
  },
  {
   "cell_type": "markdown",
   "metadata": {},
   "source": [
    "3. **NameError**: si verifica quando tenti di usare una variabile o funzione che non è stata definita."
   ]
  },
  {
   "cell_type": "code",
   "execution_count": null,
   "metadata": {},
   "outputs": [],
   "source": [
    "print(x)"
   ]
  },
  {
   "cell_type": "markdown",
   "metadata": {},
   "source": [
    "4. **IndexError**: si verifica quando tenti di accedere a un elemento di una lista usando un indice fuori dai limiti."
   ]
  },
  {
   "cell_type": "code",
   "execution_count": null,
   "metadata": {},
   "outputs": [],
   "source": [
    "lista = [1, 2, 3]\n",
    "print(lista[5])"
   ]
  },
  {
   "cell_type": "markdown",
   "metadata": {},
   "source": [
    "5. **KeyError**: si verifica quando tenti di accedere a una chiave inesistente in un dizionario."
   ]
  },
  {
   "cell_type": "code",
   "execution_count": null,
   "metadata": {},
   "outputs": [],
   "source": [
    "dizionario = {\"nome\": \"Luca\"}\n",
    "print(dizionario[\"età\"])"
   ]
  },
  {
   "cell_type": "markdown",
   "metadata": {},
   "source": [
    "6. **ValueError**: si verifica quando una funzione riceve un argomento valido per tipo, ma non per valore."
   ]
  },
  {
   "cell_type": "code",
   "execution_count": null,
   "metadata": {},
   "outputs": [],
   "source": [
    "int(\"abc\")"
   ]
  },
  {
   "cell_type": "markdown",
   "metadata": {},
   "source": [
    "### Gestire gli errori con `try` e `except`\n",
    "Per prevenire l'interruzione del codice a causa di un errore, Python consente di gestire le eccezioni usando i blocchi `try` e `except`. Il codice che potrebbe causare un errore viene inserito all'interno del blocco `try`, e se si verifica un errore, il programma passa al blocco `except`.\n",
    "\n",
    "```{warning}\n",
    "Attenzione a non abusare della funzionalità di `try` e `except`, poiché tali funzioni possono rendere difficile debuggare il programma, se usate in maniera poco controllata.\n",
    "```\n",
    "\n",
    "Vediamone un esempio:"
   ]
  },
  {
   "cell_type": "code",
   "execution_count": null,
   "metadata": {},
   "outputs": [],
   "source": [
    "def divisione(a, b):\n",
    "    try:\n",
    "        risultato = a / b\n",
    "    except ZeroDivisionError:\n",
    "        print(\"Errore: divisione per zero non consentita!\")\n",
    "        risultato = None\n",
    "    return risultato\n",
    "\n",
    "print(divisione(10, 0))  # Genera errore 10 / 0\n"
   ]
  },
  {
   "cell_type": "markdown",
   "metadata": {},
   "source": [
    "In questo esempio, se si verifica un errore di divisione per zero (`ZeroDivisionError`), il programma non si blocca ma stampa un messaggio di errore e restituisce None."
   ]
  }
 ],
 "metadata": {
  "kernelspec": {
   "display_name": "teaching",
   "language": "python",
   "name": "python3"
  },
  "language_info": {
   "codemirror_mode": {
    "name": "ipython",
    "version": 3
   },
   "file_extension": ".py",
   "mimetype": "text/x-python",
   "name": "python",
   "nbconvert_exporter": "python",
   "pygments_lexer": "ipython3",
   "version": "3.12.4"
  }
 },
 "nbformat": 4,
 "nbformat_minor": 2
}
