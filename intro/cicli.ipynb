{
 "cells": [
  {
   "cell_type": "markdown",
   "metadata": {},
   "source": [
    "# I cicli `for` e `while`"
   ]
  },
  {
   "cell_type": "markdown",
   "metadata": {},
   "source": [
    "I cicli sono fondamentali per automatizzare operazioni che richiedono una ripetizione di alcune istruzioni. Ad esempio, durante il corso utilizzeremo più volte i cicli per implementare algoritmi iterativi, con lo scopo di risolvere un problema di algebra lineare. \n",
    "\n",
    "In Python, ci sono due tipologie principali di cicli: i cicli a orizzonte determinato (ciclo `for`), e quelli a orizzonte indeterminato (ciclo `while`)."
   ]
  },
  {
   "cell_type": "markdown",
   "metadata": {},
   "source": [
    "### Ciclo `for`\n",
    "\n",
    "La sintassi del ciclo for è la seguente:\n",
    "\n",
    "```\n",
    "for <VARIABILE> in <ITERABILE>:\n",
    "    <RIPETIZIONE>\n",
    "```\n",
    "\n",
    "Andiamo a spiegare i singoli termini che compaiono nell'algoritmo sopra. La definizione del ciclo inizia definendo una variabile (sopra indicata dal placeholder `<VARIABILE>`, che viene inizializzata all'interno del ciclo e non deve, quindi, essere già stata utilizzata precedentemente nel codice), assieme ad un iterabile (una `lista`, `tupla`, `stringa` o un `generatore`). All'inizio del ciclo, `<VARIABILE>` viene inizializzata col primo valore dell'iterabile, e il codice all'interno del corpo del ciclo viene eseguito assegnando tale valore alla variabile.\n",
    "\n",
    "Dopodiché, il valore di `<VARIABILE>` si aggiorna, acquisendo il valore del secondo termine di `<ITERABILE>`, e il corpo del ciclo viene ripetuto col nuovo valore. Questa operazione viene ripetuta finché `<VARIABILE>` non assume l'ultimo valore presente in `<ITERABILE>`. A quel punto, il ciclo termina e l'esecuzione del codice continua tranquillamente."
   ]
  },
  {
   "cell_type": "code",
   "execution_count": null,
   "metadata": {},
   "outputs": [],
   "source": [
    "# Inizializzo un iterabile\n",
    "iterable = (2, 1, 4, 3)\n",
    "for n in iterable:\n",
    "    print(n)"
   ]
  },
  {
   "cell_type": "markdown",
   "metadata": {},
   "source": [
    "L'utilizzo più comune del ciclo `for` vuole che la variabile del ciclo assuma valori crescenti, partendo da 0 e arrivando ad un certo valore prefissato. Per ottenere questo risultato, è possibile utilizzare la funzione Python `range(START, STOP, STEP)` che ritorna un generatore contenente valori numerici da `START` (incluso) a `STOP` (escluso) con passo uguale a `STEP`. Ad esempio:"
   ]
  },
  {
   "cell_type": "code",
   "execution_count": null,
   "metadata": {},
   "outputs": [],
   "source": [
    "# Stampa i numeri da 0 a 4\n",
    "for i in range(5): # quando un solo valore è specificato -> START = 0, STEP = 1.\n",
    "    print(i)"
   ]
  },
  {
   "cell_type": "markdown",
   "metadata": {},
   "source": [
    "```{note}\n",
    "Il numero di iterazioni del ciclo viene pre-calcolato. Quindi, allungare o accorciare l'iterabile durante le iterazioni NON modifica il numero di iterazioni del ciclo, che è fissato. Può però modificare i valori che la variabile assume durante le iterazioni.\n",
    "```"
   ]
  },
  {
   "cell_type": "code",
   "execution_count": null,
   "metadata": {},
   "outputs": [],
   "source": [
    "# Definisco un iterabile\n",
    "iterable = [1, 2, 3, 4, 5]\n",
    "for i in iterable:\n",
    "    print(i)\n",
    "    iterable.insert(i+1, i-1)\n",
    "    iterable.append(i)\n",
    "print(iterable)"
   ]
  }
 ],
 "metadata": {
  "language_info": {
   "name": "python"
  }
 },
 "nbformat": 4,
 "nbformat_minor": 2
}
