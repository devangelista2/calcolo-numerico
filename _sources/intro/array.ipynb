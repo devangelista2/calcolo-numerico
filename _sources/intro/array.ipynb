{
 "cells": [
  {
   "cell_type": "markdown",
   "metadata": {},
   "source": [
    "# Array: Liste e Tuple\n",
    "\n",
    "Discussi approfonditamente i tipi di dato principale, possiamo passare a descrivere come si dichiarano e manipolano gli `array`, ovvero delle variabili che contengono al loro interno più variabili, che possono essere anche di tipo differente.\n",
    "\n",
    "In Python esistono due tipologie principali di array: le `liste` e le `tuple`. La differenza principale tra liste e tuple è che le prime sono mutabili (ovvero è sempre possibile accedere gli elementi al loro interno e modificarli), mentre le seconde sono immutabili (una volta che un elemento è stato dichiarato, non è più possibile modificarlo). Vedremo meglio questa differenza proseguendo con la discussione.\n",
    "\n",
    "A differenza di altri linguaggi di programmazione, dove è necessario inizializzare gli array definendone in anticipo la lunghezza, su Python gli array sono dinamici, ovvero possono essere allungati/accorciati al bisogno.\n",
    "\n",
    "Per definire una lista, si inseriscono semplicemente una serie di valori, racchiusi all'interno di due parentesi graffe `[]`."
   ]
  },
  {
   "cell_type": "code",
   "execution_count": null,
   "metadata": {},
   "outputs": [],
   "source": [
    "a = [1, 5, 3] # Definiamo una lista di numeri\n",
    "b = [\"c\", \"i\", \"a\", \"o\"] # Definiamo una lista di stringhe\n",
    "c = [\"c\", 3, True] # Definiamo una lista mista\n",
    "\n",
    "print(type(a))\n",
    "print(a)\n",
    "print(b)\n",
    "print(c)"
   ]
  },
  {
   "cell_type": "markdown",
   "metadata": {},
   "source": [
    "Similmente, per definire una tupla, è sufficiente inserire i valori all'interno di due parentesi tonde `()`, con valori separati da una virgola.\n",
    "\n",
    "```{note}\n",
    "Una curiosità: è in realtà la presenza di una virgola `,` che separa gli oggetti a dare luogo ad una tupla, non le parentesi tonde in sè. Infatti, è in molti casi (non sempre) possibile rimuovere le parentesi tonde senza che questo dia luogo ad un'errore.\n",
    "```"
   ]
  },
  {
   "cell_type": "code",
   "execution_count": null,
   "metadata": {},
   "outputs": [],
   "source": [
    "t = (3, \"pippo\", [1, 3, 2]) # Tuple e liste possono contenere al loro interno anche altri array\n",
    "\n",
    "print(type(t))\n",
    "print(t)"
   ]
  },
  {
   "cell_type": "markdown",
   "metadata": {},
   "source": [
    "```{note}\n",
    "La possibilità di inserire liste all'interno di liste è particolarmente importante per l'utilizzo di Python per l'algebra lineare. Infatti, se i vettori sono definiti come delle liste, allora è possibile definire delle matrici considerando una lista di liste, dove ciascuna lista interna rappresenta una riga della matrice, e così via.\n",
    "```"
   ]
  },
  {
   "cell_type": "markdown",
   "metadata": {},
   "source": [
    "Per tipizzare una lista o una tupla in fase di dichiarazione, si inserisce il tipo di array, seguito da una parentesi graffa `[]`, con scritto il tipo di dato che ci aspettiamo verrà inserito al suo interno. "
   ]
  },
  {
   "cell_type": "code",
   "execution_count": null,
   "metadata": {},
   "outputs": [],
   "source": [
    "a: list[int] = [2, 1, 3] # Crea una list di interi, tipizzata"
   ]
  },
  {
   "cell_type": "markdown",
   "metadata": {},
   "source": [
    "### Slicing\n",
    "\n",
    "Una delle operazioni più comune quando si lavora su array è lo _slicing_. Questo consiste nell'estrarre un dato elemento dell'array. Per farlo, è sufficiente far seguire l'array di cui si desidera estrarre un'elemento da una parentesi quadra `[]`, scrivendo la **posizione** dell'elemento che si vuole estrarre.\n",
    "\n",
    "```{note}\n",
    "In Python, la posizione degli elementi in un'array inizia dall'elemento di posto **zero**. Quindi, su un'ipotetica lista `l = [2, 4, 1]`, il primo elemento (il 2), corrisponde alla posizione zero, il secondo corrisponde alla posizione uno e così via.\n",
    "```"
   ]
  },
  {
   "cell_type": "code",
   "execution_count": null,
   "metadata": {},
   "outputs": [],
   "source": [
    "# Crea una lista\n",
    "l = [2, 1, 5]\n",
    "\n",
    "# Estri un suo elemento\n",
    "print(f\"L'elemento di posto 2 nella lista è: {l[2]}.\")"
   ]
  },
  {
   "cell_type": "markdown",
   "metadata": {},
   "source": [
    "E' similmente possibile anche utilizzare lo slicing per estrarre da un'array non un singolo elemento, ma un sotto-blocco di elementi. Questo viene fatto inserendo all'interno delle parentesi quadre gli indici desiderati, con la sintassi `inizio:fine:step`. \n",
    "\n",
    "```{note}\n",
    "L'indice di `inizio` è **incluso** nella selezione, mentre l'indice di `fine` è **escluso**.\n",
    "```\n",
    "\n",
    "Ad esempio:"
   ]
  },
  {
   "cell_type": "code",
   "execution_count": null,
   "metadata": {},
   "outputs": [],
   "source": [
    "a: list[int] = [1, -1, 0, 1, 3, -2, 1] # Creo una lista di valori\n",
    "\n",
    "# Estraggo gli elementi di indice pari\n",
    "pari = a[0:7:2] # Estraggo gli elementi di indice da 0 (primo elemento) a 6 (fino a indice 7 escluso), con passo 2.\n",
    "print(pari)\n",
    "\n",
    "# Estraggo i 3 elementi centrali\n",
    "centrali = a[2:5]\n",
    "print(centrali)"
   ]
  },
  {
   "cell_type": "markdown",
   "metadata": {},
   "source": [
    "E' possibile far capire a Python che vogliamo estrarre _l'ultimo_ elemento di un'array, in vari modi equivalenti, che possono essere usati a preferenza.\n",
    "\n",
    "1. Un primo metodo è quello di utilizzare la funzione `len()` che, applicata ad un'array, ritorna un valore intero che ne misura la lunghezza. L'ultimo elemento sarà quindi quello in posizione `len(l) - 1`.\n",
    "2. Un'altro metodo è quello di utilizzare indici negativi. E' infatti possibile richiamare con l'operatore di slicing anche indici negativi. Quello che farà Python sarà accedere all'array contando al contrario, dalla fine verso l'inizio. L'ultimo elemento sarà quindi quello con indice `-1`.\n",
    "3. Infine, il metodo più semplice (ma non il più chiaro) di accedere all'ultimo elemento di un'array (o similmente al primo), è quello di lasciare semplicemente vuoto il rispettivo campo nello slicing. Infatti, una scrittura del tipo `2::2`, indica che vogliamo estrarre dall'array il sotto-array ottenuto prendendo gli elementi dal posto 2, fino alla fine (poiché il valore di `fine` non è inserito), con uno step pari a 2."
   ]
  },
  {
   "cell_type": "code",
   "execution_count": null,
   "metadata": {},
   "outputs": [],
   "source": [
    "# Definisco un'array\n",
    "a: list[int] = [1, -1, 0, 1, 3, -2, 1]\n",
    "print(f\"Il numero di elementi di a è: {len(a)}.\")\n",
    "\n",
    "# Estraggo gli elementi dal posto 2 fino alla fine\n",
    "print(a[2:len(a)]) # Da 2 fino len(a) - 1.\n",
    "print(a[2:-1]) # Da 2 fino a -1.\n",
    "print(a[2:]) # Da 2 fino in fondo"
   ]
  },
  {
   "cell_type": "markdown",
   "metadata": {},
   "source": [
    "Utilizzando lo slicing è possibile anche _invertire_ un'array, visualizzandola al contrario. Per fare ciò è sufficiente considerare uno slicing che parte dalla fine, arriva all'inizio dell'array, con `step = -1`."
   ]
  },
  {
   "cell_type": "code",
   "execution_count": null,
   "metadata": {},
   "outputs": [],
   "source": [
    "# Definisco un'array\n",
    "a: tuple[int] = (1, 2, 3)\n",
    "print(a[::-1]) # Array invertito"
   ]
  },
  {
   "cell_type": "markdown",
   "metadata": {},
   "source": [
    "### Liste\n",
    "\n",
    "Un grande vantaggio delle liste è il loro essere modificabili. Questo significa che è possibile accedere (tramite lo slicing) ad un suo elemento, e cambiarne il valore in fase successiva alla creazione della variabile."
   ]
  },
  {
   "cell_type": "code",
   "execution_count": null,
   "metadata": {},
   "outputs": [],
   "source": [
    "# Creazione di una lista\n",
    "a = [1, 2, 3]\n",
    "print(a)\n",
    "\n",
    "# Modificare un elemento\n",
    "a[1] = -1\n",
    "print(a)"
   ]
  },
  {
   "cell_type": "markdown",
   "metadata": {},
   "source": [
    "O, utilizzando il metodo `.append(valore)`, è possibile inserire un'elemento in fondo alla lista, aumentandone la lunghezza di 1, oppure inserire un'elemento addizionale in una posizione specifica tramite il metodo `.insert(posizione, valore)`."
   ]
  },
  {
   "cell_type": "code",
   "execution_count": null,
   "metadata": {},
   "outputs": [],
   "source": [
    "# Creo una lista\n",
    "a = [1, 2, 3]\n",
    "print(a)\n",
    "\n",
    "# Aggiungo un valore in fondo\n",
    "a.append(4)\n",
    "print(a)\n",
    "\n",
    "# Aggiungo un valore in posto 1\n",
    "a.insert(1, 10)\n",
    "print(a)"
   ]
  },
  {
   "cell_type": "markdown",
   "metadata": {},
   "source": [
    "E' infine possibile concatenare due liste utilizzando l'operatore `+`. Infatti, date due liste `a` e `b`, definita `c = a + b`, si ha che `c` sarà una lista che contiene tutti gli elementi di `a` e tutti gli elementi di `b`, in successione."
   ]
  },
  {
   "cell_type": "code",
   "execution_count": null,
   "metadata": {},
   "outputs": [],
   "source": [
    "# Definisco due liste\n",
    "a = [\"Ciao\", \"a\"]\n",
    "b = [\"tutti\", \"!\"]\n",
    "\n",
    "# Concateno le due liste\n",
    "c = a + b\n",
    "\n",
    "# Visualizzo il risultato\n",
    "print(c)"
   ]
  },
  {
   "cell_type": "markdown",
   "metadata": {},
   "source": [
    "### Tuple\n",
    "Le tuple rappresentano in Python la versione di array alternativa alle liste. Come già detto, vengono definite mediante un'elenco di valori, separati da una virgola `,` e spesso circoscritti da delle parentesi tonde `()`. Le parentesi tonde non sono però fondamentali, poiché la vera caratterizzazione delle tuple sono proprio le virgole che ne separano gli oggetti, non le parentesi."
   ]
  },
  {
   "cell_type": "code",
   "execution_count": null,
   "metadata": {},
   "outputs": [],
   "source": [
    "# Definisco una tupla \"classica\"\n",
    "a = (1, 3, 2)\n",
    "print(f\"a = {a}.\")\n",
    "\n",
    "# E una versione senza parentesi tonde\n",
    "b = 1, 3, 2\n",
    "print(f\"b = {b}.\")"
   ]
  },
  {
   "cell_type": "markdown",
   "metadata": {},
   "source": [
    "```{warning}\n",
    "Per lo stesso motivo, dichiarare una tupla con un solo elemento all'interno, non può essere fatto scrivendo un valore circoscritto da parentesi tonde, come ad esempio `a = (3)`, poiché non essendoci le virgole, questo oggetto non verrà riconosciuto come tupla. \n",
    "\n",
    "Per ottenere una tupla con un singolo elemento, è necessario scrivere espressioni del tipo: `a = (3,)`.\n",
    "```"
   ]
  },
  {
   "cell_type": "code",
   "execution_count": null,
   "metadata": {},
   "outputs": [],
   "source": [
    "# Costruisco una tupla con un singolo elemento (modo corretto)\n",
    "a = (3,)\n",
    "print(type(a))\n",
    "\n",
    "# Costruisco una tupla con un singolo elemento (modo sbagliato)\n",
    "b = (3)\n",
    "print(type(b))"
   ]
  },
  {
   "cell_type": "markdown",
   "metadata": {},
   "source": [
    "Come già detto, una volta definita una tuple, provare a modificarne un'elemento restituisce errore."
   ]
  },
  {
   "cell_type": "code",
   "execution_count": null,
   "metadata": {},
   "outputs": [],
   "source": [
    "# Creo una tupla\n",
    "a: tuple[int] = (1, 3, 2)\n",
    "\n",
    "# Modifico il suo elemento di posto 1\n",
    "a[1] = 1"
   ]
  },
  {
   "cell_type": "markdown",
   "metadata": {},
   "source": [
    "Per tutte le altre situazioni, le tuple si comportano in maniera molto simile alle liste. Ad esempio, si possono concatenare con l'operatore `+`."
   ]
  },
  {
   "cell_type": "code",
   "execution_count": null,
   "metadata": {},
   "outputs": [],
   "source": [
    "# Creo due tuple\n",
    "a: tuple[int] = (1, 3, 2)\n",
    "b: tuple[int] = (9, 5, 8)\n",
    "\n",
    "# Concateno le tuple\n",
    "c = a + b\n",
    "print(c)"
   ]
  },
  {
   "cell_type": "markdown",
   "metadata": {},
   "source": [
    "Ci chiediamo quindi: perché utilizzare le tuple rispetto alle liste, e in quali situazioni è conveniente?\n",
    "\n",
    "Prima di tutto, un questione di memoria: data la loro immutabilità, le tuple sono salvate in memoria in modo molto più efficiente rispetto alle liste, e questo le rende migliori dal punto di vista dell'efficienza.\n",
    "\n",
    "Inoltre, a livello sintattico, la loro forza risiede nell'assegnazione multipla. Infatti, è possibile distribuire i valori di una tupla a più variabili semplicemente utilizzando le tuple. Ad esempio:"
   ]
  },
  {
   "cell_type": "code",
   "execution_count": null,
   "metadata": {},
   "outputs": [],
   "source": [
    "# Creo una tupla\n",
    "risultato = (5, \"Rosso\")\n",
    "\n",
    "# Assegno il valore della tupla a delle variabili\n",
    "posizione, colore = risultato\n",
    "print(posizione)\n",
    "print(colore)"
   ]
  },
  {
   "cell_type": "markdown",
   "metadata": {},
   "source": [
    "Questo è particolarmente comodo in varie situazioni, come vedremo più avanti nel corso."
   ]
  },
  {
   "cell_type": "markdown",
   "metadata": {},
   "source": [
    "### Approfondimento 1: Puntatori"
   ]
  },
  {
   "cell_type": "markdown",
   "metadata": {},
   "source": [
    "Andiamo qui a discutere alcuni casi limiti in cui si potrebbe incorrere utilizzando array in Python, ed in particolare le liste. Il problema è il seguente: supponiamo di definire una variabile `a`, che rappresenta una lista. Al momento della dichiarazione, verranno caricate in memoria tutte le variabili necessarie, e la lista risultante verrà associata all'elemento `a`.\n",
    "\n",
    "Ora, supponiamo di definire una seconda variabile `b = a`. Tramite questa istruzione, Python **non** andrà a creare una nuova lista `b`, dentro cui caricherà una copia degli elementi di `a`, ma semplicemente definirà la variabile `b` come un'oggetto che punta alla stessa cella di memoria in cui è contenuto `a`. Per questo motivo, andando a modificare `a`, anche la variabile `b` verrà modificata."
   ]
  },
  {
   "cell_type": "code",
   "execution_count": null,
   "metadata": {},
   "outputs": [],
   "source": [
    "# Definisco una lista\n",
    "a: list[str] = [\"Mi\", \"chiamo\", \"Luca\"]\n",
    "print(a)\n",
    "\n",
    "# Assegno una nuova variabile allo stesso oggetto\n",
    "b = a\n",
    "print(b)\n",
    "\n",
    "# Modifico a\n",
    "a[-1] = \"Davide\"\n",
    "print(a)\n",
    "print(b)\n",
    "\n",
    "# O anche\n",
    "a.append(\"Evangelista\")\n",
    "print(b)"
   ]
  },
  {
   "cell_type": "markdown",
   "metadata": {},
   "source": [
    "Per evitare che questo accada (e quindi assegnare a `b` una copia dell'oggetto a cui è associato `a`), è necessario utilizzare un semplice work-around:"
   ]
  },
  {
   "cell_type": "code",
   "execution_count": null,
   "metadata": {},
   "outputs": [],
   "source": [
    "# Definisco una lista\n",
    "a: list[str] = [\"Mi\", \"chiamo\", \"Luca\"]\n",
    "print(a)\n",
    "\n",
    "# Assegno una nuova variabile allo stesso oggetto\n",
    "b = a[:] # Attenzione ai [:].\n",
    "print(b)\n",
    "\n",
    "# Modifico a\n",
    "a[-1] = \"Davide\"\n",
    "print(a)\n",
    "print(b)"
   ]
  },
  {
   "cell_type": "markdown",
   "metadata": {},
   "source": [
    "Chiaramente, il \"problema\" del puntare allo stesso oggetto non si verifica nel caso in cui la nuova variabile si ottiene tramite operazioni sulla vecchia variabile:"
   ]
  },
  {
   "cell_type": "code",
   "execution_count": null,
   "metadata": {},
   "outputs": [],
   "source": [
    "# Definisco una lista\n",
    "a: list[str] = [\"Mi\", \"chiamo\", \"Luca\"]\n",
    "print(a)\n",
    "\n",
    "# Assegno una nuova variabile\n",
    "b = a + [\"Evangelista\"]\n",
    "\n",
    "# Modifico a\n",
    "a[-1] = \"Davide\"\n",
    "print(a)\n",
    "print(b)"
   ]
  },
  {
   "cell_type": "markdown",
   "metadata": {},
   "source": [
    "### Approfondimento 2: Inizializzazione"
   ]
  },
  {
   "cell_type": "markdown",
   "metadata": {},
   "source": [
    "La possibilità di aggiungere elementi in una lista, non viene senza conseguenze. Infatti, utilizzando il metodo `.append()` per aggiungere elementi ad una lista, esegue la seguente serie di steps:\n",
    "\n",
    "1. Viene creata una nuova lista, copia della prima, con lunghezza 1 in più della lista di partenza.\n",
    "2. L'ultimo elemento della nuova lista corrisponde all'elemento indicato col metodo `.append()`.\n",
    "3. La lista iniziale viene eliminata (per opera del _garbage collector_).\n",
    "\n",
    "Come risultato, lo spazio in memoria richiesto per allungare una lista data di un elemento è doppio rispetto alla memoria occupata dalla lista stessa. Questo può diventare proibitivo in alcune applicazioni, dove la lista viene allungata varie volte nel giro di un singolo programma.\n",
    "\n",
    "Per questo motivo, quando ci si aspetta a priori di dover allungare una lista, è buona pratica inizializzare una **lista vuota** (utilizzando un valore di default, tipo lo 0), i cui elementi verranno sostituiti durante l'esecuzione del programma. Questa fase, chiamata **inizializzazione**, permette di rendere il codice molto più efficiente in alcuni scenari, come ad esempio quando la lista viene utilizzata per memorizzare alcune informazioni durante le iterazioni di un algoritmo (tipo l'andamento di un'errore)."
   ]
  },
  {
   "cell_type": "code",
   "execution_count": null,
   "metadata": {},
   "outputs": [],
   "source": [
    "# Inizializzo una lista vuota (lunga 4)\n",
    "a: list[int] = [0] * 4\n",
    "\n",
    "# Inserisco gli elementi al suo interno\n",
    "a[0] = 1\n",
    "a[1] = 2\n",
    "a[2] = 3\n",
    "a[3] = 4\n",
    "print(a)"
   ]
  }
 ],
 "metadata": {
  "language_info": {
   "name": "python"
  }
 },
 "nbformat": 4,
 "nbformat_minor": 2
}
