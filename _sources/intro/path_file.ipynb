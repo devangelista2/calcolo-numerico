{
 "cells": [
  {
   "cell_type": "markdown",
   "metadata": {},
   "source": [
    "# Gestione del `path` e files\n",
    "In questa sezione, andremo ad introdurre un concetto estremamente importante, ovvero quello di `path` (assoluto e relativo), e `working directory`. \n",
    "\n",
    "I path sono delle stringhe che indicano l'indirizzo di un file o di una directory all'interno del computer. Quando si specifica un path su Python, è importante distinguere tra il path assoluto e il path relativo.\n",
    "\n",
    "* **Path assoluto:** Specifica l'intero percorso a partire dalla directory radice. È un percorso completo che include tutte le directory necessarie per raggiungere il file o la directory desiderata.\n",
    "Ad esempio, un file `esempio.txt`, presente sul Desktop, avrà il seguente path:\n",
    "    - Su macOS/Linux: `/Users/nomeUtente/Desktop/esempio.txt`\n",
    "    - Su Windows: `C:\\Users\\nomeUtente\\Desktop\\esempio.txt`\n",
    "\n",
    "* **Path relativo:** Specifica il percorso rispetto alla directory corrente. Ad esempio, se ci troviamo nel percorso `/Users/nomeUtente/`, un percorso relativo per il file `esempio.txt` sarebbe: `./Desktop/esempio.txt`.\n",
    "\n",
    "A tal proposito, un concetto importante è quello della directory corrente (o **working directory**). Questo rappresenta la directory in cui il programma Python sta operando, ovvero la *radice* del progetto Python su cui stiamo lavorando. E' importante ricordare che **tutti** i percorsi dei file (per lettura/scrittura), devono essere dati rispetto alla working directory. Altrimenti, si occorre in un'errore.\n",
    "\n",
    "```{warning}\n",
    "Nel seguito, i comandi verranno sempre indicati seguendo la notazione di macOS/Linux. Ricordarsi di modificare la notazione nel caso in cui si lavori con sistemi Windows.\n",
    "```"
   ]
  },
  {
   "cell_type": "markdown",
   "metadata": {},
   "source": [
    "### Librerie `os` e `glob`\n",
    "Quando si tratta di gestione del path, due librerie built-in svolgono un ruolo di primaria importanza: la libreria `os` e la libreria `glob`. Essendo built-in, è possibile semplicemente caricarle in memoria utilizzando il comando `import os` e `import glob`, rispettivamente.\n",
    "\n",
    "Vediamo ad esempio come visualizzare e come modificare la working directory, tramite la libreria `os`."
   ]
  },
  {
   "cell_type": "code",
   "execution_count": null,
   "metadata": {},
   "outputs": [],
   "source": [
    "import os\n",
    "\n",
    "# Visualizza la directory di lavoro corrente\n",
    "print(os.getcwd())\n",
    "\n",
    "# Modifica la directory di lavoro (se necessario)\n",
    "os.chdir(\"/Users/davideevangelista/Desktop\")\n",
    "print(os.getcwd())  # Verifica che la working directory sia cambiata"
   ]
  },
  {
   "cell_type": "markdown",
   "metadata": {},
   "source": [
    "Oltre a queste, la libreria `os` offre varie funzioni per gestire i path. Infatti, alcune funzioni rilevanti di tale libreria sono:\n",
    "\n",
    "* `os.path.join(path1, path2, ...)`: Prende in input una serie di stringhe e ritorna in output il path ottenuto concatenando tali stringhe, inserendo automaticamente il separatore corretto in base al sistema operativo.\n",
    "\n",
    "* `os.listdir(path)`: Dato un path in input, ritorna l'elenco di tutti i files e le directory contenuti in esso, nella forma di una lista.\n",
    "\n",
    "* `os.path.exists(path)`: Dato un path in input, ritorna `True` se tale path esiste, `False` altrimenti.\n",
    "\n",
    "* `os.makedirs(path, exists_ok=True)`: Preso in input un path, non fa niente se il path richiesto esiste. Crea invece tutte le cartelle necessarie per costruirlo, se tale path non esiste.\n",
    "\n",
    "Vediamo alcuni esempi:"
   ]
  },
  {
   "cell_type": "code",
   "execution_count": null,
   "metadata": {},
   "outputs": [],
   "source": [
    "# Consideriamo una cartella \"data\", e supponiamo di avere al suo interno un file\n",
    "# \"esempio.txt\"\n",
    "data_path = \"./data\"\n",
    "file_name = \"esempio.txt\"\n",
    "\n",
    "# Costruiamo il percorso per il file\n",
    "path_file = os.path.join(data_path, file_name)\n",
    "print(path_file)\n",
    "\n",
    "# Verifica se il path per il file esiste, se no, costuiamolo\n",
    "if os.path.exists(data_path):\n",
    "    os.makedirs(data_path, exist_ok=True)\n",
    "\n",
    "# Vediamo se ora esiste\n",
    "print(os.path.exists(data_path))"
   ]
  },
  {
   "cell_type": "markdown",
   "metadata": {},
   "source": [
    "La libreria `glob`, invece, ha funzionalità simili a quelle di `os`, ma è utilizzata principalmente perché permette di selezionare dei files all'interno di un percorso, filtrandoli rispetto ad alcune proprietà."
   ]
  },
  {
   "cell_type": "code",
   "execution_count": null,
   "metadata": {},
   "outputs": [],
   "source": [
    "import glob\n",
    "\n",
    "# Cerca tutti i file .txt nella directory ./data\n",
    "data_path = \"./data\"\n",
    "file_txt = glob.glob(os.path.join(data_path, \"*.txt\"))\n",
    "print(file_txt)\n",
    "\n",
    "# Oppure in tutte le sue sub-directory\n",
    "file_python = glob.glob(os.path.join(data_path, \"**\", \"*.txt\"), recursive=True)\n",
    "print(file_python)"
   ]
  },
  {
   "cell_type": "markdown",
   "metadata": {},
   "source": [
    "### Lettura/scrittura di files\n",
    "\n",
    "**Work in progress...**"
   ]
  }
 ],
 "metadata": {
  "language_info": {
   "name": "python"
  }
 },
 "nbformat": 4,
 "nbformat_minor": 2
}
