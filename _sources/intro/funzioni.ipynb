{
 "cells": [
  {
   "cell_type": "markdown",
   "metadata": {},
   "source": [
    "# Funzioni\n",
    "\n",
    "Altro strumento di fondamentale importanza in praticamente qualunque linguaggio di programmazione sono le funzioni. Una funzione è un'oggetto che prende in ingresso dei valori (detti `input`), esegue delle operazioni su tali valori, e restituisce in `output` il risultato. La gran parte delle funzionalità di Python che abbiamo già visto sono funzione (ad esempio, la funzione `print()`, la funzione `len()` e la funzione `type()`).\n",
    "\n",
    "Le funzioni sono definite in Python tramite il comando `def`:\n",
    "\n",
    "```\n",
    "def NOME_FUNZIONE(INPUT1, INPUT2):\n",
    "    # Esecuzione di operazioni sugli input\n",
    "    \n",
    "    return OUTPUT \n",
    "```\n",
    "\n",
    "Una volta definita la funzione, è possibile utilizzarla nel codice semplice richiamando il suo nome e inserendo tra parentesi tonde gli input su cui calcolarla. \n",
    "\n",
    "Vediamo ad esempio come implementare in Python una funzione che prende in input due numeri e ne ritorna il prodotto."
   ]
  },
  {
   "cell_type": "code",
   "execution_count": null,
   "metadata": {},
   "outputs": [],
   "source": [
    "def calcola_prodotto(n1: float, n2: float) -> float:\n",
    "    r\"\"\"\n",
    "    Dati in input due numeri n1 ed n2, restituisce il prodotto tra n1 e n2.\n",
    "\n",
    "    Parameters:\n",
    "    \n",
    "    n1 (int): Primo numero\n",
    "    n2 (int): Secondo numero\n",
    "\n",
    "    Returns:\n",
    "    (int): Risultato di n1 * n2\n",
    "    \"\"\"\n",
    "    risultato: float = n1 * n2 # Computazione\n",
    "    return risultato # Output"
   ]
  },
  {
   "cell_type": "markdown",
   "metadata": {},
   "source": [
    "Un paio di osservazioni sulla funzione appena definita. Nella definizione della funzione, dopo il nome della funzione stessa, abbiamo elencato gli input (in questo caso, `n1` e `n2`), che sono stati tipizzati come `float`. Come sempre, questa operazione è **facoltativa**, ma fortemente raccomandata poiché aiuta molto la lettura del codice da parte di un autore esterno. Allo stesso modo, il tipo dell'output che ci si aspetta è inserito subito prima dei `:`, dopo la freccia `->`.\n",
    "\n",
    "Inoltre, subito dopo la dichiarazione del nome della funzione e dei suoi input, abbiamo inserito una documentazione nella forma di un commento multilinea. La formattazione di tale documentazione (che ha lo scopo di spiegare cosa fa la funzione, oltre che del significato dei vari inputs), è a preferenza dello studente. Quanto proposto dall'esempio sopra è considerato lo standard di Python ad oggi.\n",
    "\n",
    "Vediamo ora come utilizzare la funzione sopra all'interno di uno script."
   ]
  },
  {
   "cell_type": "code",
   "execution_count": null,
   "metadata": {},
   "outputs": [],
   "source": [
    "# Definisco due numeri\n",
    "n1: float = 3.2\n",
    "n2: float = 2\n",
    "\n",
    "n: float = calcola_prodotto(n1, n2)\n",
    "print(f\"{n1} x {n2} = {n}.\")"
   ]
  },
  {
   "cell_type": "markdown",
   "metadata": {},
   "source": [
    "### La documentazione e la funzione `help`\n",
    "\n",
    "Come detto, lo scopo della documentazione è quello di permettere ad utenti terzi di utilizzare la funzione senza necessariamente conoscerne l'implementazione. Tutte le funzioni di Python presentano una documentazione sul loro utilizzo.\n",
    "\n",
    "Tale documentazione può essere visualizzata in due modi: tramite la funzione `help()`, oppure (nei moderni editor di codice come VSCode), tramite la finestra che appare automaticamente una volta dichiarato il nome della funzione. Ad esempio:"
   ]
  },
  {
   "cell_type": "code",
   "execution_count": null,
   "metadata": {},
   "outputs": [],
   "source": [
    "# Visualizziamo l'help della funzione da noi definita\n",
    "print(help(calcola_prodotto))"
   ]
  },
  {
   "cell_type": "markdown",
   "metadata": {},
   "source": [
    "### Funzioni senza output\n",
    "\n",
    "Chiaramente, non tutte le funzioni resistuiscono un output nella forma di una variabile. Ad esempio, la funzione `print()` non restituisce alcun valore di output, ma stampa soltanto la stringa passata in input nella console. Stessa cosa vale per la funzione `help()`.\n",
    "\n",
    "Costruire una funzione che non ritorna alcun valore è semplice, basta omettere il comando `return`. Tale funzione verrà eseguita senza ritornare nulla come output. Di default, questo equivale a dire che se il risultato della funzione viene assegnato ad una variabile, questo assumerà il valore `None`.\n",
    "\n",
    "Quando si definice una funzione che non ritorna nulla, è buona usanza tipizzare il suo output specificando che varrà `None`.\n",
    "\n",
    "Costruiamo ad esempio una funzione che, presa in input un nome proprio, stampa a schermo il testo _Ciao, NOME_, senza ritornare alcun valore."
   ]
  },
  {
   "cell_type": "code",
   "execution_count": null,
   "metadata": {},
   "outputs": [],
   "source": [
    "def saluti(nome: str) -> None:\n",
    "    r\"\"\"\n",
    "    Stampa a schermo dei saluti diretti al nome inserito in input.\n",
    "\n",
    "    Parameters:\n",
    "    nome (str): Il nome da salutare.\n",
    "    \"\"\"\n",
    "    print(f\"Ciao, {nome}!\")\n",
    "\n",
    "# Esempio\n",
    "nome: str = \"Davide\"\n",
    "saluti(nome)"
   ]
  },
  {
   "cell_type": "markdown",
   "metadata": {},
   "source": [
    "E, se associamo una variabile al risultato della funzione, come detto questo varrà `None`."
   ]
  },
  {
   "cell_type": "code",
   "execution_count": null,
   "metadata": {},
   "outputs": [],
   "source": [
    "output = saluti(nome)\n",
    "print(output)"
   ]
  },
  {
   "cell_type": "markdown",
   "metadata": {},
   "source": [
    "### Funzioni multi-output\n",
    "In alcune occasioni, è necessario definire funzioni che restituiscono più di un output. Dal punto di vista implementativo, questo si può fare semplicemente elencando tutte le variabili da restituire di output, separate da una virgola.\n",
    "\n",
    "Ad esempio, definiamo una funzione che, presi in input due numeri, ritorna la loro somma e il loro prodotto."
   ]
  },
  {
   "cell_type": "code",
   "execution_count": null,
   "metadata": {},
   "outputs": [],
   "source": [
    "def somma_e_prodotto(n1: float, n2: float) -> float:\n",
    "    r\"\"\"\n",
    "    Presi in input i numeri n1 e n2, ne ritorna somma e prodotto.\n",
    "\n",
    "    Parameters:\n",
    "    n1 (float): Primo numero\n",
    "    n2 (float): Secondo numero\n",
    "\n",
    "    Returns:\n",
    "    (float): n1 + n2\n",
    "    (float): n1 * n2\n",
    "    \"\"\"\n",
    "    somma = n1 + n2\n",
    "    prodotto = n1 * n2\n",
    "    return somma, prodotto\n",
    "\n",
    "# Esempio\n",
    "n1: float = 4.0\n",
    "n2: float = - 2.0\n",
    "somma, prodotto = somma_e_prodotto(n1, n2)\n",
    "\n",
    "print(f\"{n1} + {n2} = {somma}. {n1} x {n2} = {prodotto}.\")"
   ]
  },
  {
   "cell_type": "markdown",
   "metadata": {},
   "source": [
    "Che cosa succede se associamo l'output di una funzione multi-output ad una sola variabile?"
   ]
  },
  {
   "cell_type": "code",
   "execution_count": null,
   "metadata": {},
   "outputs": [],
   "source": [
    "# Esempio\n",
    "n1: float = 4.0\n",
    "n2: float = - 2.0\n",
    "risultato = somma_e_prodotto(n1, n2)\n",
    "\n",
    "print(risultato)"
   ]
  },
  {
   "cell_type": "markdown",
   "metadata": {},
   "source": [
    "Come già spiegato, la virgola `,` che separa gli output della funzione, definisce in Python una `tupla`. Il multi-output sarà quindi una tupla, che contiene come elementi gli output della funzione, ordinati."
   ]
  },
  {
   "cell_type": "markdown",
   "metadata": {},
   "source": [
    "### Funzioni come oggetti\n",
    "Una proprietà interessante di Python è che le funzioni possono essere associate a delle variabili, e utilizzate come dei comuni oggetti, al pari di stringhe, interi e simili.\n",
    "\n",
    "In particolare, è possibile passare funzioni in input ad altre funzioni. Vediamo un esempio."
   ]
  },
  {
   "cell_type": "code",
   "execution_count": null,
   "metadata": {},
   "outputs": [],
   "source": [
    "# Definiamo una funzione che preso in input un numero x, ritorna il suo quadrato\n",
    "def quadrato(x: float) -> float:\n",
    "    r\"\"\"\n",
    "    Ritorna il quadrato del valore preso in input.\n",
    "\n",
    "    Parameters:\n",
    "    x (float): Numero in input\n",
    "\n",
    "    Returns:\n",
    "    (float) x^2\n",
    "    \"\"\"\n",
    "    risultato = x**2\n",
    "    return risultato\n",
    "\n",
    "# Ora, associamo la funzione ad una variabile, f\n",
    "f = quadrato\n",
    "print(quadrato)\n",
    "print(f(3))"
   ]
  },
  {
   "cell_type": "markdown",
   "metadata": {},
   "source": [
    "Come è possibile vedere, la variabile `f` rappresenta ora la funzione. Vediamo come usarla come input di un'ulteriore funzione che, presa in input una funzione `f` e una tupla `x = (x1, x2, ..., xn)`, ritorna il valore della funzione `f` applicata a ciascun elemento della tupla."
   ]
  },
  {
   "cell_type": "code",
   "execution_count": null,
   "metadata": {},
   "outputs": [],
   "source": [
    "def elemento_per_elemento(f, x: tuple[float]) -> list[float]:\n",
    "    r\"\"\"\n",
    "    Presa in input una funzione f e una tupla di float x, ritorna una lista\n",
    "    della stessa lunghezza di x, i cui elementi sono gli f(xi).\n",
    "\n",
    "    Parameters:\n",
    "    f (function): La funzione da applicare elemento per elemento\n",
    "    x (tuple): Una tupla di numeri float\n",
    "\n",
    "    Returns:\n",
    "    (list): Una tupla contenente gli f(xi)\n",
    "    \"\"\"\n",
    "    # Inizializiamo la tupla di output (per salvare memoria)\n",
    "    y = [0] * len(x)\n",
    "\n",
    "    # Cicliamo sugli elementi di x\n",
    "    for i in range(len(x)):\n",
    "        xi = x[i] # Estraiamo l'i-esimo elemento di x\n",
    "\n",
    "        y[i] = f(xi) # Calcoliamo f su xi\n",
    "    \n",
    "    return y"
   ]
  },
  {
   "cell_type": "markdown",
   "metadata": {},
   "source": [
    "Il vantaggio di tale approccio, è che la funzione sopra definita può essere ri-utilizzata su qualunque altra funzione che vogliamo applicare elemento per elemento ad una tupla di numeri. "
   ]
  },
  {
   "cell_type": "code",
   "execution_count": null,
   "metadata": {},
   "outputs": [],
   "source": [
    "def quadrato(x: float) -> float:\n",
    "    r\"\"\"\n",
    "    Ritorna il quadrato del valore preso in input.\n",
    "\n",
    "    Parameters:\n",
    "    x (float): Numero in input\n",
    "\n",
    "    Returns:\n",
    "    (float) x^2\n",
    "    \"\"\"\n",
    "    risultato = x**2\n",
    "    return risultato\n",
    "\n",
    "def cubo(x: float) -> float:\n",
    "    r\"\"\"\n",
    "    Ritorna il cubo del valore preso in input.\n",
    "\n",
    "    Parameters:\n",
    "    x (float): Numero in input\n",
    "\n",
    "    Returns:\n",
    "    (float) x^3\n",
    "    \"\"\"\n",
    "    risultato = x**3\n",
    "    return risultato\n",
    "\n",
    "# Esempio\n",
    "x_vec: tuple[float] = (1, 2, 3, 4, 5)\n",
    "\n",
    "x_vec_quadrato = elemento_per_elemento(quadrato, x_vec)\n",
    "x_vec_cubo = elemento_per_elemento(cubo, x_vec)\n",
    "\n",
    "print(x_vec_quadrato)\n",
    "print(x_vec_cubo)\n"
   ]
  },
  {
   "cell_type": "markdown",
   "metadata": {},
   "source": [
    "### Funzioni `lambda`"
   ]
  }
 ],
 "metadata": {
  "language_info": {
   "name": "python"
  }
 },
 "nbformat": 4,
 "nbformat_minor": 2
}
