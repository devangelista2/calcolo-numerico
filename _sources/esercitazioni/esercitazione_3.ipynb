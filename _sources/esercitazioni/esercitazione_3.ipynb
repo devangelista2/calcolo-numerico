{
 "cells": [
  {
   "cell_type": "markdown",
   "metadata": {},
   "source": [
    "# Esercitazione: Approssimazione di dati e Ottimizzazione\n",
    "\n",
    "```{warning}\n",
    "Lo svolgimento di questa esercitazione è **obbligatoria** per sostenere l'esame. L'esercitazione può essere consegnata in qualiasi momento e NON è richiesto di consegnarla entro una specifica data. L'unico vincolo è che **dovrà** essere consegnata su Virtuale *prima* del proprio esame scritto, poiché i risultati di tale esercitazione saranno discussi durante l'esame orale.\n",
    "\n",
    "L'esercitazione dovrà essere svolta eseguendo tutte le prove richieste, e i risultati dovranno essere collezionati e brevemente commentati tramite una delle due seguenti modalità:\n",
    "- Un documento PDF (o Word) contenente uno screenshot dello snippet di codice, i risultati associati a tale snippet, e un commento a tali risultati.\n",
    "- Un Notebook di Python come quelli utilizzati a lezione, con celle di codice contenenti le soluzioni agli esercizi, alternate ad un breve commento degli esercizi stessi. Tuttavia, i codici **NON** devono essere lanciati durante l'esame, ma lo studente deve presentarsi all'esame con il programma già eseguito e con l'output delle celle ancora visibile.\n",
    "\n",
    "Presentarsi all'esame con codice completo ma ancora da eseguire o senza una versione PDF con risultati già presenti, può compromettere la riuscita dell'esame orale.\n",
    "```"
   ]
  }
 ],
 "metadata": {
  "kernelspec": {
   "display_name": "teaching",
   "language": "python",
   "name": "python3"
  },
  "language_info": {
   "codemirror_mode": {
    "name": "ipython",
    "version": 3
   },
   "file_extension": ".py",
   "mimetype": "text/x-python",
   "name": "python",
   "nbconvert_exporter": "python",
   "pygments_lexer": "ipython3",
   "version": "3.12.4"
  }
 },
 "nbformat": 4,
 "nbformat_minor": 2
}
